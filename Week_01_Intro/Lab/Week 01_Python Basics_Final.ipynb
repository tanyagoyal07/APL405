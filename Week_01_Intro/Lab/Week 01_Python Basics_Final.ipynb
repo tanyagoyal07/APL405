{
 "cells": [
  {
   "cell_type": "markdown",
   "metadata": {},
   "source": [
    "# Python 101\n",
    "Reference: https://opensource.com/resources/python"
   ]
  },
  {
   "cell_type": "markdown",
   "metadata": {},
   "source": [
    "## Primitive datatypes and operators"
   ]
  },
  {
   "cell_type": "markdown",
   "metadata": {},
   "source": [
    "Numbers come in two varieties, integers and floating point\n"
   ]
  },
  {
   "cell_type": "code",
   "execution_count": 16,
   "metadata": {},
   "outputs": [
    {
     "data": {
      "text/plain": [
       "3"
      ]
     },
     "execution_count": 16,
     "metadata": {},
     "output_type": "execute_result"
    }
   ],
   "source": [
    "3"
   ]
  },
  {
   "cell_type": "code",
   "execution_count": 17,
   "metadata": {},
   "outputs": [
    {
     "data": {
      "text/plain": [
       "1.2"
      ]
     },
     "execution_count": 17,
     "metadata": {},
     "output_type": "execute_result"
    }
   ],
   "source": [
    "1.2"
   ]
  },
  {
   "cell_type": "markdown",
   "metadata": {},
   "source": [
    "Math works exactly like you would expect."
   ]
  },
  {
   "cell_type": "code",
   "execution_count": 18,
   "metadata": {},
   "outputs": [
    {
     "data": {
      "text/plain": [
       "5"
      ]
     },
     "execution_count": 18,
     "metadata": {},
     "output_type": "execute_result"
    }
   ],
   "source": [
    "2 + 3"
   ]
  },
  {
   "cell_type": "code",
   "execution_count": 19,
   "metadata": {},
   "outputs": [
    {
     "data": {
      "text/plain": [
       "4"
      ]
     },
     "execution_count": 19,
     "metadata": {},
     "output_type": "execute_result"
    }
   ],
   "source": [
    "6 - 2"
   ]
  },
  {
   "cell_type": "code",
   "execution_count": 20,
   "metadata": {},
   "outputs": [
    {
     "data": {
      "text/plain": [
       "21"
      ]
     },
     "execution_count": 20,
     "metadata": {},
     "output_type": "execute_result"
    }
   ],
   "source": [
    "3 * 7"
   ]
  },
  {
   "cell_type": "markdown",
   "metadata": {},
   "source": [
    "We use `/` for true division and `//` for integer division (floor division)."
   ]
  },
  {
   "cell_type": "code",
   "execution_count": 21,
   "metadata": {},
   "outputs": [
    {
     "data": {
      "text/plain": [
       "7.0"
      ]
     },
     "execution_count": 21,
     "metadata": {},
     "output_type": "execute_result"
    }
   ],
   "source": [
    "21 / 3    # The output is a floating point number, even though the division has no remainder"
   ]
  },
  {
   "cell_type": "code",
   "execution_count": 22,
   "metadata": {},
   "outputs": [
    {
     "data": {
      "text/plain": [
       "7.333333333333333"
      ]
     },
     "execution_count": 22,
     "metadata": {},
     "output_type": "execute_result"
    }
   ],
   "source": [
    "22 / 3"
   ]
  },
  {
   "cell_type": "code",
   "execution_count": 23,
   "metadata": {},
   "outputs": [
    {
     "data": {
      "text/plain": [
       "7"
      ]
     },
     "execution_count": 23,
     "metadata": {},
     "output_type": "execute_result"
    }
   ],
   "source": [
    "21 // 3"
   ]
  },
  {
   "cell_type": "code",
   "execution_count": 24,
   "metadata": {},
   "outputs": [
    {
     "data": {
      "text/plain": [
       "7"
      ]
     },
     "execution_count": 24,
     "metadata": {},
     "output_type": "execute_result"
    }
   ],
   "source": [
    "22 // 3"
   ]
  },
  {
   "cell_type": "markdown",
   "metadata": {},
   "source": [
    "The modulo operator (remainder after division) is `%`, and exponentiation is denoted by `**`."
   ]
  },
  {
   "cell_type": "code",
   "execution_count": 25,
   "metadata": {},
   "outputs": [
    {
     "data": {
      "text/plain": [
       "1"
      ]
     },
     "execution_count": 25,
     "metadata": {},
     "output_type": "execute_result"
    }
   ],
   "source": [
    "7 % 3"
   ]
  },
  {
   "cell_type": "code",
   "execution_count": 26,
   "metadata": {},
   "outputs": [
    {
     "data": {
      "text/plain": [
       "8"
      ]
     },
     "execution_count": 26,
     "metadata": {},
     "output_type": "execute_result"
    }
   ],
   "source": [
    "2**3"
   ]
  },
  {
   "cell_type": "markdown",
   "metadata": {},
   "source": [
    "Overriding operator precedence with parentheses."
   ]
  },
  {
   "cell_type": "code",
   "execution_count": 27,
   "metadata": {},
   "outputs": [
    {
     "data": {
      "text/plain": [
       "7"
      ]
     },
     "execution_count": 27,
     "metadata": {},
     "output_type": "execute_result"
    }
   ],
   "source": [
    "1 + 3 * 2"
   ]
  },
  {
   "cell_type": "code",
   "execution_count": 28,
   "metadata": {},
   "outputs": [
    {
     "data": {
      "text/plain": [
       "8"
      ]
     },
     "execution_count": 28,
     "metadata": {},
     "output_type": "execute_result"
    }
   ],
   "source": [
    "(1 + 3) * 2"
   ]
  },
  {
   "cell_type": "markdown",
   "metadata": {},
   "source": [
    "The two booleans are called `True` and `False` (note the capital letters). The boolean operators are `and`, `or` and `not`."
   ]
  },
  {
   "cell_type": "code",
   "execution_count": 29,
   "metadata": {},
   "outputs": [
    {
     "data": {
      "text/plain": [
       "False"
      ]
     },
     "execution_count": 29,
     "metadata": {},
     "output_type": "execute_result"
    }
   ],
   "source": [
    "not True"
   ]
  },
  {
   "cell_type": "code",
   "execution_count": 30,
   "metadata": {},
   "outputs": [
    {
     "data": {
      "text/plain": [
       "True"
      ]
     },
     "execution_count": 30,
     "metadata": {},
     "output_type": "execute_result"
    }
   ],
   "source": [
    "not False"
   ]
  },
  {
   "cell_type": "code",
   "execution_count": 31,
   "metadata": {},
   "outputs": [
    {
     "data": {
      "text/plain": [
       "False"
      ]
     },
     "execution_count": 31,
     "metadata": {},
     "output_type": "execute_result"
    }
   ],
   "source": [
    "True and False"
   ]
  },
  {
   "cell_type": "code",
   "execution_count": 32,
   "metadata": {},
   "outputs": [
    {
     "data": {
      "text/plain": [
       "True"
      ]
     },
     "execution_count": 32,
     "metadata": {},
     "output_type": "execute_result"
    }
   ],
   "source": [
    "False or True"
   ]
  },
  {
   "cell_type": "markdown",
   "metadata": {},
   "source": [
    "Comparison operators look like they do in most other programming languages: `==` (equal value), `!=` (not equal value), `<` (less than), `>` (greater than), `<=` (less than or equal to), `>=` (greater than or equal to)"
   ]
  },
  {
   "cell_type": "code",
   "execution_count": 33,
   "metadata": {},
   "outputs": [
    {
     "data": {
      "text/plain": [
       "True"
      ]
     },
     "execution_count": 33,
     "metadata": {},
     "output_type": "execute_result"
    }
   ],
   "source": [
    "1 == 1"
   ]
  },
  {
   "cell_type": "code",
   "execution_count": 34,
   "metadata": {},
   "outputs": [
    {
     "data": {
      "text/plain": [
       "True"
      ]
     },
     "execution_count": 34,
     "metadata": {},
     "output_type": "execute_result"
    }
   ],
   "source": [
    "1 == 1.0"
   ]
  },
  {
   "cell_type": "code",
   "execution_count": 35,
   "metadata": {},
   "outputs": [
    {
     "data": {
      "text/plain": [
       "True"
      ]
     },
     "execution_count": 35,
     "metadata": {},
     "output_type": "execute_result"
    }
   ],
   "source": [
    "1 < 10"
   ]
  },
  {
   "cell_type": "code",
   "execution_count": 36,
   "metadata": {},
   "outputs": [
    {
     "data": {
      "text/plain": [
       "False"
      ]
     },
     "execution_count": 36,
     "metadata": {},
     "output_type": "execute_result"
    }
   ],
   "source": [
    "1 > 10"
   ]
  },
  {
   "cell_type": "code",
   "execution_count": 37,
   "metadata": {},
   "outputs": [
    {
     "data": {
      "text/plain": [
       "True"
      ]
     },
     "execution_count": 37,
     "metadata": {},
     "output_type": "execute_result"
    }
   ],
   "source": [
    "2 <= 2"
   ]
  },
  {
   "cell_type": "code",
   "execution_count": 38,
   "metadata": {},
   "outputs": [
    {
     "data": {
      "text/plain": [
       "True"
      ]
     },
     "execution_count": 38,
     "metadata": {},
     "output_type": "execute_result"
    }
   ],
   "source": [
    "2 >= 2"
   ]
  },
  {
   "cell_type": "markdown",
   "metadata": {},
   "source": [
    "Chaining comparisions together."
   ]
  },
  {
   "cell_type": "code",
   "execution_count": 39,
   "metadata": {},
   "outputs": [
    {
     "data": {
      "text/plain": [
       "True"
      ]
     },
     "execution_count": 39,
     "metadata": {},
     "output_type": "execute_result"
    }
   ],
   "source": [
    "-5 != False != True    # Same as (-5 != False) and (False != True)"
   ]
  },
  {
   "cell_type": "code",
   "execution_count": 40,
   "metadata": {},
   "outputs": [
    {
     "data": {
      "text/plain": [
       "True"
      ]
     },
     "execution_count": 40,
     "metadata": {},
     "output_type": "execute_result"
    }
   ],
   "source": [
    "1 < 2 < 3              # Same as (1 < 2) and (2 < 3)"
   ]
  },
  {
   "cell_type": "markdown",
   "metadata": {},
   "source": [
    "Strings of text work as you might expect, too. Both double and single quotation marks are acceptable."
   ]
  },
  {
   "cell_type": "code",
   "execution_count": 41,
   "metadata": {},
   "outputs": [
    {
     "data": {
      "text/plain": [
       "'alpha'"
      ]
     },
     "execution_count": 41,
     "metadata": {},
     "output_type": "execute_result"
    }
   ],
   "source": [
    "\"alpha\""
   ]
  },
  {
   "cell_type": "code",
   "execution_count": 42,
   "metadata": {},
   "outputs": [
    {
     "data": {
      "text/plain": [
       "'beta'"
      ]
     },
     "execution_count": 42,
     "metadata": {},
     "output_type": "execute_result"
    }
   ],
   "source": [
    "'beta'"
   ]
  },
  {
   "cell_type": "markdown",
   "metadata": {},
   "source": [
    "Type conversion using `int`, `float`, `bool` and `str`."
   ]
  },
  {
   "cell_type": "code",
   "execution_count": 43,
   "metadata": {},
   "outputs": [
    {
     "data": {
      "text/plain": [
       "2"
      ]
     },
     "execution_count": 43,
     "metadata": {},
     "output_type": "execute_result"
    }
   ],
   "source": [
    "int(\"2\")"
   ]
  },
  {
   "cell_type": "code",
   "execution_count": 44,
   "metadata": {},
   "outputs": [
    {
     "data": {
      "text/plain": [
       "5.0"
      ]
     },
     "execution_count": 44,
     "metadata": {},
     "output_type": "execute_result"
    }
   ],
   "source": [
    "float(5)"
   ]
  },
  {
   "cell_type": "code",
   "execution_count": 45,
   "metadata": {},
   "outputs": [
    {
     "data": {
      "text/plain": [
       "False"
      ]
     },
     "execution_count": 45,
     "metadata": {},
     "output_type": "execute_result"
    }
   ],
   "source": [
    "bool(0)"
   ]
  },
  {
   "cell_type": "code",
   "execution_count": 46,
   "metadata": {},
   "outputs": [
    {
     "data": {
      "text/plain": [
       "'15.3'"
      ]
     },
     "execution_count": 46,
     "metadata": {},
     "output_type": "execute_result"
    }
   ],
   "source": [
    "str(15.3)"
   ]
  },
  {
   "cell_type": "markdown",
   "metadata": {},
   "source": [
    "## Collections and mutability"
   ]
  },
  {
   "cell_type": "markdown",
   "metadata": {},
   "source": [
    "The most fundamental type of collection in Python is the *list*. It is an *ordered* collection of an arbitrary number of objects. "
   ]
  },
  {
   "cell_type": "code",
   "execution_count": 47,
   "metadata": {},
   "outputs": [
    {
     "data": {
      "text/plain": [
       "[1, 2, 3, 4]"
      ]
     },
     "execution_count": 47,
     "metadata": {},
     "output_type": "execute_result"
    }
   ],
   "source": [
    "[1, 2, 3, 4]"
   ]
  },
  {
   "cell_type": "markdown",
   "metadata": {},
   "source": [
    "The elements of a list do not have to have the same types. Unlike in NumPy arrays which we will look at in a later section."
   ]
  },
  {
   "cell_type": "code",
   "execution_count": 48,
   "metadata": {},
   "outputs": [],
   "source": [
    "mylist = [False, 1, 2.0, \"Three\"]"
   ]
  },
  {
   "cell_type": "markdown",
   "metadata": {},
   "source": [
    "You can access the elements of a list by indexing. The first element has index **ZERO**. And goes upto **len(DS)-1**"
   ]
  },
  {
   "cell_type": "code",
   "execution_count": 49,
   "metadata": {},
   "outputs": [
    {
     "data": {
      "text/plain": [
       "False"
      ]
     },
     "execution_count": 49,
     "metadata": {},
     "output_type": "execute_result"
    }
   ],
   "source": [
    "mylist[0]"
   ]
  },
  {
   "cell_type": "code",
   "execution_count": 50,
   "metadata": {},
   "outputs": [
    {
     "data": {
      "text/plain": [
       "1"
      ]
     },
     "execution_count": 50,
     "metadata": {},
     "output_type": "execute_result"
    }
   ],
   "source": [
    "mylist[1]"
   ]
  },
  {
   "cell_type": "markdown",
   "metadata": {},
   "source": [
    "Negative indices count back from the end of the list."
   ]
  },
  {
   "cell_type": "code",
   "execution_count": 51,
   "metadata": {},
   "outputs": [
    {
     "data": {
      "text/plain": [
       "'Three'"
      ]
     },
     "execution_count": 51,
     "metadata": {},
     "output_type": "execute_result"
    }
   ],
   "source": [
    "mylist[-1]"
   ]
  },
  {
   "cell_type": "markdown",
   "metadata": {},
   "source": [
    "You can use the `len` function to get the number of elements in a list. The previous code could thus have been written like this."
   ]
  },
  {
   "cell_type": "code",
   "execution_count": 52,
   "metadata": {},
   "outputs": [
    {
     "data": {
      "text/plain": [
       "'Three'"
      ]
     },
     "execution_count": 52,
     "metadata": {},
     "output_type": "execute_result"
    }
   ],
   "source": [
    "mylist[len(mylist)-1]"
   ]
  },
  {
   "cell_type": "markdown",
   "metadata": {},
   "source": [
    "To *slice* a list (extract sublists), use a colon to separate starting and ending index. Note that the ending index is exclusive, thus `0:4` contains the indices `0,1,2,3`."
   ]
  },
  {
   "cell_type": "code",
   "execution_count": 53,
   "metadata": {},
   "outputs": [
    {
     "data": {
      "text/plain": [
       "[False, 1]"
      ]
     },
     "execution_count": 53,
     "metadata": {},
     "output_type": "execute_result"
    }
   ],
   "source": [
    "mylist[0:2]"
   ]
  },
  {
   "cell_type": "markdown",
   "metadata": {},
   "source": [
    "Negative indices can also be used to extract slice of a list."
   ]
  },
  {
   "cell_type": "code",
   "execution_count": 54,
   "metadata": {},
   "outputs": [
    {
     "data": {
      "text/plain": [
       "[False, 1, 2.0]"
      ]
     },
     "execution_count": 54,
     "metadata": {},
     "output_type": "execute_result"
    }
   ],
   "source": [
    "mylist[:-1]"
   ]
  },
  {
   "cell_type": "markdown",
   "metadata": {},
   "source": [
    "An optional third \"argument\" gives the step size."
   ]
  },
  {
   "cell_type": "code",
   "execution_count": 55,
   "metadata": {},
   "outputs": [
    {
     "data": {
      "text/plain": [
       "[False, 2.0]"
      ]
     },
     "execution_count": 55,
     "metadata": {},
     "output_type": "execute_result"
    }
   ],
   "source": [
    "mylist[::2]"
   ]
  },
  {
   "cell_type": "markdown",
   "metadata": {},
   "source": [
    "**Exercise:** How can you use a slice to reverse a list?"
   ]
  },
  {
   "cell_type": "markdown",
   "metadata": {},
   "source": [
    "Lists are **mutable**. See the following code."
   ]
  },
  {
   "cell_type": "code",
   "execution_count": 56,
   "metadata": {},
   "outputs": [
    {
     "data": {
      "text/plain": [
       "'changed!'"
      ]
     },
     "execution_count": 56,
     "metadata": {},
     "output_type": "execute_result"
    }
   ],
   "source": [
    "a = [0, 1, 2]\n",
    "b = a\n",
    "a[0] = 'changed!'\n",
    "b[0]"
   ]
  },
  {
   "cell_type": "markdown",
   "metadata": {},
   "source": [
    "This happens because after the line `b = a`, both `b` and `a` point to **the same list in memory**. Therefore, changes made via the name `a` are also reflected under the name `b`. This is sometimes what you want, and sometimes not. If it's not what you want, consider making a *deep copy* of the list. To do that, use the `list` function."
   ]
  },
  {
   "cell_type": "code",
   "execution_count": 57,
   "metadata": {},
   "outputs": [
    {
     "data": {
      "text/plain": [
       "0"
      ]
     },
     "execution_count": 57,
     "metadata": {},
     "output_type": "execute_result"
    }
   ],
   "source": [
    "a = [0, 1, 2]\n",
    "b = list(a)\n",
    "a[0] = 'changed!'\n",
    "b[0]"
   ]
  },
  {
   "cell_type": "markdown",
   "metadata": {},
   "source": [
    "*Tuples* are exactly like lists in every way, except they are **not mutable.** You can therefore safely keep references to the same tuple under different names without having to worry about mutations."
   ]
  },
  {
   "cell_type": "code",
   "execution_count": 58,
   "metadata": {},
   "outputs": [
    {
     "ename": "TypeError",
     "evalue": "'tuple' object does not support item assignment",
     "output_type": "error",
     "traceback": [
      "\u001b[1;31m---------------------------------------------------------------------------\u001b[0m",
      "\u001b[1;31mTypeError\u001b[0m                                 Traceback (most recent call last)",
      "\u001b[1;32m~\\AppData\\Local\\Temp/ipykernel_24340/1782887294.py\u001b[0m in \u001b[0;36m<module>\u001b[1;34m\u001b[0m\n\u001b[0;32m      1\u001b[0m \u001b[0ma\u001b[0m \u001b[1;33m=\u001b[0m \u001b[1;33m(\u001b[0m\u001b[1;36m0\u001b[0m\u001b[1;33m,\u001b[0m \u001b[1;36m1\u001b[0m\u001b[1;33m,\u001b[0m \u001b[1;36m2\u001b[0m\u001b[1;33m)\u001b[0m\u001b[1;33m\u001b[0m\u001b[1;33m\u001b[0m\u001b[0m\n\u001b[1;32m----> 2\u001b[1;33m \u001b[0ma\u001b[0m\u001b[1;33m[\u001b[0m\u001b[1;36m0\u001b[0m\u001b[1;33m]\u001b[0m \u001b[1;33m=\u001b[0m \u001b[1;34m'changed!'\u001b[0m\u001b[1;33m\u001b[0m\u001b[1;33m\u001b[0m\u001b[0m\n\u001b[0m",
      "\u001b[1;31mTypeError\u001b[0m: 'tuple' object does not support item assignment"
     ]
    }
   ],
   "source": [
    "a = (0, 1, 2)\n",
    "a[0] = 'changed!'"
   ]
  },
  {
   "cell_type": "markdown",
   "metadata": {},
   "source": [
    "**TypeError: 'tuple' object does not support item assignment**"
   ]
  },
  {
   "cell_type": "markdown",
   "metadata": {},
   "source": [
    "Note that it's the *commas* that make the tuple, not the parentheses."
   ]
  },
  {
   "cell_type": "code",
   "execution_count": null,
   "metadata": {},
   "outputs": [],
   "source": [
    "0, 1, 2"
   ]
  },
  {
   "cell_type": "markdown",
   "metadata": {},
   "source": [
    "Also note that the protection against mutations only extends as far as the elements of the tuple. For example:"
   ]
  },
  {
   "cell_type": "code",
   "execution_count": null,
   "metadata": {},
   "outputs": [],
   "source": [
    "a = ([0], 1, 2)\n",
    "b = a\n",
    "a[0][0] = 'changed!'\n",
    "b[0][0]"
   ]
  },
  {
   "cell_type": "markdown",
   "metadata": {},
   "source": [
    "However, the same thing would happen if you made a copy, since the copy is only \"one level deep.\""
   ]
  },
  {
   "cell_type": "code",
   "execution_count": null,
   "metadata": {},
   "outputs": [],
   "source": [
    "a = [[0], 1, 2]\n",
    "b = list(a)\n",
    "a[0][0] = 'changed!'\n",
    "b[0][0]"
   ]
  },
  {
   "cell_type": "markdown",
   "metadata": {},
   "source": [
    "The third major type of collection we will look at is the *dictionary*. Dictionaries are key-value maps where the keys can be (almost) any type of object."
   ]
  },
  {
   "cell_type": "code",
   "execution_count": null,
   "metadata": {},
   "outputs": [],
   "source": [
    "mydict = {'a': 1, 'b': 2, 'c': 3}\n",
    "mydict['a']"
   ]
  },
  {
   "cell_type": "markdown",
   "metadata": {},
   "source": [
    "Dictionaries, like lists, are mutable."
   ]
  },
  {
   "cell_type": "code",
   "execution_count": null,
   "metadata": {},
   "outputs": [],
   "source": [
    "mydict['d'] = 4\n",
    "mydict['d']"
   ]
  },
  {
   "cell_type": "markdown",
   "metadata": {},
   "source": [
    "The final collection that you might find useful is the *set*. A set is an undordered collection of objects that ensures no duplicates are possible."
   ]
  },
  {
   "cell_type": "code",
   "execution_count": null,
   "metadata": {},
   "outputs": [],
   "source": [
    "myset = {1, 2, 3, 2, 3}\n",
    "myset"
   ]
  },
  {
   "cell_type": "markdown",
   "metadata": {},
   "source": [
    "## Working with collections"
   ]
  },
  {
   "cell_type": "markdown",
   "metadata": {},
   "source": [
    "To check whether an object is in a collection, you can use the `in` operator. This is much faster on sets and dictionaries than on lists and tuples."
   ]
  },
  {
   "cell_type": "code",
   "execution_count": null,
   "metadata": {},
   "outputs": [],
   "source": [
    "1 in [1, 2, 3]"
   ]
  },
  {
   "cell_type": "code",
   "execution_count": null,
   "metadata": {},
   "outputs": [],
   "source": [
    "4 in (1, 2, 3)"
   ]
  },
  {
   "cell_type": "markdown",
   "metadata": {},
   "source": [
    "On dictionaries, the `in` operator checks whether the object is a *key*, not whether it is a value."
   ]
  },
  {
   "cell_type": "code",
   "execution_count": null,
   "metadata": {},
   "outputs": [],
   "source": [
    "'a' in {'a': 1}"
   ]
  },
  {
   "cell_type": "code",
   "execution_count": null,
   "metadata": {},
   "outputs": [],
   "source": [
    "1 in {'a': 1}"
   ]
  },
  {
   "cell_type": "markdown",
   "metadata": {},
   "source": [
    "Instead of writing `not (x in y)` you can write `x not in y`. Thus,"
   ]
  },
  {
   "cell_type": "code",
   "execution_count": null,
   "metadata": {},
   "outputs": [],
   "source": [
    "'a' not in {'a': 1}"
   ]
  },
  {
   "cell_type": "code",
   "execution_count": null,
   "metadata": {},
   "outputs": [],
   "source": [
    "1 not in {'a': 1}"
   ]
  },
  {
   "cell_type": "markdown",
   "metadata": {},
   "source": [
    "## Type Conversion of Data Structures.\n",
    "You can convert between different types of collections using the `list`, `tuple`, `dict` and `set` functions. As discussed before, this is also useful to make copies of collections in the case you might want to change them."
   ]
  },
  {
   "cell_type": "code",
   "execution_count": null,
   "metadata": {},
   "outputs": [],
   "source": [
    "list((1,2,3))"
   ]
  },
  {
   "cell_type": "code",
   "execution_count": null,
   "metadata": {},
   "outputs": [],
   "source": [
    "tuple({1, 2, 3})"
   ]
  },
  {
   "cell_type": "code",
   "execution_count": null,
   "metadata": {},
   "outputs": [],
   "source": [
    "dict([('a',1), ('b',2)])"
   ]
  },
  {
   "cell_type": "code",
   "execution_count": null,
   "metadata": {},
   "outputs": [],
   "source": [
    "set(dict([('a',1), ('b',2)]))"
   ]
  },
  {
   "cell_type": "markdown",
   "metadata": {},
   "source": [
    "It is often easier to extract elements from a tuple or a list by *unpacking* it, rather than indexing. This is an elegant mechanism that allows for very nice code. Some examples:"
   ]
  },
  {
   "cell_type": "code",
   "execution_count": null,
   "metadata": {},
   "outputs": [],
   "source": [
    "a, b = (1, 2)\n",
    "print(a, b)"
   ]
  },
  {
   "cell_type": "code",
   "execution_count": null,
   "metadata": {},
   "outputs": [],
   "source": [
    "a, b, *rest = (1, 2, 3, 4, 5)\n",
    "print(a, b, rest)"
   ]
  },
  {
   "cell_type": "code",
   "execution_count": null,
   "metadata": {},
   "outputs": [],
   "source": [
    "a, b, *rest = (1, 2)\n",
    "print(a, b, rest)"
   ]
  },
  {
   "cell_type": "code",
   "execution_count": null,
   "metadata": {},
   "outputs": [],
   "source": [
    "foo= [1,2,3,4,5]\n",
    "print(*foo)"
   ]
  },
  {
   "cell_type": "markdown",
   "metadata": {},
   "source": [
    "## Looping over collections"
   ]
  },
  {
   "cell_type": "markdown",
   "metadata": {},
   "source": [
    "The Python `for`-loop runs the same code for each element in a collection. As such it is best compared to the `for each` loops in some other programming languages."
   ]
  },
  {
   "cell_type": "code",
   "execution_count": null,
   "metadata": {},
   "outputs": [],
   "source": [
    "for elt in [1, 2, 3]:\n",
    "    print(elt)"
   ]
  },
  {
   "cell_type": "markdown",
   "metadata": {},
   "source": [
    "Note that a block of code in Python is determined by its indentation. Therefore there's a difference between this:"
   ]
  },
  {
   "cell_type": "code",
   "execution_count": null,
   "metadata": {},
   "outputs": [],
   "source": [
    "for elt in [1, 2, 3]:\n",
    "    print(elt)\n",
    "    print('Done!')"
   ]
  },
  {
   "cell_type": "markdown",
   "metadata": {},
   "source": [
    "and this:"
   ]
  },
  {
   "cell_type": "markdown",
   "metadata": {},
   "source": [
    "for elt in [1, 2, 3]:\n",
    "    print(elt)\n",
    "print('Done!')"
   ]
  },
  {
   "cell_type": "markdown",
   "metadata": {},
   "source": [
    "Again, looping over a dictionary just gets you the keys."
   ]
  },
  {
   "cell_type": "code",
   "execution_count": null,
   "metadata": {},
   "outputs": [],
   "source": [
    "for key in {'a': 1, 'b': 2}:\n",
    "    print(key)"
   ]
  },
  {
   "cell_type": "markdown",
   "metadata": {},
   "source": [
    "If you need both the keys and the values, use `.items()`, like this:"
   ]
  },
  {
   "cell_type": "code",
   "execution_count": null,
   "metadata": {},
   "outputs": [],
   "source": [
    "mydict = {'a': 1, 'b': 2}\n",
    "for key, value in mydict.items():\n",
    "    print(key, '=>', value)"
   ]
  },
  {
   "cell_type": "markdown",
   "metadata": {},
   "source": [
    "**Note:** This is a special form of unpacking syntax. `mydict.items()` is a collection of tuples. This is equivalent:"
   ]
  },
  {
   "cell_type": "code",
   "execution_count": null,
   "metadata": {},
   "outputs": [],
   "source": [
    "mydict = {'a': 1, 'b': 2}\n",
    "for item in mydict.items():\n",
    "    key, value = item\n",
    "    print(key, '=>', value)"
   ]
  },
  {
   "cell_type": "markdown",
   "metadata": {},
   "source": [
    "##  Branching/Conditional Statements"
   ]
  },
  {
   "cell_type": "markdown",
   "metadata": {},
   "source": [
    "In Python, branching is achieved via `if`."
   ]
  },
  {
   "cell_type": "code",
   "execution_count": null,
   "metadata": {},
   "outputs": [],
   "source": [
    "a = 2\n",
    "\n",
    "if a == 2:\n",
    "    print('a is 2')"
   ]
  },
  {
   "cell_type": "markdown",
   "metadata": {},
   "source": [
    "An `if`-branch may have an arbitrary number of \"else if\" branches followed by an optional \"else\". Only one of these branches will be chosen."
   ]
  },
  {
   "cell_type": "code",
   "execution_count": null,
   "metadata": {},
   "outputs": [],
   "source": [
    "a = 3\n",
    "\n",
    "if a == 1:\n",
    "    print('a is 1')\n",
    "elif a == 2:\n",
    "    print('a is 2')\n",
    "elif a == 3:\n",
    "    print('a is 3')\n",
    "else:\n",
    "    print(\"I don't know what a is\")"
   ]
  },
  {
   "cell_type": "markdown",
   "metadata": {},
   "source": [
    "## Functions"
   ]
  },
  {
   "cell_type": "markdown",
   "metadata": {},
   "source": [
    "To define a function in Python, use the `def` keyword. Like this:"
   ]
  },
  {
   "cell_type": "code",
   "execution_count": null,
   "metadata": {},
   "outputs": [],
   "source": [
    "def say_hello():\n",
    "    print('Hello!')"
   ]
  },
  {
   "cell_type": "markdown",
   "metadata": {},
   "source": [
    "You can then call the function like this."
   ]
  },
  {
   "cell_type": "code",
   "execution_count": null,
   "metadata": {},
   "outputs": [],
   "source": [
    "say_hello()"
   ]
  },
  {
   "cell_type": "markdown",
   "metadata": {},
   "source": [
    "Like you might expect, functions can take arguments."
   ]
  },
  {
   "cell_type": "code",
   "execution_count": null,
   "metadata": {},
   "outputs": [],
   "source": [
    "def say_hello(name):\n",
    "    print('Hello,', name)\n",
    "    \n",
    "say_hello('Bob')"
   ]
  },
  {
   "cell_type": "markdown",
   "metadata": {},
   "source": [
    "They can also return values."
   ]
  },
  {
   "cell_type": "code",
   "execution_count": null,
   "metadata": {},
   "outputs": [],
   "source": [
    "def get_first_element(collection):\n",
    "    return collection[0]"
   ]
  },
  {
   "cell_type": "markdown",
   "metadata": {},
   "source": [
    "This function now works with lists, tuples and strings."
   ]
  },
  {
   "cell_type": "code",
   "execution_count": null,
   "metadata": {},
   "outputs": [],
   "source": [
    "get_first_element([5, 6, 7])"
   ]
  },
  {
   "cell_type": "code",
   "execution_count": null,
   "metadata": {},
   "outputs": [],
   "source": [
    "get_first_element((6, 7, 8))"
   ]
  },
  {
   "cell_type": "code",
   "execution_count": null,
   "metadata": {},
   "outputs": [],
   "source": [
    "get_first_element('abc')"
   ]
  },
  {
   "cell_type": "markdown",
   "metadata": {},
   "source": [
    "Functions can take multiple arguments too."
   ]
  },
  {
   "cell_type": "code",
   "execution_count": null,
   "metadata": {},
   "outputs": [],
   "source": [
    "def get_an_element(collection, index):\n",
    "    return collection[index]\n",
    "\n",
    "get_an_element('abcdef', 4)"
   ]
  },
  {
   "cell_type": "markdown",
   "metadata": {},
   "source": [
    "When calling a function, you can give named arguments too (also called keyword arguments)."
   ]
  },
  {
   "cell_type": "code",
   "execution_count": null,
   "metadata": {},
   "outputs": [],
   "source": [
    "get_an_element('abcdef', index=4)"
   ]
  },
  {
   "cell_type": "markdown",
   "metadata": {},
   "source": [
    "When doing so you can even change the order."
   ]
  },
  {
   "cell_type": "code",
   "execution_count": null,
   "metadata": {},
   "outputs": [],
   "source": [
    "get_an_element(index=4, collection='abcdef')"
   ]
  },
  {
   "cell_type": "markdown",
   "metadata": {},
   "source": [
    "However, don't try this."
   ]
  },
  {
   "cell_type": "code",
   "execution_count": null,
   "metadata": {},
   "outputs": [],
   "source": [
    "get_an_element(index=4, 'abcdef')"
   ]
  },
  {
   "cell_type": "markdown",
   "metadata": {},
   "source": [
    "You can have arguments with default values, effectively making them optional."
   ]
  },
  {
   "cell_type": "code",
   "execution_count": null,
   "metadata": {},
   "outputs": [],
   "source": [
    "def get_an_element(collection, index=0):\n",
    "    return collection[index]\n",
    "\n",
    "get_an_element('abcdef')"
   ]
  },
  {
   "cell_type": "code",
   "execution_count": null,
   "metadata": {},
   "outputs": [],
   "source": [
    "get_an_element('abcdef', 4)"
   ]
  },
  {
   "cell_type": "markdown",
   "metadata": {},
   "source": [
    "It is customary to use named arguments when providing values for optional parameters, and to use positional arguments otherwise. However, this is merely custom."
   ]
  },
  {
   "cell_type": "code",
   "execution_count": null,
   "metadata": {},
   "outputs": [],
   "source": [
    "get_an_element('abcdef')                        # OK, index has its default value\n",
    "get_an_element('abcdef', index=4)               # OK, override default value of index\n",
    "get_an_element('abcdef', 4)                     # Works, not considered normal\n",
    "get_an_element(collection='abcdef', index=4)    # Works, not considered normal\n",
    "get_an_element(collection='abcdef', 4)          # Illegal\n",
    "get_an_element(index=4, 'abcdef')               # Illegal, but also ambiguous"
   ]
  },
  {
   "cell_type": "markdown",
   "metadata": {},
   "source": [
    "**Exercise:** Write a function that sums all elements in a collection and returns the total. Use a for-loop."
   ]
  },
  {
   "cell_type": "markdown",
   "metadata": {},
   "source": [
    "You can also write functions that take an arbitrary number of arguments. Here, the asterisk `*` is called the **\"splat\" operator.**"
   ]
  },
  {
   "cell_type": "code",
   "execution_count": null,
   "metadata": {},
   "outputs": [],
   "source": [
    "def print_all_args(*args):\n",
    "    print(args)\n",
    "\n",
    "print_all_args('a', 'b', 'c')"
   ]
  },
  {
   "cell_type": "markdown",
   "metadata": {},
   "source": [
    "Note that `args` becomes a tuple containing all the arguments. You can also collect keyword arguments into a dictionary with the **double-splat operator.**"
   ]
  },
  {
   "cell_type": "code",
   "execution_count": null,
   "metadata": {},
   "outputs": [],
   "source": [
    "def print_all_args(*args, **kwargs):\n",
    "    print(args, kwargs)\n",
    "    \n",
    "print_all_args('a', 'b', 'c', name='Eivind', place='Geilo')"
   ]
  },
  {
   "cell_type": "markdown",
   "metadata": {},
   "source": [
    "Splatting also works the other way, for example, here's a function that sums three numbers:"
   ]
  },
  {
   "cell_type": "code",
   "execution_count": null,
   "metadata": {},
   "outputs": [],
   "source": [
    "def sum_three(a, b, c):\n",
    "    return a + b + c"
   ]
  },
  {
   "cell_type": "markdown",
   "metadata": {},
   "source": [
    "We can call it like this:"
   ]
  },
  {
   "cell_type": "code",
   "execution_count": null,
   "metadata": {},
   "outputs": [],
   "source": [
    "args = [5, 6, 7]\n",
    "sum_three(args[0], args[1], args[2])"
   ]
  },
  {
   "cell_type": "markdown",
   "metadata": {},
   "source": [
    "But this is much more elegant:"
   ]
  },
  {
   "cell_type": "code",
   "execution_count": null,
   "metadata": {},
   "outputs": [],
   "source": [
    "sum_three(*args)"
   ]
  },
  {
   "cell_type": "markdown",
   "metadata": {},
   "source": [
    "Combinations of regular arguments, named arguments, splat arguments and double-splat keyword arguments all work, and should produce the expected results. If Python ever produces an error, you are probably just trying to do something that doesn't make sense."
   ]
  },
  {
   "cell_type": "markdown",
   "metadata": {},
   "source": [
    "## Comprehensions and generators"
   ]
  },
  {
   "cell_type": "markdown",
   "metadata": {},
   "source": [
    "*Comprehensions* are very useful to make code cleaner and easier to read. Let us say we have a function that determines whether a number is a prime number. (This function is very inefficient, so don't \"do this at home.\") If there's anything in this function that is unclear, don't worry. We'll get to it."
   ]
  },
  {
   "cell_type": "code",
   "execution_count": null,
   "metadata": {},
   "outputs": [],
   "source": [
    "import math\n",
    "\n",
    "def is_prime(number):\n",
    "    return number > 1 and all(number % divisor != 0 for divisor in range(2, (number//2)+1))"
   ]
  },
  {
   "cell_type": "markdown",
   "metadata": {},
   "source": [
    "Let us say we want to create a list of all primes up to 20. We might be tempted to write code like this. Note the use of the `range` function to loop over integers up to a maximum (like a traditional for-loop) and the `.append()` method for lists."
   ]
  },
  {
   "cell_type": "code",
   "execution_count": null,
   "metadata": {},
   "outputs": [],
   "source": [
    "primes = []                         # Create an empty list of prime numbers\n",
    "for num in range(20):               # range(20) is the collection 0, 1, 2, ..., 19\n",
    "    if is_prime(num):               # Check whether it is a prime number\n",
    "        primes.append(num)          # If so, add it to the list\n",
    "primes"
   ]
  },
  {
   "cell_type": "markdown",
   "metadata": {},
   "source": [
    "While this works, a much more elegant solution is the following."
   ]
  },
  {
   "cell_type": "code",
   "execution_count": null,
   "metadata": {},
   "outputs": [],
   "source": [
    "[num for num in range(20) if is_prime(num)]"
   ]
  },
  {
   "cell_type": "code",
   "execution_count": null,
   "metadata": {},
   "outputs": [],
   "source": [
    "mylist=[1,2,3,4,5,6]\n",
    "for i in mylist:\n",
    "    if i%2==0:\n",
    "        print(i)"
   ]
  },
  {
   "cell_type": "code",
   "execution_count": null,
   "metadata": {},
   "outputs": [],
   "source": [
    "[num for num in mylist if num%2==0]"
   ]
  },
  {
   "cell_type": "markdown",
   "metadata": {},
   "source": [
    "This is called a *list comprehension*, and it's a thing of beauty. (Take a moment to reflect if you like.) The basic syntax looks like this:\n",
    "\n",
    "`[<something> for <something> in <collection>]`\n",
    "\n",
    "or like this:\n",
    "\n",
    "`[<something> for <something> in <collection> if <condition>]`"
   ]
  },
  {
   "cell_type": "markdown",
   "metadata": {},
   "source": [
    "Note that the condition is optional, therefore we can create a list of the numbers from 0 to 19 like this."
   ]
  },
  {
   "cell_type": "code",
   "execution_count": null,
   "metadata": {},
   "outputs": [],
   "source": [
    "[num for num in range(20)]"
   ]
  },
  {
   "cell_type": "markdown",
   "metadata": {},
   "source": [
    "Or, we could create a list of the *squares* of prime numbers like this:"
   ]
  },
  {
   "cell_type": "code",
   "execution_count": null,
   "metadata": {},
   "outputs": [],
   "source": [
    "[num**2 for num in range(20) if is_prime(num)]"
   ]
  },
  {
   "cell_type": "markdown",
   "metadata": {},
   "source": [
    "You can use comprehensions to create sets too."
   ]
  },
  {
   "cell_type": "code",
   "execution_count": null,
   "metadata": {},
   "outputs": [],
   "source": [
    "{num for num in range(20) if is_prime(num)}"
   ]
  },
  {
   "cell_type": "markdown",
   "metadata": {},
   "source": [
    "Or even dictionaries. What do you think this does?"
   ]
  },
  {
   "cell_type": "code",
   "execution_count": null,
   "metadata": {},
   "outputs": [],
   "source": [
    "mydict = {num: is_prime(num) for num in range(20)}\n",
    "mydict"
   ]
  },
  {
   "cell_type": "markdown",
   "metadata": {},
   "source": [
    "You might think, then, that this creates a tuple:"
   ]
  },
  {
   "cell_type": "code",
   "execution_count": null,
   "metadata": {},
   "outputs": [],
   "source": [
    "something = (num for num in range(20) if is_prime(num))"
   ]
  },
  {
   "cell_type": "markdown",
   "metadata": {},
   "source": [
    "However, this is a *generator*. A generator is a collection-like object that only creates output when requested. Therefore no primes have been computed yet. However when we loop over `something` (for example), primes appear."
   ]
  },
  {
   "cell_type": "code",
   "execution_count": null,
   "metadata": {},
   "outputs": [],
   "source": [
    "for prime in something:\n",
    "    print(prime)"
   ]
  },
  {
   "cell_type": "markdown",
   "metadata": {},
   "source": [
    "If you try to loop over the same generator again, it won't work. They are one-use only."
   ]
  },
  {
   "cell_type": "code",
   "execution_count": null,
   "metadata": {},
   "outputs": [],
   "source": [
    "for prime in something:\n",
    "    print(prime)           # No output, `something` is empty"
   ]
  },
  {
   "cell_type": "markdown",
   "metadata": {},
   "source": [
    "## Iterables and itertools"
   ]
  },
  {
   "cell_type": "markdown",
   "metadata": {},
   "source": [
    "In Python, an *iterable* is anything that can be iterated over, in other words anything that fits in a `for`-loop. Lists, tuples, dictionaries, sets and strings are all iterables, but we have seen others too: the return value of the `range` function is iterable, as are generators.\n",
    "\n",
    "The Python ecosystem revolves heavily around iterables, and Python itself has a large amount of tools to work with them, often leading to very elegant code. I will present some of these tools here."
   ]
  },
  {
   "cell_type": "markdown",
   "metadata": {},
   "source": [
    "**WARNING:** With very few exceptions, all functions that return iterables return *generators*. In other words, they don't produce elements unless those elements are consumed by something, such as a `for`-loop. The exceptions are the functions `list`, `tuple`, `dict`, and `set`, which accept an iterable as an argument and then consumes it, returning the elements as a list, tuple, dictionary or set. Therefore, in the following, we will use `list(...)` to show the result of a piece of code. In regular code this would usually not be necessary."
   ]
  },
  {
   "cell_type": "markdown",
   "metadata": {},
   "source": [
    "### Lambda Function"
   ]
  },
  {
   "cell_type": "markdown",
   "metadata": {},
   "source": [
    "A lambda function is a small anonymous function.\n",
    "\n",
    "A lambda function can take any number of arguments, but can only have one expression."
   ]
  },
  {
   "cell_type": "code",
   "execution_count": 2,
   "metadata": {},
   "outputs": [
    {
     "name": "stdout",
     "output_type": "stream",
     "text": [
      "30\n"
     ]
    }
   ],
   "source": [
    "x = lambda a, b : a * b\n",
    "print(x(5, 6))"
   ]
  },
  {
   "cell_type": "code",
   "execution_count": 7,
   "metadata": {},
   "outputs": [
    {
     "data": {
      "text/plain": [
       "[1, 4, 9, 16, 25]"
      ]
     },
     "execution_count": 7,
     "metadata": {},
     "output_type": "execute_result"
    }
   ],
   "source": [
    "mylist= [1,2,3,4,5]\n",
    "lambda_square= lambda x: x**2 \n",
    "list(map(lambda_square, mylist)) "
   ]
  },
  {
   "cell_type": "markdown",
   "metadata": {},
   "source": [
    "The `map` function applies a function to each element of an iterable."
   ]
  },
  {
   "cell_type": "code",
   "execution_count": null,
   "metadata": {},
   "outputs": [],
   "source": [
    "list(map(int, ['1', 2.0, 3.1]))"
   ]
  },
  {
   "cell_type": "markdown",
   "metadata": {},
   "source": [
    "The `filter` function filters out the items of an iterable which fail a predicate test."
   ]
  },
  {
   "cell_type": "code",
   "execution_count": null,
   "metadata": {},
   "outputs": [],
   "source": [
    "def has_length_two(s):\n",
    "    return len(s) == 2\n",
    "\n",
    "list(filter(has_length_two, ['a', 'abc', 'de', 'fg', 'hij']))"
   ]
  },
  {
   "cell_type": "markdown",
   "metadata": {},
   "source": [
    "Note that both `map` and `filter` can be expressed with comprehension syntax, and that this sort of syntax is usually considered preferable among Pythonistas."
   ]
  },
  {
   "cell_type": "markdown",
   "metadata": {},
   "source": [
    "### Inline Function in MATLAB "
   ]
  },
  {
   "cell_type": "code",
   "execution_count": 8,
   "metadata": {},
   "outputs": [],
   "source": [
    "# Comparable to Python lamdba functions"
   ]
  },
  {
   "cell_type": "markdown",
   "metadata": {},
   "source": [
    "f @(x) x^2+x+2 <br>\n",
    "f(3)\n"
   ]
  },
  {
   "cell_type": "markdown",
   "metadata": {},
   "source": [
    "ans= 14"
   ]
  },
  {
   "cell_type": "markdown",
   "metadata": {},
   "source": [
    "The `enumerate` function allows you to iterate over both the elements of a collection *and* their indices at the same time."
   ]
  },
  {
   "cell_type": "code",
   "execution_count": null,
   "metadata": {},
   "outputs": [],
   "source": [
    "for index, value in enumerate('abcd'):\n",
    "    print(index, '=>', value)"
   ]
  },
  {
   "cell_type": "markdown",
   "metadata": {},
   "source": [
    "This is much more elegant than code such as this:"
   ]
  },
  {
   "cell_type": "code",
   "execution_count": null,
   "metadata": {},
   "outputs": [],
   "source": [
    "s = 'abcd'\n",
    "for index in range(len(s)):\n",
    "    print(index, '=>', s[index])"
   ]
  },
  {
   "cell_type": "markdown",
   "metadata": {},
   "source": [
    "The `itertools` module containsa lot of functions of its own. Let's try some of them by importing it."
   ]
  },
  {
   "cell_type": "code",
   "execution_count": null,
   "metadata": {},
   "outputs": [],
   "source": [
    "import itertools as it\n",
    "it?  # how to access the functions inside the class itertools"
   ]
  },
  {
   "cell_type": "markdown",
   "metadata": {},
   "source": [
    "The `product` function creates a Cartesian product of several iterables. <br>\n",
    "Reference: <a href=\"https://mathinsight.org/definition/cartesian_product\">What is a Cartesian product? </a>"
   ]
  },
  {
   "cell_type": "code",
   "execution_count": null,
   "metadata": {},
   "outputs": [],
   "source": [
    "list(it.product([0, 1], 'ab'))"
   ]
  },
  {
   "cell_type": "markdown",
   "metadata": {},
   "source": [
    "The `combinations` function returns subsets of a collection."
   ]
  },
  {
   "cell_type": "code",
   "execution_count": null,
   "metadata": {},
   "outputs": [],
   "source": [
    "list(it.combinations('abcd', 2))"
   ]
  },
  {
   "cell_type": "markdown",
   "metadata": {},
   "source": [
    "The `chain` function concatenates several iterables together."
   ]
  },
  {
   "cell_type": "code",
   "execution_count": null,
   "metadata": {},
   "outputs": [],
   "source": [
    "list(it.chain('abc', range(3)))"
   ]
  },
  {
   "cell_type": "markdown",
   "metadata": {},
   "source": [
    "The `repeat` function creates an infinite iterable that just outputs a single thing. "
   ]
  },
  {
   "cell_type": "code",
   "execution_count": null,
   "metadata": {},
   "outputs": [],
   "source": [
    "it.repeat(3)   # => 3, 3, 3, ..."
   ]
  },
  {
   "cell_type": "markdown",
   "metadata": {},
   "source": [
    "The `cycle` function creates an iterable that cycles through another iterable endlessly."
   ]
  },
  {
   "cell_type": "code",
   "execution_count": null,
   "metadata": {},
   "outputs": [],
   "source": [
    "it.cycle('abc')    # => 'a', 'b', 'c', 'a', 'b', 'c', 'a', 'b', 'c', ..."
   ]
  },
  {
   "cell_type": "markdown",
   "metadata": {},
   "source": [
    "The `count` function creates an iterable that counts up from a given number."
   ]
  },
  {
   "cell_type": "code",
   "execution_count": 11,
   "metadata": {},
   "outputs": [
    {
     "ename": "NameError",
     "evalue": "name 'it' is not defined",
     "output_type": "error",
     "traceback": [
      "\u001b[0;31m---------------------------------------------------------------------------\u001b[0m",
      "\u001b[0;31mNameError\u001b[0m                                 Traceback (most recent call last)",
      "\u001b[0;32m/var/folders/3n/wv347tjx255dlxqkyvt6gjfh0000gn/T/ipykernel_1966/2398656867.py\u001b[0m in \u001b[0;36m<module>\u001b[0;34m\u001b[0m\n\u001b[0;32m----> 1\u001b[0;31m \u001b[0mit\u001b[0m\u001b[0;34m.\u001b[0m\u001b[0mcount\u001b[0m\u001b[0;34m(\u001b[0m\u001b[0;36m9\u001b[0m\u001b[0;34m)\u001b[0m     \u001b[0;31m# => 0, 1, 2, 3, ...\u001b[0m\u001b[0;34m\u001b[0m\u001b[0;34m\u001b[0m\u001b[0m\n\u001b[0m",
      "\u001b[0;31mNameError\u001b[0m: name 'it' is not defined"
     ]
    }
   ],
   "source": [
    "it.count(9)     # => 0, 1, 2, 3, ..."
   ]
  },
  {
   "cell_type": "markdown",
   "metadata": {},
   "source": [
    "### Object Oriented Programming"
   ]
  },
  {
   "cell_type": "markdown",
   "metadata": {},
   "source": [
    "**What is a class?** \n",
    "<br>\n",
    "The user defined objects are created using the class keyword. The class is a blueprint that defines a nature of a future object. From classes we can construct instances. An instance is a specific object created from a particular class"
   ]
  },
  {
   "cell_type": "code",
   "execution_count": 14,
   "metadata": {},
   "outputs": [
    {
     "name": "stdout",
     "output_type": "stream",
     "text": [
      "<class '__main__.Sample'>\n"
     ]
    }
   ],
   "source": [
    "# Create a new object type called Sample\n",
    "class Sample(object):\n",
    "    pass\n",
    "\n",
    "# Instance of Sample\n",
    "x = Sample()\n",
    "\n",
    "print(type(x))"
   ]
  },
  {
   "cell_type": "markdown",
   "metadata": {},
   "source": [
    "By convention we give classes a name that starts with a capital letter. Note how x is now the reference to our new instance of a Sample class. In other words, we **instantiate** the Sample class.\n",
    "\n",
    "Inside of the class we currently just have **pass**. But we can define class attributes and methods.\n",
    "\n",
    "An **attribute** is a characteristic of an object. A **method** is an operation we can perform with the object.\n",
    "\n",
    "For example we can create a class called Dog. An attribute of a dog may be its breed or its name, while a method of a dog may be defined by a .bark() method which returns a sound."
   ]
  },
  {
   "cell_type": "code",
   "execution_count": 17,
   "metadata": {},
   "outputs": [
    {
     "data": {
      "text/plain": [
       "'Huskie'"
      ]
     },
     "execution_count": 17,
     "metadata": {},
     "output_type": "execute_result"
    }
   ],
   "source": [
    "class Dog(object):\n",
    "    def __init__(self,breed):\n",
    "        self.breed = breed\n",
    "        \n",
    "sam = Dog(breed='Lab')\n",
    "frank = Dog(breed='Huskie')\n",
    "#sam.breed\n",
    "frank.breed"
   ]
  },
  {
   "cell_type": "markdown",
   "metadata": {},
   "source": [
    "## Constructor"
   ]
  },
  {
   "cell_type": "markdown",
   "metadata": {},
   "source": [
    "A constructor is a special/reserved method that the program calls upon an object’s creation. The constructor is used in the class to initialize data members to the object. With our dog class example, you can use a constructor to assign dog characteristics to each Fox Terrier object. The special method **__init__** is the Python constructor."
   ]
  },
  {
   "cell_type": "markdown",
   "metadata": {},
   "source": [
    "### Method"
   ]
  },
  {
   "cell_type": "markdown",
   "metadata": {},
   "source": [
    "Methods are functions defined inside the body of a class. They are used to perform operations with the attributes of our objects. Methods are essential in encapsulation concept of the OOP paradigm. This is essential in dividing responsibilities in programming, especially in large applications.\n",
    "\n",
    "You can basically think of methods as functions acting on an Object that take the Object itself into account through its self argument."
   ]
  },
  {
   "cell_type": "code",
   "execution_count": 20,
   "metadata": {},
   "outputs": [
    {
     "name": "stdout",
     "output_type": "stream",
     "text": [
      "Radius is:  2\n",
      "Area is:  12.56\n"
     ]
    }
   ],
   "source": [
    "class Circle(object):\n",
    "    pi = 3.14\n",
    "\n",
    "    # Circle get instantiated with a radius (default is 1)\n",
    "    def __init__(self, radius=1):\n",
    "        self.radius = radius \n",
    "\n",
    "    # Area method calculates the area. Note the use of self.\n",
    "    def area(self):\n",
    "        return self.radius * self.radius * Circle.pi\n",
    "\n",
    "    # Method for resetting Radius\n",
    "    def setRadius(self, radius):\n",
    "        self.radius = radius\n",
    "\n",
    "    # Method for getting radius (Same as just calling .radius)\n",
    "    def getRadius(self):\n",
    "        return self.radius\n",
    "\n",
    "\n",
    "c = Circle()\n",
    "\n",
    "c.setRadius(2)\n",
    "print('Radius is: ',c.getRadius())\n",
    "print('Area is: ',c.area())"
   ]
  },
  {
   "cell_type": "markdown",
   "metadata": {},
   "source": [
    "# Numpy"
   ]
  },
  {
   "cell_type": "markdown",
   "metadata": {},
   "source": [
    "Everything in Numpy revolves around the multidimensional array. To use it, first import the `numpy` package. It is customary to give it the name `np`."
   ]
  },
  {
   "cell_type": "code",
   "execution_count": 60,
   "metadata": {},
   "outputs": [],
   "source": [
    "import numpy as np"
   ]
  },
  {
   "cell_type": "markdown",
   "metadata": {},
   "source": [
    "To create an array, use the `np.array` constructor. It understands list-of-lists type input, and as long as the input is well-formed, will do as expected."
   ]
  },
  {
   "cell_type": "code",
   "execution_count": 61,
   "metadata": {},
   "outputs": [
    {
     "data": {
      "text/plain": [
       "array([], dtype=float64)"
      ]
     },
     "execution_count": 61,
     "metadata": {},
     "output_type": "execute_result"
    }
   ],
   "source": [
    "np.array([])        # An empty array"
   ]
  },
  {
   "cell_type": "code",
   "execution_count": null,
   "metadata": {},
   "outputs": [],
   "source": [
    "np.array(1.0)       # A scalar"
   ]
  },
  {
   "cell_type": "code",
   "execution_count": null,
   "metadata": {},
   "outputs": [],
   "source": [
    "\n",
    "np.array([1.0, 2.0, 3.0])   # A vector"
   ]
  },
  {
   "cell_type": "code",
   "execution_count": null,
   "metadata": {},
   "outputs": [],
   "source": [
    "np.array([[1.0, 2.0, 3.0], [4.0, 5.0, 6.0], [7.0, 8.0, 9.0]])    # A matrix"
   ]
  },
  {
   "cell_type": "markdown",
   "metadata": {},
   "source": [
    "Every array has a **data type** and a **shape**.\n",
    "\n",
    "The data type is the type of the objects stored in the array. Unlike regular Python lists, arrays are **homogeneous**, unable to store data of different types. For most of the time, Numpy is able to determine the data type itself, but you may give it pointers. For example,"
   ]
  },
  {
   "cell_type": "code",
   "execution_count": null,
   "metadata": {},
   "outputs": [],
   "source": [
    "a = np.array([1, 2])\n",
    "a.dtype"
   ]
  },
  {
   "cell_type": "code",
   "execution_count": null,
   "metadata": {},
   "outputs": [],
   "source": [
    "a = np.array([1, 2], dtype=np.float)\n",
    "a.dtype"
   ]
  },
  {
   "cell_type": "code",
   "execution_count": null,
   "metadata": {},
   "outputs": [],
   "source": [
    "np.array([0, 1], dtype=np.bool)"
   ]
  },
  {
   "cell_type": "code",
   "execution_count": null,
   "metadata": {},
   "outputs": [],
   "source": [
    "np.array([True, False], dtype=np.int)"
   ]
  },
  {
   "cell_type": "markdown",
   "metadata": {},
   "source": [
    "The **shape** of an array is critically important. Most unexpected errors when working with Numpy occur from incorrect shapes. * OR dimension mismatch. *\n",
    "\n",
    "The shape is a tuple, with one element for each dimension of the array, specifying the length of that dimension.\n",
    "\n",
    "Therefore, the shape of a vector is a one-element tuple."
   ]
  },
  {
   "cell_type": "code",
   "execution_count": null,
   "metadata": {},
   "outputs": [],
   "source": [
    "np.array([1, 2, 3, 4]).shape"
   ]
  },
  {
   "cell_type": "markdown",
   "metadata": {},
   "source": [
    "While the shape of a matrix is a two-element tuple."
   ]
  },
  {
   "cell_type": "code",
   "execution_count": null,
   "metadata": {},
   "outputs": [],
   "source": [
    "np.array([[1, 2, 3], [4, 5, 6], [7, 8, 9]]).shape"
   ]
  },
  {
   "cell_type": "markdown",
   "metadata": {},
   "source": [
    "## Array arithmetic and broadcasting"
   ]
  },
  {
   "cell_type": "markdown",
   "metadata": {},
   "source": [
    "As a rule, Numpy arrays support standard Python mathematical operators like `+`, `*`, `/`, `//` and `**`. Without exception, and somewhat as a surprise to Matlab users, these operators are **ELEMENT-WISE**. That is to say, `a * b` is an array whose elements are the products of the elements of `a` and `b`, it is *not* a matrix-matrix product."
   ]
  },
  {
   "cell_type": "code",
   "execution_count": null,
   "metadata": {},
   "outputs": [],
   "source": [
    "np.array([1, 2]) + np.array([3, 4])"
   ]
  },
  {
   "cell_type": "code",
   "execution_count": 62,
   "metadata": {},
   "outputs": [
    {
     "data": {
      "text/plain": [
       "array([[1, 4],\n",
       "       [2, 4]])"
      ]
     },
     "execution_count": 62,
     "metadata": {},
     "output_type": "execute_result"
    }
   ],
   "source": [
    "np.array([[1, 2], [2, 2]]) * np.array([1, 2])"
   ]
  },
  {
   "cell_type": "code",
   "execution_count": 184,
   "metadata": {},
   "outputs": [
    {
     "data": {
      "text/plain": [
       "array([[ 7, 10],\n",
       "       [ 8, 12]])"
      ]
     },
     "execution_count": 184,
     "metadata": {},
     "output_type": "execute_result"
    }
   ],
   "source": [
    "np.array([[1, 2], [2, 2]]) @ np.array([[1, 2], [3, 4]]) #Matrix Multiplication"
   ]
  },
  {
   "cell_type": "code",
   "execution_count": 66,
   "metadata": {},
   "outputs": [
    {
     "data": {
      "text/plain": [
       "array([1, 4, 9], dtype=int32)"
      ]
     },
     "execution_count": 66,
     "metadata": {},
     "output_type": "execute_result"
    }
   ],
   "source": [
    "x=np.array([1, 2, 3]) ** 2\n",
    "x"
   ]
  },
  {
   "cell_type": "markdown",
   "metadata": {},
   "source": [
    "## Broadcasting"
   ]
  },
  {
   "cell_type": "markdown",
   "metadata": {},
   "source": [
    "The two arrays involved in an operation do not have to have the *same* shape, but the shapes have to be compatible according to a process known as \"broadcasting\", which is a classical example of something that is *difficult-at-first-but-easy-once-you-get-used-to-it*.™\n",
    "\n",
    "There are two essential rules:\n",
    "\n",
    "1. One array may have additional dimensions on the *left*, but not on the *right*.\n",
    "\n",
    "   In other words, you may add a `(5,8)`-shape array to a `(2,4,5,8)`-shape array, and the result will be of shape `(2,4,5,8)` as expected. However, you may not add a `(2,4)`-shape array to that same `(2,4,5,8)`-shape array.\n",
    "   \n",
    "       Input 1:        5  8\n",
    "                       |  |\n",
    "       Input 2:  2  4  5  8\n",
    "                 |  |  |  |\n",
    "       Output:   2  4  5  8    => OK\n",
    "       \n",
    "       ----------------------------------\n",
    "       \n",
    "       Input 1:        2  4\n",
    "                       |  |\n",
    "       Input 2:  2  4  5  8\n",
    "                 |  |  |  |\n",
    "       Output:   2  4  ?  ?    => Not OK\n",
    "       \n",
    "2. Mismatching dimensions are okay, so long as one of them has length 1 (often called a \"singleton\" dimension).\n",
    "\n",
    "       Input 1:        5  1\n",
    "                       |  |\n",
    "       Input 2:  2  4  5  8\n",
    "                 |  |  |  |\n",
    "       Output:   2  4  5  8    => OK\n",
    "       \n",
    "       ----------------------------------\n",
    "       \n",
    "       Input 1:        6  1\n",
    "                       |  |\n",
    "       Input 2:  2  4  1  8\n",
    "                 |  |  |  |\n",
    "       Output:   2  4  6  8    => OK\n",
    "       \n",
    "In both cases, the smaller array will have its data duplicated as necessary to ensure that everything matches up.\n",
    "\n",
    "Adding a vector of size 2 to a matrix of size *N*×2 will then add the vector to each row of the matrix. For this reason I find it generally helpful to think of an *N*×2-matrix as a collection of *N* vectors of length 2, rather than as a collection of 2 vectors of length *N*. I recommend you use this rule of thumb when deciding what the shapes of your arrays should be, depending on what you want to store in them."
   ]
  },
  {
   "cell_type": "markdown",
   "metadata": {},
   "source": [
    "## Matrix aritmethic"
   ]
  },
  {
   "cell_type": "markdown",
   "metadata": {},
   "source": [
    "Since arithmetic with arrays is universally element-wise, you may reasonably ask how to do actual matrix multiplication in Numpy. This is possible with the `@` operator."
   ]
  },
  {
   "cell_type": "code",
   "execution_count": 186,
   "metadata": {},
   "outputs": [
    {
     "data": {
      "text/plain": [
       "array([[19., 14.],\n",
       "       [ 6., 26.]])"
      ]
     },
     "execution_count": 186,
     "metadata": {},
     "output_type": "execute_result"
    }
   ],
   "source": [
    "mx1 = np.array([[1.0, 3.0], [4.0, 2.0]])\n",
    "mx2 = np.array([[-2.0, 5.0], [7.0, 3.0]])\n",
    "mx1 @ mx2"
   ]
  },
  {
   "cell_type": "markdown",
   "metadata": {},
   "source": [
    "The same operator will do matrix-vector multiplication if the right hand side is a vector."
   ]
  },
  {
   "cell_type": "code",
   "execution_count": 187,
   "metadata": {},
   "outputs": [
    {
     "data": {
      "text/plain": [
       "array([-7., -8.])"
      ]
     },
     "execution_count": 187,
     "metadata": {},
     "output_type": "execute_result"
    }
   ],
   "source": [
    "vec = np.array([-1.0, -2.0])\n",
    "mx1 @ vec"
   ]
  },
  {
   "cell_type": "markdown",
   "metadata": {},
   "source": [
    "The `@`-operator also works with arrays of higher dimension, where this sort of thing is called \"contraction,\" but it's really the same thing. The last dimension of the left-hand-side will be contracted with the first dimension on the right-hand-side.\n",
    "\n",
    "This lets us do some cool things. For example, this is an inner product, $v^\\intercal v$:"
   ]
  },
  {
   "cell_type": "code",
   "execution_count": 188,
   "metadata": {},
   "outputs": [
    {
     "data": {
      "text/plain": [
       "5.0"
      ]
     },
     "execution_count": 188,
     "metadata": {},
     "output_type": "execute_result"
    }
   ],
   "source": [
    "vec @ vec"
   ]
  },
  {
   "cell_type": "markdown",
   "metadata": {},
   "source": [
    "And this is the often-seen generalized inner product $v^\\intercal M v$:"
   ]
  },
  {
   "cell_type": "code",
   "execution_count": 189,
   "metadata": {},
   "outputs": [
    {
     "data": {
      "text/plain": [
       "23.0"
      ]
     },
     "execution_count": 189,
     "metadata": {},
     "output_type": "execute_result"
    }
   ],
   "source": [
    "vec @ mx1 @ vec"
   ]
  },
  {
   "cell_type": "markdown",
   "metadata": {},
   "source": [
    "## Forming arrays"
   ]
  },
  {
   "cell_type": "markdown",
   "metadata": {},
   "source": [
    "Forming large arrays is tedious with the list-of-lists style constructor. Fortunately, Numpy has a wide range of functions that can help us."
   ]
  },
  {
   "cell_type": "code",
   "execution_count": 190,
   "metadata": {},
   "outputs": [
    {
     "data": {
      "text/plain": [
       "array([[1., 1.],\n",
       "       [1., 1.]])"
      ]
     },
     "execution_count": 190,
     "metadata": {},
     "output_type": "execute_result"
    }
   ],
   "source": [
    "# An array full of ones\n",
    "np.ones((2,2))"
   ]
  },
  {
   "cell_type": "code",
   "execution_count": 191,
   "metadata": {},
   "outputs": [
    {
     "data": {
      "text/plain": [
       "array([[0., 0.],\n",
       "       [0., 0.]])"
      ]
     },
     "execution_count": 191,
     "metadata": {},
     "output_type": "execute_result"
    }
   ],
   "source": [
    "# An array full of zeros\n",
    "np.zeros((2,2))"
   ]
  },
  {
   "cell_type": "code",
   "execution_count": 192,
   "metadata": {},
   "outputs": [
    {
     "data": {
      "text/plain": [
       "array([[          0, -1071513600],\n",
       "       [          0, -1071906816]])"
      ]
     },
     "execution_count": 192,
     "metadata": {},
     "output_type": "execute_result"
    }
   ],
   "source": [
    "# An array full of garbage (if you try this, your garbage may be different)\n",
    "np.empty((2,2), dtype=np.int)"
   ]
  },
  {
   "cell_type": "code",
   "execution_count": 193,
   "metadata": {},
   "outputs": [
    {
     "data": {
      "text/plain": [
       "array([[1, 0, 0],\n",
       "       [0, 2, 0],\n",
       "       [0, 0, 3]])"
      ]
     },
     "execution_count": 193,
     "metadata": {},
     "output_type": "execute_result"
    }
   ],
   "source": [
    "# A diagonal matrix\n",
    "np.diag([1, 2, 3])"
   ]
  },
  {
   "cell_type": "code",
   "execution_count": 194,
   "metadata": {},
   "outputs": [
    {
     "data": {
      "text/plain": [
       "array([0, 1, 2, 3, 4])"
      ]
     },
     "execution_count": 194,
     "metadata": {},
     "output_type": "execute_result"
    }
   ],
   "source": [
    "# A range, similar to Python's range() function\n",
    "np.arange(5)"
   ]
  },
  {
   "cell_type": "code",
   "execution_count": 195,
   "metadata": {},
   "outputs": [
    {
     "data": {
      "text/plain": [
       "array([2, 3, 4])"
      ]
     },
     "execution_count": 195,
     "metadata": {},
     "output_type": "execute_result"
    }
   ],
   "source": [
    "np.arange(2, 5)"
   ]
  },
  {
   "cell_type": "code",
   "execution_count": 196,
   "metadata": {},
   "outputs": [
    {
     "data": {
      "text/plain": [
       "array([2. , 2.5, 3. , 3.5, 4. , 4.5])"
      ]
     },
     "execution_count": 196,
     "metadata": {},
     "output_type": "execute_result"
    }
   ],
   "source": [
    "np.arange(2, 5, 0.5)"
   ]
  },
  {
   "cell_type": "code",
   "execution_count": 197,
   "metadata": {},
   "outputs": [
    {
     "data": {
      "text/plain": [
       "array([ 0.,  1.,  2.,  3.,  4.,  5.,  6.,  7.,  8.,  9., 10.])"
      ]
     },
     "execution_count": 197,
     "metadata": {},
     "output_type": "execute_result"
    }
   ],
   "source": [
    "# A vector of uniformly spaced points (start, end, number of points)\n",
    "np.linspace(0, 10, 11)"
   ]
  },
  {
   "cell_type": "code",
   "execution_count": 198,
   "metadata": {},
   "outputs": [
    {
     "data": {
      "text/plain": [
       "array([0. , 0.5, 1. ])"
      ]
     },
     "execution_count": 198,
     "metadata": {},
     "output_type": "execute_result"
    }
   ],
   "source": [
    "np.linspace(0, 1, 3)"
   ]
  },
  {
   "cell_type": "markdown",
   "metadata": {},
   "source": [
    "**WARNING:** `linspace` is almost universally preferable to `arange`. Due to floating point roundoff errors, `arange` may occasionally produce an array of a different size than you expect. `linspace` doesn't have that problem."
   ]
  },
  {
   "cell_type": "markdown",
   "metadata": {},
   "source": [
    "## Indexing arrays"
   ]
  },
  {
   "cell_type": "markdown",
   "metadata": {},
   "source": [
    "You can access array elements by providing their index in a comma-separated fashion. Let's create a three-dimensional array to play around with."
   ]
  },
  {
   "cell_type": "code",
   "execution_count": 199,
   "metadata": {},
   "outputs": [
    {
     "data": {
      "text/plain": [
       "(4, 2, 3)"
      ]
     },
     "execution_count": 199,
     "metadata": {},
     "output_type": "execute_result"
    }
   ],
   "source": [
    "myarray = np.array([[[1, 2, 3], [4, 5, 6]], \n",
    "                    [[7, 8, 9], [10, 11, 12]],\n",
    "                    [[13, 14, 15], [16, 17, 18]],\n",
    "                    [[19, 20, 21], [22, 23, 24]]])\n",
    "myarray.shape"
   ]
  },
  {
   "cell_type": "code",
   "execution_count": 200,
   "metadata": {},
   "outputs": [
    {
     "data": {
      "text/plain": [
       "12"
      ]
     },
     "execution_count": 200,
     "metadata": {},
     "output_type": "execute_result"
    }
   ],
   "source": [
    "# Get a single element\n",
    "myarray[1,1,2]"
   ]
  },
  {
   "cell_type": "code",
   "execution_count": 201,
   "metadata": {},
   "outputs": [
    {
     "data": {
      "text/plain": [
       "array([10, 11, 12])"
      ]
     },
     "execution_count": 201,
     "metadata": {},
     "output_type": "execute_result"
    }
   ],
   "source": [
    "# Get a vector along the last dimension\n",
    "myarray[1,1,:]"
   ]
  },
  {
   "cell_type": "code",
   "execution_count": 202,
   "metadata": {},
   "outputs": [
    {
     "data": {
      "text/plain": [
       "array([ 9, 12])"
      ]
     },
     "execution_count": 202,
     "metadata": {},
     "output_type": "execute_result"
    }
   ],
   "source": [
    "# Get a vector along the middle dimension\n",
    "myarray[1,:,2]"
   ]
  },
  {
   "cell_type": "code",
   "execution_count": 203,
   "metadata": {},
   "outputs": [
    {
     "data": {
      "text/plain": [
       "array([ 6, 12, 18, 24])"
      ]
     },
     "execution_count": 203,
     "metadata": {},
     "output_type": "execute_result"
    }
   ],
   "source": [
    "# Get a vector along the first dimension\n",
    "myarray[:,1,2]"
   ]
  },
  {
   "cell_type": "code",
   "execution_count": 204,
   "metadata": {},
   "outputs": [
    {
     "data": {
      "text/plain": [
       "array([[13, 14, 15],\n",
       "       [16, 17, 18]])"
      ]
     },
     "execution_count": 204,
     "metadata": {},
     "output_type": "execute_result"
    }
   ],
   "source": [
    "# Get a sub-matrix\n",
    "myarray[2,:,:]"
   ]
  },
  {
   "cell_type": "code",
   "execution_count": 205,
   "metadata": {},
   "outputs": [
    {
     "data": {
      "text/plain": [
       "array([[13, 14, 15],\n",
       "       [16, 17, 18]])"
      ]
     },
     "execution_count": 205,
     "metadata": {},
     "output_type": "execute_result"
    }
   ],
   "source": [
    "# The last example can also be written like this\n",
    "myarray[2]"
   ]
  },
  {
   "cell_type": "code",
   "execution_count": 206,
   "metadata": {},
   "outputs": [
    {
     "data": {
      "text/plain": [
       "array([[13, 14, 15],\n",
       "       [16, 17, 18]])"
      ]
     },
     "execution_count": 206,
     "metadata": {},
     "output_type": "execute_result"
    }
   ],
   "source": [
    "# ... or like this\n",
    "myarray[2,...]"
   ]
  },
  {
   "cell_type": "code",
   "execution_count": 207,
   "metadata": {},
   "outputs": [
    {
     "data": {
      "text/plain": [
       "array([[ 3,  6],\n",
       "       [ 9, 12],\n",
       "       [15, 18],\n",
       "       [21, 24]])"
      ]
     },
     "execution_count": 207,
     "metadata": {},
     "output_type": "execute_result"
    }
   ],
   "source": [
    "# Get another sub-matrix\n",
    "myarray[:,:,2]"
   ]
  },
  {
   "cell_type": "code",
   "execution_count": 208,
   "metadata": {},
   "outputs": [
    {
     "data": {
      "text/plain": [
       "array([[ 3,  6],\n",
       "       [ 9, 12],\n",
       "       [15, 18],\n",
       "       [21, 24]])"
      ]
     },
     "execution_count": 208,
     "metadata": {},
     "output_type": "execute_result"
    }
   ],
   "source": [
    "# That example can also be written like this\n",
    "myarray[...,2]"
   ]
  },
  {
   "cell_type": "code",
   "execution_count": 209,
   "metadata": {},
   "outputs": [
    {
     "data": {
      "text/plain": [
       "array([[ 9, 12],\n",
       "       [15, 18]])"
      ]
     },
     "execution_count": 209,
     "metadata": {},
     "output_type": "execute_result"
    }
   ],
   "source": [
    "# Like with lists, you can also do slicing\n",
    "myarray[1:3,:,2]"
   ]
  },
  {
   "cell_type": "markdown",
   "metadata": {},
   "source": [
    "You can grab multiple single elements at once by indexing with lists or tuples. For example:"
   ]
  },
  {
   "cell_type": "code",
   "execution_count": 210,
   "metadata": {},
   "outputs": [
    {
     "data": {
      "text/plain": [
       "array([ 7, 18])"
      ]
     },
     "execution_count": 210,
     "metadata": {},
     "output_type": "execute_result"
    }
   ],
   "source": [
    "myarray[(1,2), (0,1), (0,2)]"
   ]
  },
  {
   "cell_type": "markdown",
   "metadata": {},
   "source": [
    "This is the same as doing"
   ]
  },
  {
   "cell_type": "code",
   "execution_count": 211,
   "metadata": {},
   "outputs": [
    {
     "data": {
      "text/plain": [
       "array([ 7, 18])"
      ]
     },
     "execution_count": 211,
     "metadata": {},
     "output_type": "execute_result"
    }
   ],
   "source": [
    "np.array([myarray[1,0,0], myarray[2,1,2]])"
   ]
  },
  {
   "cell_type": "markdown",
   "metadata": {},
   "source": [
    "This is a frequent source of confusion, as people often expect this to create a 2×2×2 array, like this. (You don't have to double-check the indices. I got them right.)"
   ]
  },
  {
   "cell_type": "code",
   "execution_count": 212,
   "metadata": {},
   "outputs": [
    {
     "data": {
      "text/plain": [
       "array([[[ 7,  9],\n",
       "        [10, 12]],\n",
       "\n",
       "       [[13, 15],\n",
       "        [16, 18]]])"
      ]
     },
     "execution_count": 212,
     "metadata": {},
     "output_type": "execute_result"
    }
   ],
   "source": [
    "np.array([[[myarray[1,0,0], myarray[1,0,2]],\n",
    "           [myarray[1,1,0], myarray[1,1,2]]],\n",
    "          [[myarray[2,0,0], myarray[2,0,2]],\n",
    "           [myarray[2,1,0], myarray[2,1,2]]]])"
   ]
  },
  {
   "cell_type": "markdown",
   "metadata": {},
   "source": [
    "To do this, you can use the `np.ix_` function, so named because of no conceivable reason whatsoever."
   ]
  },
  {
   "cell_type": "code",
   "execution_count": 213,
   "metadata": {},
   "outputs": [
    {
     "data": {
      "text/plain": [
       "array([[[ 7,  9],\n",
       "        [10, 12]],\n",
       "\n",
       "       [[13, 15],\n",
       "        [16, 18]]])"
      ]
     },
     "execution_count": 213,
     "metadata": {},
     "output_type": "execute_result"
    }
   ],
   "source": [
    "myarray[np.ix_((1,2), (0,1), (0,2))]"
   ]
  },
  {
   "cell_type": "markdown",
   "metadata": {},
   "source": [
    "## Miscellaneous array manipulation"
   ]
  },
  {
   "cell_type": "markdown",
   "metadata": {},
   "source": [
    "In what follows I will try to present a grab-bag of useful tricks when it comes to dealing with arrays. This list is colored by experience, essentially a \"best of\" of my Google search history of things I always need to look up to remember how it works. I hope that by creating this list, you will need to do less googling during this course."
   ]
  },
  {
   "cell_type": "code",
   "execution_count": 214,
   "metadata": {},
   "outputs": [
    {
     "data": {
      "text/plain": [
       "3"
      ]
     },
     "execution_count": 214,
     "metadata": {},
     "output_type": "execute_result"
    }
   ],
   "source": [
    "# Number of dimensions of an array\n",
    "myarray.ndim"
   ]
  },
  {
   "cell_type": "code",
   "execution_count": 215,
   "metadata": {},
   "outputs": [
    {
     "data": {
      "text/plain": [
       "24"
      ]
     },
     "execution_count": 215,
     "metadata": {},
     "output_type": "execute_result"
    }
   ],
   "source": [
    "# Number of elements of an array (product of the lengths of each dimension)\n",
    "myarray.size"
   ]
  },
  {
   "cell_type": "code",
   "execution_count": 216,
   "metadata": {},
   "outputs": [
    {
     "data": {
      "text/plain": [
       "array([ 1,  2,  3,  4,  5,  6,  7,  8,  9, 10, 11, 12, 13, 14, 15, 16, 17,\n",
       "       18, 19, 20, 21, 22, 23, 24])"
      ]
     },
     "execution_count": 216,
     "metadata": {},
     "output_type": "execute_result"
    }
   ],
   "source": [
    "# Flattening an array to a vector\n",
    "myarray.flatten()"
   ]
  },
  {
   "cell_type": "code",
   "execution_count": 217,
   "metadata": {},
   "outputs": [
    {
     "data": {
      "text/plain": [
       "4"
      ]
     },
     "execution_count": 217,
     "metadata": {},
     "output_type": "execute_result"
    }
   ],
   "source": [
    "# Flat (single-dimensional) indexing\n",
    "myarray.flat[3] "
   ]
  },
  {
   "cell_type": "code",
   "execution_count": 218,
   "metadata": {},
   "outputs": [
    {
     "data": {
      "text/plain": [
       "(5, 2)"
      ]
     },
     "execution_count": 218,
     "metadata": {},
     "output_type": "execute_result"
    }
   ],
   "source": [
    "# Vertical stacking (along the first dimension)\n",
    "np.vstack([np.ones((3,2)), np.ones((2,2))]).shape"
   ]
  },
  {
   "cell_type": "code",
   "execution_count": 219,
   "metadata": {},
   "outputs": [
    {
     "data": {
      "text/plain": [
       "(2, 5)"
      ]
     },
     "execution_count": 219,
     "metadata": {},
     "output_type": "execute_result"
    }
   ],
   "source": [
    "# Horizontal stacking (along the second dimension)\n",
    "np.hstack([np.ones((2,3)), np.ones((2,2))]).shape"
   ]
  },
  {
   "cell_type": "code",
   "execution_count": 221,
   "metadata": {},
   "outputs": [
    {
     "data": {
      "text/plain": [
       "array([[[ True, False, False],\n",
       "        [False, False, False]],\n",
       "\n",
       "       [[False, False, False],\n",
       "        [False, False, False]],\n",
       "\n",
       "       [[False, False, False],\n",
       "        [False, False, False]],\n",
       "\n",
       "       [[False, False, False],\n",
       "        [False, False, False]]])"
      ]
     },
     "execution_count": 221,
     "metadata": {},
     "output_type": "execute_result"
    }
   ],
   "source": [
    "# Elementwise comparison\n",
    "myarray == 1"
   ]
  },
  {
   "cell_type": "code",
   "execution_count": 222,
   "metadata": {},
   "outputs": [
    {
     "data": {
      "text/plain": [
       "True"
      ]
     },
     "execution_count": 222,
     "metadata": {},
     "output_type": "execute_result"
    }
   ],
   "source": [
    "# Use .any() or .all() to compress to a single boolean\n",
    "(myarray == 1).any()"
   ]
  },
  {
   "cell_type": "code",
   "execution_count": 223,
   "metadata": {},
   "outputs": [
    {
     "data": {
      "text/plain": [
       "False"
      ]
     },
     "execution_count": 223,
     "metadata": {},
     "output_type": "execute_result"
    }
   ],
   "source": [
    "(myarray == 1).all()"
   ]
  },
  {
   "cell_type": "code",
   "execution_count": 224,
   "metadata": {},
   "outputs": [
    {
     "data": {
      "text/plain": [
       "True"
      ]
     },
     "execution_count": 224,
     "metadata": {},
     "output_type": "execute_result"
    }
   ],
   "source": [
    "(myarray > 0).all()"
   ]
  },
  {
   "cell_type": "code",
   "execution_count": 225,
   "metadata": {},
   "outputs": [
    {
     "data": {
      "text/plain": [
       "array([[[ 1,  2],\n",
       "        [ 3,  4],\n",
       "        [ 5,  6],\n",
       "        [ 7,  8]],\n",
       "\n",
       "       [[ 9, 10],\n",
       "        [11, 12],\n",
       "        [13, 14],\n",
       "        [15, 16]],\n",
       "\n",
       "       [[17, 18],\n",
       "        [19, 20],\n",
       "        [21, 22],\n",
       "        [23, 24]]])"
      ]
     },
     "execution_count": 225,
     "metadata": {},
     "output_type": "execute_result"
    }
   ],
   "source": [
    "# Reshaping an array (you need to ensure that the total size is the same)\n",
    "myarray.reshape((3,4,2))"
   ]
  },
  {
   "cell_type": "code",
   "execution_count": 226,
   "metadata": {},
   "outputs": [
    {
     "data": {
      "text/plain": [
       "True"
      ]
     },
     "execution_count": 226,
     "metadata": {},
     "output_type": "execute_result"
    }
   ],
   "source": [
    "# Note that reshaping respects the same order as .flatten(), i.e. the following is true\n",
    "(myarray.reshape((3,4,2)).flatten() == myarray.flatten()).all()"
   ]
  },
  {
   "cell_type": "code",
   "execution_count": 227,
   "metadata": {},
   "outputs": [
    {
     "data": {
      "text/plain": [
       "(4, 1, 2, 3)"
      ]
     },
     "execution_count": 227,
     "metadata": {},
     "output_type": "execute_result"
    }
   ],
   "source": [
    "# Add new singleton dimensions to an array by using np.newaxis\n",
    "myarray[:,np.newaxis,...].shape"
   ]
  },
  {
   "cell_type": "code",
   "execution_count": 228,
   "metadata": {},
   "outputs": [
    {
     "data": {
      "text/plain": [
       "(4, 1, 2, 3)"
      ]
     },
     "execution_count": 228,
     "metadata": {},
     "output_type": "execute_result"
    }
   ],
   "source": [
    "# This is common\n",
    "_ = np.newaxis\n",
    "myarray[:,_,...].shape"
   ]
  },
  {
   "cell_type": "code",
   "execution_count": 229,
   "metadata": {},
   "outputs": [
    {
     "data": {
      "text/plain": [
       "array([[40, 44, 48],\n",
       "       [52, 56, 60]])"
      ]
     },
     "execution_count": 229,
     "metadata": {},
     "output_type": "execute_result"
    }
   ],
   "source": [
    "# Sum along an axis\n",
    "myarray.sum(0)"
   ]
  },
  {
   "cell_type": "code",
   "execution_count": 230,
   "metadata": {},
   "outputs": [
    {
     "data": {
      "text/plain": [
       "array([ 92, 100, 108])"
      ]
     },
     "execution_count": 230,
     "metadata": {},
     "output_type": "execute_result"
    }
   ],
   "source": [
    "# Or along multiple axes\n",
    "myarray.sum((0, 1))"
   ]
  },
  {
   "cell_type": "code",
   "execution_count": 231,
   "metadata": {},
   "outputs": [
    {
     "data": {
      "text/plain": [
       "array([ 24344320,  96342400, 264539520])"
      ]
     },
     "execution_count": 231,
     "metadata": {},
     "output_type": "execute_result"
    }
   ],
   "source": [
    "# Product also works\n",
    "myarray.prod((0, 1))"
   ]
  },
  {
   "cell_type": "code",
   "execution_count": 232,
   "metadata": {},
   "outputs": [
    {
     "data": {
      "text/plain": [
       "array([[[ 1,  2,  3],\n",
       "        [ 4,  5,  6]],\n",
       "\n",
       "       [[ 8, 10, 12],\n",
       "        [14, 16, 18]],\n",
       "\n",
       "       [[21, 24, 27],\n",
       "        [30, 33, 36]],\n",
       "\n",
       "       [[40, 44, 48],\n",
       "        [52, 56, 60]]], dtype=int32)"
      ]
     },
     "execution_count": 232,
     "metadata": {},
     "output_type": "execute_result"
    }
   ],
   "source": [
    "# Cumulative sums and products\n",
    "myarray.cumsum(0)"
   ]
  },
  {
   "cell_type": "code",
   "execution_count": 233,
   "metadata": {},
   "outputs": [
    {
     "data": {
      "text/plain": [
       "array([ 1,  3,  5,  7,  9, 11, 13, 15, 17], dtype=int32)"
      ]
     },
     "execution_count": 233,
     "metadata": {},
     "output_type": "execute_result"
    }
   ],
   "source": [
    "# Differencing\n",
    "np.diff(np.arange(10)**2)"
   ]
  },
  {
   "cell_type": "code",
   "execution_count": 234,
   "metadata": {},
   "outputs": [
    {
     "data": {
      "text/plain": [
       "(3, 2, 4)"
      ]
     },
     "execution_count": 234,
     "metadata": {},
     "output_type": "execute_result"
    }
   ],
   "source": [
    "# Transposition generally inverts the order of the dimensions\n",
    "myarray.T.shape"
   ]
  },
  {
   "cell_type": "code",
   "execution_count": 235,
   "metadata": {},
   "outputs": [
    {
     "data": {
      "text/plain": [
       "(4, 3, 2)"
      ]
     },
     "execution_count": 235,
     "metadata": {},
     "output_type": "execute_result"
    }
   ],
   "source": [
    "# More complex reordering can be done with .transpose(). For example, to swap the last two dimensions:\n",
    "myarray.transpose((0,2,1)).shape"
   ]
  },
  {
   "cell_type": "code",
   "execution_count": 236,
   "metadata": {},
   "outputs": [
    {
     "data": {
      "text/plain": [
       "(4, 1, 1, 2, 1, 3, 1)"
      ]
     },
     "execution_count": 236,
     "metadata": {},
     "output_type": "execute_result"
    }
   ],
   "source": [
    "# np.squeeze removes singleton dimensions\n",
    "test = myarray[:,_,_,:,_,:,_]\n",
    "test.shape"
   ]
  },
  {
   "cell_type": "code",
   "execution_count": 237,
   "metadata": {},
   "outputs": [
    {
     "data": {
      "text/plain": [
       "(4, 2, 3)"
      ]
     },
     "execution_count": 237,
     "metadata": {},
     "output_type": "execute_result"
    }
   ],
   "source": [
    "np.squeeze(test).shape"
   ]
  },
  {
   "cell_type": "code",
   "execution_count": 238,
   "metadata": {},
   "outputs": [
    {
     "data": {
      "text/plain": [
       "(array([1, 1, 2, 2, 2, 2, 2, 2, 3, 3, 3, 3, 3, 3], dtype=int64),\n",
       " array([1, 1, 0, 0, 0, 1, 1, 1, 0, 0, 0, 1, 1, 1], dtype=int64),\n",
       " array([1, 2, 0, 1, 2, 0, 1, 2, 0, 1, 2, 0, 1, 2], dtype=int64))"
      ]
     },
     "execution_count": 238,
     "metadata": {},
     "output_type": "execute_result"
    }
   ],
   "source": [
    "# You can use np.where to filter an array, for example this returns a tuple of indexes where a condition holds.\n",
    "np.where(myarray > 10)"
   ]
  },
  {
   "cell_type": "code",
   "execution_count": 239,
   "metadata": {},
   "outputs": [
    {
     "data": {
      "text/plain": [
       "array([11, 12, 13, 14, 15, 16, 17, 18, 19, 20, 21, 22, 23, 24])"
      ]
     },
     "execution_count": 239,
     "metadata": {},
     "output_type": "execute_result"
    }
   ],
   "source": [
    "# That tuple can be used as an index itself, remember?\n",
    "myarray[np.where(myarray > 10)]"
   ]
  },
  {
   "cell_type": "markdown",
   "metadata": {},
   "source": [
    "Note that this trick in general will return a flat array, since there's no way of knowing whether the elements for which the condition is true will have a suitable multidimensional array-like structure. However, we can use `np.where` with three arguments to do this:"
   ]
  },
  {
   "cell_type": "code",
   "execution_count": 240,
   "metadata": {},
   "outputs": [
    {
     "data": {
      "text/plain": [
       "array([[[-1, -1, -1],\n",
       "        [-1, -1, -1]],\n",
       "\n",
       "       [[-1, -1, -1],\n",
       "        [-1, 11, 12]],\n",
       "\n",
       "       [[13, 14, 15],\n",
       "        [16, 17, 18]],\n",
       "\n",
       "       [[19, 20, 21],\n",
       "        [22, 23, 24]]])"
      ]
     },
     "execution_count": 240,
     "metadata": {},
     "output_type": "execute_result"
    }
   ],
   "source": [
    "np.where(myarray > 10, myarray, -1)"
   ]
  },
  {
   "cell_type": "markdown",
   "metadata": {},
   "source": [
    "The first argument is a condition. For the entries where the condition is true, elements are chosen from the second argument, otherwise the third. Like for general broadcasting, the shapes of the arguments must be compatible to make this work."
   ]
  },
  {
   "cell_type": "markdown",
   "metadata": {},
   "source": [
    "The best way to save arrays to disk is to use `np.save` and `np.load`."
   ]
  },
  {
   "cell_type": "code",
   "execution_count": 241,
   "metadata": {},
   "outputs": [
    {
     "data": {
      "text/plain": [
       "True"
      ]
     },
     "execution_count": 241,
     "metadata": {},
     "output_type": "execute_result"
    }
   ],
   "source": [
    "np.save('filename.npy', myarray)\n",
    "test = np.load('filename.npy')\n",
    "(myarray == test).all()"
   ]
  },
  {
   "cell_type": "markdown",
   "metadata": {},
   "source": [
    "The second best way to save arrays to disk is to use `np.savetxt` and `np.loadtxt`. As the name suggests, these files are readable by humans."
   ]
  },
  {
   "cell_type": "markdown",
   "metadata": {},
   "source": [
    "# Pandas"
   ]
  },
  {
   "cell_type": "markdown",
   "metadata": {},
   "source": [
    "*Pandas* is the premier Python package for data analysis. Pandas is built around the concept of *series* (akin to Numpy vectors) and *data frames* (akin to Numpy matrices). Unlike their Numpy counterparts, Pandas has a rich API that often makes series and data frames more convenient to work with.\n",
    "\n",
    "The source data we will be playing around with are weather measurements in Montreal in 2012. As is typical, the data is found in a CSV-file (comma-separated values). Pandas has an incredibly useful `read_csv` function.\n",
    "\n",
    "First though, let's import Pandas. Conventionally it is given the name `pd`."
   ]
  },
  {
   "cell_type": "code",
   "execution_count": 81,
   "metadata": {},
   "outputs": [],
   "source": [
    "%matplotlib inline\n",
    "import pandas as pd\n",
    "import numpy as np\n",
    "from matplotlib import pyplot as plt"
   ]
  },
  {
   "cell_type": "markdown",
   "metadata": {},
   "source": [
    "Now let us read the CSV file and display it."
   ]
  },
  {
   "cell_type": "code",
   "execution_count": 86,
   "metadata": {},
   "outputs": [
    {
     "data": {
      "text/html": [
       "<div>\n",
       "<style scoped>\n",
       "    .dataframe tbody tr th:only-of-type {\n",
       "        vertical-align: middle;\n",
       "    }\n",
       "\n",
       "    .dataframe tbody tr th {\n",
       "        vertical-align: top;\n",
       "    }\n",
       "\n",
       "    .dataframe thead th {\n",
       "        text-align: right;\n",
       "    }\n",
       "</style>\n",
       "<table border=\"1\" class=\"dataframe\">\n",
       "  <thead>\n",
       "    <tr style=\"text-align: right;\">\n",
       "      <th></th>\n",
       "      <th>Date/Time</th>\n",
       "      <th>Temp (C)</th>\n",
       "      <th>Dew Point Temp (C)</th>\n",
       "      <th>Rel Hum (%)</th>\n",
       "      <th>Wind Spd (km/h)</th>\n",
       "      <th>Visibility (km)</th>\n",
       "      <th>Stn Press (kPa)</th>\n",
       "      <th>Weather</th>\n",
       "    </tr>\n",
       "  </thead>\n",
       "  <tbody>\n",
       "    <tr>\n",
       "      <th>0</th>\n",
       "      <td>2012-01-01 00:00:00</td>\n",
       "      <td>-1.8</td>\n",
       "      <td>-3.9</td>\n",
       "      <td>86</td>\n",
       "      <td>4</td>\n",
       "      <td>8.0</td>\n",
       "      <td>101.24</td>\n",
       "      <td>Fog</td>\n",
       "    </tr>\n",
       "    <tr>\n",
       "      <th>1</th>\n",
       "      <td>2012-01-01 01:00:00</td>\n",
       "      <td>-1.8</td>\n",
       "      <td>-3.7</td>\n",
       "      <td>87</td>\n",
       "      <td>4</td>\n",
       "      <td>8.0</td>\n",
       "      <td>101.24</td>\n",
       "      <td>Fog</td>\n",
       "    </tr>\n",
       "    <tr>\n",
       "      <th>2</th>\n",
       "      <td>2012-01-01 02:00:00</td>\n",
       "      <td>-1.8</td>\n",
       "      <td>-3.4</td>\n",
       "      <td>89</td>\n",
       "      <td>7</td>\n",
       "      <td>4.0</td>\n",
       "      <td>101.26</td>\n",
       "      <td>Freezing Drizzle,Fog</td>\n",
       "    </tr>\n",
       "    <tr>\n",
       "      <th>3</th>\n",
       "      <td>2012-01-01 03:00:00</td>\n",
       "      <td>-1.5</td>\n",
       "      <td>-3.2</td>\n",
       "      <td>88</td>\n",
       "      <td>6</td>\n",
       "      <td>4.0</td>\n",
       "      <td>101.27</td>\n",
       "      <td>Freezing Drizzle,Fog</td>\n",
       "    </tr>\n",
       "    <tr>\n",
       "      <th>4</th>\n",
       "      <td>2012-01-01 04:00:00</td>\n",
       "      <td>-1.5</td>\n",
       "      <td>-3.3</td>\n",
       "      <td>88</td>\n",
       "      <td>7</td>\n",
       "      <td>4.8</td>\n",
       "      <td>101.23</td>\n",
       "      <td>Fog</td>\n",
       "    </tr>\n",
       "    <tr>\n",
       "      <th>5</th>\n",
       "      <td>2012-01-01 05:00:00</td>\n",
       "      <td>-1.4</td>\n",
       "      <td>-3.3</td>\n",
       "      <td>87</td>\n",
       "      <td>9</td>\n",
       "      <td>6.4</td>\n",
       "      <td>101.27</td>\n",
       "      <td>Fog</td>\n",
       "    </tr>\n",
       "    <tr>\n",
       "      <th>6</th>\n",
       "      <td>2012-01-01 06:00:00</td>\n",
       "      <td>-1.5</td>\n",
       "      <td>-3.1</td>\n",
       "      <td>89</td>\n",
       "      <td>7</td>\n",
       "      <td>6.4</td>\n",
       "      <td>101.29</td>\n",
       "      <td>Fog</td>\n",
       "    </tr>\n",
       "    <tr>\n",
       "      <th>7</th>\n",
       "      <td>2012-01-01 07:00:00</td>\n",
       "      <td>-1.4</td>\n",
       "      <td>-3.6</td>\n",
       "      <td>85</td>\n",
       "      <td>7</td>\n",
       "      <td>8.0</td>\n",
       "      <td>101.26</td>\n",
       "      <td>Fog</td>\n",
       "    </tr>\n",
       "    <tr>\n",
       "      <th>8</th>\n",
       "      <td>2012-01-01 08:00:00</td>\n",
       "      <td>-1.4</td>\n",
       "      <td>-3.6</td>\n",
       "      <td>85</td>\n",
       "      <td>9</td>\n",
       "      <td>8.0</td>\n",
       "      <td>101.23</td>\n",
       "      <td>Fog</td>\n",
       "    </tr>\n",
       "    <tr>\n",
       "      <th>9</th>\n",
       "      <td>2012-01-01 09:00:00</td>\n",
       "      <td>-1.3</td>\n",
       "      <td>-3.1</td>\n",
       "      <td>88</td>\n",
       "      <td>15</td>\n",
       "      <td>4.0</td>\n",
       "      <td>101.20</td>\n",
       "      <td>Fog</td>\n",
       "    </tr>\n",
       "  </tbody>\n",
       "</table>\n",
       "</div>"
      ],
      "text/plain": [
       "             Date/Time  Temp (C)  Dew Point Temp (C)  Rel Hum (%)  \\\n",
       "0  2012-01-01 00:00:00      -1.8                -3.9           86   \n",
       "1  2012-01-01 01:00:00      -1.8                -3.7           87   \n",
       "2  2012-01-01 02:00:00      -1.8                -3.4           89   \n",
       "3  2012-01-01 03:00:00      -1.5                -3.2           88   \n",
       "4  2012-01-01 04:00:00      -1.5                -3.3           88   \n",
       "5  2012-01-01 05:00:00      -1.4                -3.3           87   \n",
       "6  2012-01-01 06:00:00      -1.5                -3.1           89   \n",
       "7  2012-01-01 07:00:00      -1.4                -3.6           85   \n",
       "8  2012-01-01 08:00:00      -1.4                -3.6           85   \n",
       "9  2012-01-01 09:00:00      -1.3                -3.1           88   \n",
       "\n",
       "   Wind Spd (km/h)  Visibility (km)  Stn Press (kPa)               Weather  \n",
       "0                4              8.0           101.24                   Fog  \n",
       "1                4              8.0           101.24                   Fog  \n",
       "2                7              4.0           101.26  Freezing Drizzle,Fog  \n",
       "3                6              4.0           101.27  Freezing Drizzle,Fog  \n",
       "4                7              4.8           101.23                   Fog  \n",
       "5                9              6.4           101.27                   Fog  \n",
       "6                7              6.4           101.29                   Fog  \n",
       "7                7              8.0           101.26                   Fog  \n",
       "8                9              8.0           101.23                   Fog  \n",
       "9               15              4.0           101.20                   Fog  "
      ]
     },
     "execution_count": 86,
     "metadata": {},
     "output_type": "execute_result"
    }
   ],
   "source": [
    "data = pd.read_csv('Montreal.csv')\n",
    "data.head()\n",
    "#data.tail()"
   ]
  },
  {
   "cell_type": "markdown",
   "metadata": {},
   "source": [
    "\n",
    "Every data frame has an *index* and a number of *columns*. It's useful to double-check after reading a CSV file to ensure that everything is up to scratch. "
   ]
  },
  {
   "cell_type": "code",
   "execution_count": 244,
   "metadata": {},
   "outputs": [
    {
     "data": {
      "text/plain": [
       "RangeIndex(start=0, stop=8784, step=1)"
      ]
     },
     "execution_count": 244,
     "metadata": {},
     "output_type": "execute_result"
    }
   ],
   "source": [
    "data.index"
   ]
  },
  {
   "cell_type": "code",
   "execution_count": 245,
   "metadata": {},
   "outputs": [
    {
     "data": {
      "text/plain": [
       "Date/Time              object\n",
       "Temp (C)              float64\n",
       "Dew Point Temp (C)    float64\n",
       "Rel Hum (%)             int64\n",
       "Wind Spd (km/h)         int64\n",
       "Visibility (km)       float64\n",
       "Stn Press (kPa)       float64\n",
       "Weather                object\n",
       "dtype: object"
      ]
     },
     "execution_count": 245,
     "metadata": {},
     "output_type": "execute_result"
    }
   ],
   "source": [
    "data.dtypes"
   ]
  },
  {
   "cell_type": "markdown",
   "metadata": {},
   "source": [
    "This looks mostly okay, except that we would like our data-frame to be indexed by the date and time, rather than by a number that doesn't really mean that much to us. Let's fix that."
   ]
  },
  {
   "cell_type": "code",
   "execution_count": 89,
   "metadata": {},
   "outputs": [
    {
     "data": {
      "text/plain": [
       "DatetimeIndex(['2012-01-01 00:00:00', '2012-01-01 01:00:00',\n",
       "               '2012-01-01 02:00:00', '2012-01-01 03:00:00',\n",
       "               '2012-01-01 04:00:00', '2012-01-01 05:00:00',\n",
       "               '2012-01-01 06:00:00', '2012-01-01 07:00:00',\n",
       "               '2012-01-01 08:00:00', '2012-01-01 09:00:00',\n",
       "               ...\n",
       "               '2012-12-31 14:00:00', '2012-12-31 15:00:00',\n",
       "               '2012-12-31 16:00:00', '2012-12-31 17:00:00',\n",
       "               '2012-12-31 18:00:00', '2012-12-31 19:00:00',\n",
       "               '2012-12-31 20:00:00', '2012-12-31 21:00:00',\n",
       "               '2012-12-31 22:00:00', '2012-12-31 23:00:00'],\n",
       "              dtype='datetime64[ns]', name='Date/Time', length=8784, freq=None)"
      ]
     },
     "execution_count": 89,
     "metadata": {},
     "output_type": "execute_result"
    }
   ],
   "source": [
    "data = pd.read_csv('Montreal.csv', index_col='Date/Time', parse_dates=['Date/Time'])\n",
    "data.index"
   ]
  },
  {
   "cell_type": "code",
   "execution_count": 249,
   "metadata": {},
   "outputs": [
    {
     "data": {
      "text/html": [
       "<div>\n",
       "<style scoped>\n",
       "    .dataframe tbody tr th:only-of-type {\n",
       "        vertical-align: middle;\n",
       "    }\n",
       "\n",
       "    .dataframe tbody tr th {\n",
       "        vertical-align: top;\n",
       "    }\n",
       "\n",
       "    .dataframe thead th {\n",
       "        text-align: right;\n",
       "    }\n",
       "</style>\n",
       "<table border=\"1\" class=\"dataframe\">\n",
       "  <thead>\n",
       "    <tr style=\"text-align: right;\">\n",
       "      <th></th>\n",
       "      <th>Temp (C)</th>\n",
       "      <th>Dew Point Temp (C)</th>\n",
       "      <th>Rel Hum (%)</th>\n",
       "      <th>Wind Spd (km/h)</th>\n",
       "      <th>Visibility (km)</th>\n",
       "      <th>Stn Press (kPa)</th>\n",
       "      <th>Weather</th>\n",
       "    </tr>\n",
       "    <tr>\n",
       "      <th>Date/Time</th>\n",
       "      <th></th>\n",
       "      <th></th>\n",
       "      <th></th>\n",
       "      <th></th>\n",
       "      <th></th>\n",
       "      <th></th>\n",
       "      <th></th>\n",
       "    </tr>\n",
       "  </thead>\n",
       "  <tbody>\n",
       "    <tr>\n",
       "      <th>2012-01-01 00:00:00</th>\n",
       "      <td>-1.8</td>\n",
       "      <td>-3.9</td>\n",
       "      <td>86</td>\n",
       "      <td>4</td>\n",
       "      <td>8.0</td>\n",
       "      <td>101.24</td>\n",
       "      <td>Fog</td>\n",
       "    </tr>\n",
       "    <tr>\n",
       "      <th>2012-01-01 01:00:00</th>\n",
       "      <td>-1.8</td>\n",
       "      <td>-3.7</td>\n",
       "      <td>87</td>\n",
       "      <td>4</td>\n",
       "      <td>8.0</td>\n",
       "      <td>101.24</td>\n",
       "      <td>Fog</td>\n",
       "    </tr>\n",
       "    <tr>\n",
       "      <th>2012-01-01 02:00:00</th>\n",
       "      <td>-1.8</td>\n",
       "      <td>-3.4</td>\n",
       "      <td>89</td>\n",
       "      <td>7</td>\n",
       "      <td>4.0</td>\n",
       "      <td>101.26</td>\n",
       "      <td>Freezing Drizzle,Fog</td>\n",
       "    </tr>\n",
       "    <tr>\n",
       "      <th>2012-01-01 03:00:00</th>\n",
       "      <td>-1.5</td>\n",
       "      <td>-3.2</td>\n",
       "      <td>88</td>\n",
       "      <td>6</td>\n",
       "      <td>4.0</td>\n",
       "      <td>101.27</td>\n",
       "      <td>Freezing Drizzle,Fog</td>\n",
       "    </tr>\n",
       "    <tr>\n",
       "      <th>2012-01-01 04:00:00</th>\n",
       "      <td>-1.5</td>\n",
       "      <td>-3.3</td>\n",
       "      <td>88</td>\n",
       "      <td>7</td>\n",
       "      <td>4.8</td>\n",
       "      <td>101.23</td>\n",
       "      <td>Fog</td>\n",
       "    </tr>\n",
       "  </tbody>\n",
       "</table>\n",
       "</div>"
      ],
      "text/plain": [
       "                     Temp (C)  Dew Point Temp (C)  Rel Hum (%)  \\\n",
       "Date/Time                                                        \n",
       "2012-01-01 00:00:00      -1.8                -3.9           86   \n",
       "2012-01-01 01:00:00      -1.8                -3.7           87   \n",
       "2012-01-01 02:00:00      -1.8                -3.4           89   \n",
       "2012-01-01 03:00:00      -1.5                -3.2           88   \n",
       "2012-01-01 04:00:00      -1.5                -3.3           88   \n",
       "\n",
       "                     Wind Spd (km/h)  Visibility (km)  Stn Press (kPa)  \\\n",
       "Date/Time                                                                \n",
       "2012-01-01 00:00:00                4              8.0           101.24   \n",
       "2012-01-01 01:00:00                4              8.0           101.24   \n",
       "2012-01-01 02:00:00                7              4.0           101.26   \n",
       "2012-01-01 03:00:00                6              4.0           101.27   \n",
       "2012-01-01 04:00:00                7              4.8           101.23   \n",
       "\n",
       "                                  Weather  \n",
       "Date/Time                                  \n",
       "2012-01-01 00:00:00                   Fog  \n",
       "2012-01-01 01:00:00                   Fog  \n",
       "2012-01-01 02:00:00  Freezing Drizzle,Fog  \n",
       "2012-01-01 03:00:00  Freezing Drizzle,Fog  \n",
       "2012-01-01 04:00:00                   Fog  "
      ]
     },
     "execution_count": 249,
     "metadata": {},
     "output_type": "execute_result"
    }
   ],
   "source": [
    "data.head()"
   ]
  },
  {
   "cell_type": "markdown",
   "metadata": {},
   "source": [
    "As you can see, the index is now a `DateTimeIndex`, and Pandas was able to parse the dates automatically for us."
   ]
  },
  {
   "cell_type": "markdown",
   "metadata": {},
   "source": [
    "If you like, it's always possible to access the back-end Numpy arrays that Pandas use to store its data. For example:"
   ]
  },
  {
   "cell_type": "code",
   "execution_count": 250,
   "metadata": {},
   "outputs": [
    {
     "data": {
      "text/plain": [
       "Timestamp('2012-01-01 00:00:00')"
      ]
     },
     "execution_count": 250,
     "metadata": {},
     "output_type": "execute_result"
    }
   ],
   "source": [
    "data.index[0]"
   ]
  },
  {
   "cell_type": "code",
   "execution_count": 251,
   "metadata": {},
   "outputs": [
    {
     "data": {
      "text/plain": [
       "array([[-1.8, -3.9, 86, ..., 8.0, 101.24, 'Fog'],\n",
       "       [-1.8, -3.7, 87, ..., 8.0, 101.24, 'Fog'],\n",
       "       [-1.8, -3.4, 89, ..., 4.0, 101.26, 'Freezing Drizzle,Fog'],\n",
       "       ...,\n",
       "       [-0.5, -1.5, 93, ..., 4.8, 99.95, 'Snow'],\n",
       "       [-0.2, -1.8, 89, ..., 9.7, 99.91, 'Snow'],\n",
       "       [0.0, -2.1, 86, ..., 11.3, 99.89, 'Snow']], dtype=object)"
      ]
     },
     "execution_count": 251,
     "metadata": {},
     "output_type": "execute_result"
    }
   ],
   "source": [
    "data.values"
   ]
  },
  {
   "cell_type": "markdown",
   "metadata": {},
   "source": [
    "As you can see, the data type of `data.values` is `object`, because our data is heterogeneous (it's a mix of numbers and strings). This makes working with the Numpy array directly somewhat awkward. On the other hand, Pandas seamlessly deals with columns of different types."
   ]
  },
  {
   "cell_type": "markdown",
   "metadata": {},
   "source": [
    "Pandas lets us grab specific columns,"
   ]
  },
  {
   "cell_type": "code",
   "execution_count": 90,
   "metadata": {},
   "outputs": [
    {
     "data": {
      "text/plain": [
       "Date/Time\n",
       "2012-01-01 00:00:00   -3.9\n",
       "2012-01-01 01:00:00   -3.7\n",
       "2012-01-01 02:00:00   -3.4\n",
       "2012-01-01 03:00:00   -3.2\n",
       "2012-01-01 04:00:00   -3.3\n",
       "2012-01-01 05:00:00   -3.3\n",
       "2012-01-01 06:00:00   -3.1\n",
       "2012-01-01 07:00:00   -3.6\n",
       "2012-01-01 08:00:00   -3.6\n",
       "Name: Dew Point Temp (C), dtype: float64"
      ]
     },
     "execution_count": 90,
     "metadata": {},
     "output_type": "execute_result"
    }
   ],
   "source": [
    "data['Dew Point Temp (C)'][0:9]"
   ]
  },
  {
   "cell_type": "markdown",
   "metadata": {},
   "source": [
    "Or rows,"
   ]
  },
  {
   "cell_type": "code",
   "execution_count": 253,
   "metadata": {},
   "outputs": [
    {
     "data": {
      "text/html": [
       "<div>\n",
       "<style scoped>\n",
       "    .dataframe tbody tr th:only-of-type {\n",
       "        vertical-align: middle;\n",
       "    }\n",
       "\n",
       "    .dataframe tbody tr th {\n",
       "        vertical-align: top;\n",
       "    }\n",
       "\n",
       "    .dataframe thead th {\n",
       "        text-align: right;\n",
       "    }\n",
       "</style>\n",
       "<table border=\"1\" class=\"dataframe\">\n",
       "  <thead>\n",
       "    <tr style=\"text-align: right;\">\n",
       "      <th></th>\n",
       "      <th>Temp (C)</th>\n",
       "      <th>Dew Point Temp (C)</th>\n",
       "      <th>Rel Hum (%)</th>\n",
       "      <th>Wind Spd (km/h)</th>\n",
       "      <th>Visibility (km)</th>\n",
       "      <th>Stn Press (kPa)</th>\n",
       "      <th>Weather</th>\n",
       "    </tr>\n",
       "    <tr>\n",
       "      <th>Date/Time</th>\n",
       "      <th></th>\n",
       "      <th></th>\n",
       "      <th></th>\n",
       "      <th></th>\n",
       "      <th></th>\n",
       "      <th></th>\n",
       "      <th></th>\n",
       "    </tr>\n",
       "  </thead>\n",
       "  <tbody>\n",
       "    <tr>\n",
       "      <th>2012-01-01 00:00:00</th>\n",
       "      <td>-1.8</td>\n",
       "      <td>-3.9</td>\n",
       "      <td>86</td>\n",
       "      <td>4</td>\n",
       "      <td>8.0</td>\n",
       "      <td>101.24</td>\n",
       "      <td>Fog</td>\n",
       "    </tr>\n",
       "    <tr>\n",
       "      <th>2012-01-01 01:00:00</th>\n",
       "      <td>-1.8</td>\n",
       "      <td>-3.7</td>\n",
       "      <td>87</td>\n",
       "      <td>4</td>\n",
       "      <td>8.0</td>\n",
       "      <td>101.24</td>\n",
       "      <td>Fog</td>\n",
       "    </tr>\n",
       "    <tr>\n",
       "      <th>2012-01-01 02:00:00</th>\n",
       "      <td>-1.8</td>\n",
       "      <td>-3.4</td>\n",
       "      <td>89</td>\n",
       "      <td>7</td>\n",
       "      <td>4.0</td>\n",
       "      <td>101.26</td>\n",
       "      <td>Freezing Drizzle,Fog</td>\n",
       "    </tr>\n",
       "    <tr>\n",
       "      <th>2012-01-01 03:00:00</th>\n",
       "      <td>-1.5</td>\n",
       "      <td>-3.2</td>\n",
       "      <td>88</td>\n",
       "      <td>6</td>\n",
       "      <td>4.0</td>\n",
       "      <td>101.27</td>\n",
       "      <td>Freezing Drizzle,Fog</td>\n",
       "    </tr>\n",
       "    <tr>\n",
       "      <th>2012-01-01 04:00:00</th>\n",
       "      <td>-1.5</td>\n",
       "      <td>-3.3</td>\n",
       "      <td>88</td>\n",
       "      <td>7</td>\n",
       "      <td>4.8</td>\n",
       "      <td>101.23</td>\n",
       "      <td>Fog</td>\n",
       "    </tr>\n",
       "  </tbody>\n",
       "</table>\n",
       "</div>"
      ],
      "text/plain": [
       "                     Temp (C)  Dew Point Temp (C)  Rel Hum (%)  \\\n",
       "Date/Time                                                        \n",
       "2012-01-01 00:00:00      -1.8                -3.9           86   \n",
       "2012-01-01 01:00:00      -1.8                -3.7           87   \n",
       "2012-01-01 02:00:00      -1.8                -3.4           89   \n",
       "2012-01-01 03:00:00      -1.5                -3.2           88   \n",
       "2012-01-01 04:00:00      -1.5                -3.3           88   \n",
       "\n",
       "                     Wind Spd (km/h)  Visibility (km)  Stn Press (kPa)  \\\n",
       "Date/Time                                                                \n",
       "2012-01-01 00:00:00                4              8.0           101.24   \n",
       "2012-01-01 01:00:00                4              8.0           101.24   \n",
       "2012-01-01 02:00:00                7              4.0           101.26   \n",
       "2012-01-01 03:00:00                6              4.0           101.27   \n",
       "2012-01-01 04:00:00                7              4.8           101.23   \n",
       "\n",
       "                                  Weather  \n",
       "Date/Time                                  \n",
       "2012-01-01 00:00:00                   Fog  \n",
       "2012-01-01 01:00:00                   Fog  \n",
       "2012-01-01 02:00:00  Freezing Drizzle,Fog  \n",
       "2012-01-01 03:00:00  Freezing Drizzle,Fog  \n",
       "2012-01-01 04:00:00                   Fog  "
      ]
     },
     "execution_count": 253,
     "metadata": {},
     "output_type": "execute_result"
    }
   ],
   "source": [
    "data[:5]"
   ]
  },
  {
   "cell_type": "markdown",
   "metadata": {},
   "source": [
    "Since the index is of datetime type, we can also do this, to grab the values from January."
   ]
  },
  {
   "cell_type": "code",
   "execution_count": 254,
   "metadata": {},
   "outputs": [
    {
     "data": {
      "text/html": [
       "<div>\n",
       "<style scoped>\n",
       "    .dataframe tbody tr th:only-of-type {\n",
       "        vertical-align: middle;\n",
       "    }\n",
       "\n",
       "    .dataframe tbody tr th {\n",
       "        vertical-align: top;\n",
       "    }\n",
       "\n",
       "    .dataframe thead th {\n",
       "        text-align: right;\n",
       "    }\n",
       "</style>\n",
       "<table border=\"1\" class=\"dataframe\">\n",
       "  <thead>\n",
       "    <tr style=\"text-align: right;\">\n",
       "      <th></th>\n",
       "      <th>Temp (C)</th>\n",
       "      <th>Dew Point Temp (C)</th>\n",
       "      <th>Rel Hum (%)</th>\n",
       "      <th>Wind Spd (km/h)</th>\n",
       "      <th>Visibility (km)</th>\n",
       "      <th>Stn Press (kPa)</th>\n",
       "      <th>Weather</th>\n",
       "    </tr>\n",
       "    <tr>\n",
       "      <th>Date/Time</th>\n",
       "      <th></th>\n",
       "      <th></th>\n",
       "      <th></th>\n",
       "      <th></th>\n",
       "      <th></th>\n",
       "      <th></th>\n",
       "      <th></th>\n",
       "    </tr>\n",
       "  </thead>\n",
       "  <tbody>\n",
       "    <tr>\n",
       "      <th>2012-01-01 00:00:00</th>\n",
       "      <td>-1.8</td>\n",
       "      <td>-3.9</td>\n",
       "      <td>86</td>\n",
       "      <td>4</td>\n",
       "      <td>8.0</td>\n",
       "      <td>101.24</td>\n",
       "      <td>Fog</td>\n",
       "    </tr>\n",
       "    <tr>\n",
       "      <th>2012-01-01 01:00:00</th>\n",
       "      <td>-1.8</td>\n",
       "      <td>-3.7</td>\n",
       "      <td>87</td>\n",
       "      <td>4</td>\n",
       "      <td>8.0</td>\n",
       "      <td>101.24</td>\n",
       "      <td>Fog</td>\n",
       "    </tr>\n",
       "    <tr>\n",
       "      <th>2012-01-01 02:00:00</th>\n",
       "      <td>-1.8</td>\n",
       "      <td>-3.4</td>\n",
       "      <td>89</td>\n",
       "      <td>7</td>\n",
       "      <td>4.0</td>\n",
       "      <td>101.26</td>\n",
       "      <td>Freezing Drizzle,Fog</td>\n",
       "    </tr>\n",
       "    <tr>\n",
       "      <th>2012-01-01 03:00:00</th>\n",
       "      <td>-1.5</td>\n",
       "      <td>-3.2</td>\n",
       "      <td>88</td>\n",
       "      <td>6</td>\n",
       "      <td>4.0</td>\n",
       "      <td>101.27</td>\n",
       "      <td>Freezing Drizzle,Fog</td>\n",
       "    </tr>\n",
       "    <tr>\n",
       "      <th>2012-01-01 04:00:00</th>\n",
       "      <td>-1.5</td>\n",
       "      <td>-3.3</td>\n",
       "      <td>88</td>\n",
       "      <td>7</td>\n",
       "      <td>4.8</td>\n",
       "      <td>101.23</td>\n",
       "      <td>Fog</td>\n",
       "    </tr>\n",
       "    <tr>\n",
       "      <th>2012-01-01 05:00:00</th>\n",
       "      <td>-1.4</td>\n",
       "      <td>-3.3</td>\n",
       "      <td>87</td>\n",
       "      <td>9</td>\n",
       "      <td>6.4</td>\n",
       "      <td>101.27</td>\n",
       "      <td>Fog</td>\n",
       "    </tr>\n",
       "    <tr>\n",
       "      <th>2012-01-01 06:00:00</th>\n",
       "      <td>-1.5</td>\n",
       "      <td>-3.1</td>\n",
       "      <td>89</td>\n",
       "      <td>7</td>\n",
       "      <td>6.4</td>\n",
       "      <td>101.29</td>\n",
       "      <td>Fog</td>\n",
       "    </tr>\n",
       "    <tr>\n",
       "      <th>2012-01-01 07:00:00</th>\n",
       "      <td>-1.4</td>\n",
       "      <td>-3.6</td>\n",
       "      <td>85</td>\n",
       "      <td>7</td>\n",
       "      <td>8.0</td>\n",
       "      <td>101.26</td>\n",
       "      <td>Fog</td>\n",
       "    </tr>\n",
       "    <tr>\n",
       "      <th>2012-01-01 08:00:00</th>\n",
       "      <td>-1.4</td>\n",
       "      <td>-3.6</td>\n",
       "      <td>85</td>\n",
       "      <td>9</td>\n",
       "      <td>8.0</td>\n",
       "      <td>101.23</td>\n",
       "      <td>Fog</td>\n",
       "    </tr>\n",
       "    <tr>\n",
       "      <th>2012-01-01 09:00:00</th>\n",
       "      <td>-1.3</td>\n",
       "      <td>-3.1</td>\n",
       "      <td>88</td>\n",
       "      <td>15</td>\n",
       "      <td>4.0</td>\n",
       "      <td>101.20</td>\n",
       "      <td>Fog</td>\n",
       "    </tr>\n",
       "    <tr>\n",
       "      <th>2012-01-01 10:00:00</th>\n",
       "      <td>-1.0</td>\n",
       "      <td>-2.3</td>\n",
       "      <td>91</td>\n",
       "      <td>9</td>\n",
       "      <td>1.2</td>\n",
       "      <td>101.15</td>\n",
       "      <td>Fog</td>\n",
       "    </tr>\n",
       "    <tr>\n",
       "      <th>2012-01-01 11:00:00</th>\n",
       "      <td>-0.5</td>\n",
       "      <td>-2.1</td>\n",
       "      <td>89</td>\n",
       "      <td>7</td>\n",
       "      <td>4.0</td>\n",
       "      <td>100.98</td>\n",
       "      <td>Fog</td>\n",
       "    </tr>\n",
       "    <tr>\n",
       "      <th>2012-01-01 12:00:00</th>\n",
       "      <td>-0.2</td>\n",
       "      <td>-2.0</td>\n",
       "      <td>88</td>\n",
       "      <td>9</td>\n",
       "      <td>4.8</td>\n",
       "      <td>100.79</td>\n",
       "      <td>Fog</td>\n",
       "    </tr>\n",
       "    <tr>\n",
       "      <th>2012-01-01 13:00:00</th>\n",
       "      <td>0.2</td>\n",
       "      <td>-1.7</td>\n",
       "      <td>87</td>\n",
       "      <td>13</td>\n",
       "      <td>4.8</td>\n",
       "      <td>100.58</td>\n",
       "      <td>Fog</td>\n",
       "    </tr>\n",
       "    <tr>\n",
       "      <th>2012-01-01 14:00:00</th>\n",
       "      <td>0.8</td>\n",
       "      <td>-1.1</td>\n",
       "      <td>87</td>\n",
       "      <td>20</td>\n",
       "      <td>4.8</td>\n",
       "      <td>100.31</td>\n",
       "      <td>Fog</td>\n",
       "    </tr>\n",
       "    <tr>\n",
       "      <th>2012-01-01 15:00:00</th>\n",
       "      <td>1.8</td>\n",
       "      <td>-0.4</td>\n",
       "      <td>85</td>\n",
       "      <td>22</td>\n",
       "      <td>6.4</td>\n",
       "      <td>100.07</td>\n",
       "      <td>Fog</td>\n",
       "    </tr>\n",
       "    <tr>\n",
       "      <th>2012-01-01 16:00:00</th>\n",
       "      <td>2.6</td>\n",
       "      <td>-0.2</td>\n",
       "      <td>82</td>\n",
       "      <td>13</td>\n",
       "      <td>12.9</td>\n",
       "      <td>99.93</td>\n",
       "      <td>Mostly Cloudy</td>\n",
       "    </tr>\n",
       "    <tr>\n",
       "      <th>2012-01-01 17:00:00</th>\n",
       "      <td>3.0</td>\n",
       "      <td>0.0</td>\n",
       "      <td>81</td>\n",
       "      <td>13</td>\n",
       "      <td>16.1</td>\n",
       "      <td>99.81</td>\n",
       "      <td>Cloudy</td>\n",
       "    </tr>\n",
       "    <tr>\n",
       "      <th>2012-01-01 18:00:00</th>\n",
       "      <td>3.8</td>\n",
       "      <td>1.0</td>\n",
       "      <td>82</td>\n",
       "      <td>15</td>\n",
       "      <td>12.9</td>\n",
       "      <td>99.74</td>\n",
       "      <td>Rain</td>\n",
       "    </tr>\n",
       "    <tr>\n",
       "      <th>2012-01-01 19:00:00</th>\n",
       "      <td>3.1</td>\n",
       "      <td>1.3</td>\n",
       "      <td>88</td>\n",
       "      <td>15</td>\n",
       "      <td>12.9</td>\n",
       "      <td>99.68</td>\n",
       "      <td>Rain</td>\n",
       "    </tr>\n",
       "    <tr>\n",
       "      <th>2012-01-01 20:00:00</th>\n",
       "      <td>3.2</td>\n",
       "      <td>1.3</td>\n",
       "      <td>87</td>\n",
       "      <td>19</td>\n",
       "      <td>25.0</td>\n",
       "      <td>99.50</td>\n",
       "      <td>Cloudy</td>\n",
       "    </tr>\n",
       "    <tr>\n",
       "      <th>2012-01-01 21:00:00</th>\n",
       "      <td>4.0</td>\n",
       "      <td>1.7</td>\n",
       "      <td>85</td>\n",
       "      <td>20</td>\n",
       "      <td>25.0</td>\n",
       "      <td>99.39</td>\n",
       "      <td>Cloudy</td>\n",
       "    </tr>\n",
       "    <tr>\n",
       "      <th>2012-01-01 22:00:00</th>\n",
       "      <td>4.4</td>\n",
       "      <td>1.9</td>\n",
       "      <td>84</td>\n",
       "      <td>24</td>\n",
       "      <td>19.3</td>\n",
       "      <td>99.32</td>\n",
       "      <td>Rain Showers</td>\n",
       "    </tr>\n",
       "    <tr>\n",
       "      <th>2012-01-01 23:00:00</th>\n",
       "      <td>5.3</td>\n",
       "      <td>2.0</td>\n",
       "      <td>79</td>\n",
       "      <td>30</td>\n",
       "      <td>25.0</td>\n",
       "      <td>99.31</td>\n",
       "      <td>Cloudy</td>\n",
       "    </tr>\n",
       "    <tr>\n",
       "      <th>2012-01-02 00:00:00</th>\n",
       "      <td>5.2</td>\n",
       "      <td>1.5</td>\n",
       "      <td>77</td>\n",
       "      <td>35</td>\n",
       "      <td>25.0</td>\n",
       "      <td>99.26</td>\n",
       "      <td>Rain Showers</td>\n",
       "    </tr>\n",
       "    <tr>\n",
       "      <th>2012-01-02 01:00:00</th>\n",
       "      <td>4.6</td>\n",
       "      <td>0.0</td>\n",
       "      <td>72</td>\n",
       "      <td>39</td>\n",
       "      <td>25.0</td>\n",
       "      <td>99.26</td>\n",
       "      <td>Cloudy</td>\n",
       "    </tr>\n",
       "    <tr>\n",
       "      <th>2012-01-02 02:00:00</th>\n",
       "      <td>3.9</td>\n",
       "      <td>-0.9</td>\n",
       "      <td>71</td>\n",
       "      <td>32</td>\n",
       "      <td>25.0</td>\n",
       "      <td>99.26</td>\n",
       "      <td>Mostly Cloudy</td>\n",
       "    </tr>\n",
       "    <tr>\n",
       "      <th>2012-01-02 03:00:00</th>\n",
       "      <td>3.7</td>\n",
       "      <td>-1.5</td>\n",
       "      <td>69</td>\n",
       "      <td>33</td>\n",
       "      <td>25.0</td>\n",
       "      <td>99.30</td>\n",
       "      <td>Mostly Cloudy</td>\n",
       "    </tr>\n",
       "    <tr>\n",
       "      <th>2012-01-02 04:00:00</th>\n",
       "      <td>2.9</td>\n",
       "      <td>-2.3</td>\n",
       "      <td>69</td>\n",
       "      <td>32</td>\n",
       "      <td>25.0</td>\n",
       "      <td>99.26</td>\n",
       "      <td>Mostly Cloudy</td>\n",
       "    </tr>\n",
       "    <tr>\n",
       "      <th>2012-01-02 05:00:00</th>\n",
       "      <td>2.6</td>\n",
       "      <td>-2.3</td>\n",
       "      <td>70</td>\n",
       "      <td>32</td>\n",
       "      <td>25.0</td>\n",
       "      <td>99.21</td>\n",
       "      <td>Mostly Cloudy</td>\n",
       "    </tr>\n",
       "    <tr>\n",
       "      <th>...</th>\n",
       "      <td>...</td>\n",
       "      <td>...</td>\n",
       "      <td>...</td>\n",
       "      <td>...</td>\n",
       "      <td>...</td>\n",
       "      <td>...</td>\n",
       "      <td>...</td>\n",
       "    </tr>\n",
       "    <tr>\n",
       "      <th>2012-01-30 18:00:00</th>\n",
       "      <td>-7.4</td>\n",
       "      <td>-15.6</td>\n",
       "      <td>52</td>\n",
       "      <td>15</td>\n",
       "      <td>25.0</td>\n",
       "      <td>101.94</td>\n",
       "      <td>Mainly Clear</td>\n",
       "    </tr>\n",
       "    <tr>\n",
       "      <th>2012-01-30 19:00:00</th>\n",
       "      <td>-8.8</td>\n",
       "      <td>-15.9</td>\n",
       "      <td>56</td>\n",
       "      <td>7</td>\n",
       "      <td>25.0</td>\n",
       "      <td>101.96</td>\n",
       "      <td>Mainly Clear</td>\n",
       "    </tr>\n",
       "    <tr>\n",
       "      <th>2012-01-30 20:00:00</th>\n",
       "      <td>-9.5</td>\n",
       "      <td>-16.0</td>\n",
       "      <td>59</td>\n",
       "      <td>4</td>\n",
       "      <td>25.0</td>\n",
       "      <td>101.95</td>\n",
       "      <td>Mainly Clear</td>\n",
       "    </tr>\n",
       "    <tr>\n",
       "      <th>2012-01-30 21:00:00</th>\n",
       "      <td>-8.4</td>\n",
       "      <td>-15.5</td>\n",
       "      <td>57</td>\n",
       "      <td>4</td>\n",
       "      <td>25.0</td>\n",
       "      <td>101.96</td>\n",
       "      <td>Mostly Cloudy</td>\n",
       "    </tr>\n",
       "    <tr>\n",
       "      <th>2012-01-30 22:00:00</th>\n",
       "      <td>-7.8</td>\n",
       "      <td>-15.2</td>\n",
       "      <td>55</td>\n",
       "      <td>4</td>\n",
       "      <td>25.0</td>\n",
       "      <td>101.98</td>\n",
       "      <td>Mostly Cloudy</td>\n",
       "    </tr>\n",
       "    <tr>\n",
       "      <th>2012-01-30 23:00:00</th>\n",
       "      <td>-8.6</td>\n",
       "      <td>-13.8</td>\n",
       "      <td>66</td>\n",
       "      <td>6</td>\n",
       "      <td>25.0</td>\n",
       "      <td>101.96</td>\n",
       "      <td>Mostly Cloudy</td>\n",
       "    </tr>\n",
       "    <tr>\n",
       "      <th>2012-01-31 00:00:00</th>\n",
       "      <td>-7.0</td>\n",
       "      <td>-13.1</td>\n",
       "      <td>62</td>\n",
       "      <td>7</td>\n",
       "      <td>25.0</td>\n",
       "      <td>101.92</td>\n",
       "      <td>Mostly Cloudy</td>\n",
       "    </tr>\n",
       "    <tr>\n",
       "      <th>2012-01-31 01:00:00</th>\n",
       "      <td>-7.1</td>\n",
       "      <td>-13.2</td>\n",
       "      <td>62</td>\n",
       "      <td>6</td>\n",
       "      <td>25.0</td>\n",
       "      <td>101.88</td>\n",
       "      <td>Cloudy</td>\n",
       "    </tr>\n",
       "    <tr>\n",
       "      <th>2012-01-31 02:00:00</th>\n",
       "      <td>-6.5</td>\n",
       "      <td>-13.1</td>\n",
       "      <td>59</td>\n",
       "      <td>11</td>\n",
       "      <td>25.0</td>\n",
       "      <td>101.81</td>\n",
       "      <td>Snow</td>\n",
       "    </tr>\n",
       "    <tr>\n",
       "      <th>2012-01-31 03:00:00</th>\n",
       "      <td>-6.8</td>\n",
       "      <td>-12.4</td>\n",
       "      <td>64</td>\n",
       "      <td>15</td>\n",
       "      <td>19.3</td>\n",
       "      <td>101.76</td>\n",
       "      <td>Snow</td>\n",
       "    </tr>\n",
       "    <tr>\n",
       "      <th>2012-01-31 04:00:00</th>\n",
       "      <td>-7.1</td>\n",
       "      <td>-12.4</td>\n",
       "      <td>66</td>\n",
       "      <td>17</td>\n",
       "      <td>8.0</td>\n",
       "      <td>101.71</td>\n",
       "      <td>Snow</td>\n",
       "    </tr>\n",
       "    <tr>\n",
       "      <th>2012-01-31 05:00:00</th>\n",
       "      <td>-7.1</td>\n",
       "      <td>-12.2</td>\n",
       "      <td>67</td>\n",
       "      <td>17</td>\n",
       "      <td>9.7</td>\n",
       "      <td>101.70</td>\n",
       "      <td>Snow</td>\n",
       "    </tr>\n",
       "    <tr>\n",
       "      <th>2012-01-31 06:00:00</th>\n",
       "      <td>-7.0</td>\n",
       "      <td>-11.8</td>\n",
       "      <td>69</td>\n",
       "      <td>13</td>\n",
       "      <td>6.4</td>\n",
       "      <td>101.65</td>\n",
       "      <td>Snow</td>\n",
       "    </tr>\n",
       "    <tr>\n",
       "      <th>2012-01-31 07:00:00</th>\n",
       "      <td>-9.6</td>\n",
       "      <td>-13.5</td>\n",
       "      <td>73</td>\n",
       "      <td>17</td>\n",
       "      <td>12.9</td>\n",
       "      <td>101.60</td>\n",
       "      <td>Snow</td>\n",
       "    </tr>\n",
       "    <tr>\n",
       "      <th>2012-01-31 08:00:00</th>\n",
       "      <td>-9.8</td>\n",
       "      <td>-13.9</td>\n",
       "      <td>72</td>\n",
       "      <td>19</td>\n",
       "      <td>16.1</td>\n",
       "      <td>101.61</td>\n",
       "      <td>Snow</td>\n",
       "    </tr>\n",
       "    <tr>\n",
       "      <th>2012-01-31 09:00:00</th>\n",
       "      <td>-10.1</td>\n",
       "      <td>-14.4</td>\n",
       "      <td>71</td>\n",
       "      <td>17</td>\n",
       "      <td>24.1</td>\n",
       "      <td>101.59</td>\n",
       "      <td>Snow</td>\n",
       "    </tr>\n",
       "    <tr>\n",
       "      <th>2012-01-31 10:00:00</th>\n",
       "      <td>-9.7</td>\n",
       "      <td>-14.2</td>\n",
       "      <td>70</td>\n",
       "      <td>19</td>\n",
       "      <td>19.3</td>\n",
       "      <td>101.54</td>\n",
       "      <td>Cloudy</td>\n",
       "    </tr>\n",
       "    <tr>\n",
       "      <th>2012-01-31 11:00:00</th>\n",
       "      <td>-9.3</td>\n",
       "      <td>-14.2</td>\n",
       "      <td>67</td>\n",
       "      <td>20</td>\n",
       "      <td>19.3</td>\n",
       "      <td>101.46</td>\n",
       "      <td>Cloudy</td>\n",
       "    </tr>\n",
       "    <tr>\n",
       "      <th>2012-01-31 12:00:00</th>\n",
       "      <td>-8.6</td>\n",
       "      <td>-13.3</td>\n",
       "      <td>69</td>\n",
       "      <td>22</td>\n",
       "      <td>4.0</td>\n",
       "      <td>101.36</td>\n",
       "      <td>Snow</td>\n",
       "    </tr>\n",
       "    <tr>\n",
       "      <th>2012-01-31 13:00:00</th>\n",
       "      <td>-8.3</td>\n",
       "      <td>-12.3</td>\n",
       "      <td>73</td>\n",
       "      <td>20</td>\n",
       "      <td>1.6</td>\n",
       "      <td>101.29</td>\n",
       "      <td>Snow</td>\n",
       "    </tr>\n",
       "    <tr>\n",
       "      <th>2012-01-31 14:00:00</th>\n",
       "      <td>-8.4</td>\n",
       "      <td>-12.1</td>\n",
       "      <td>75</td>\n",
       "      <td>20</td>\n",
       "      <td>1.2</td>\n",
       "      <td>101.23</td>\n",
       "      <td>Snow</td>\n",
       "    </tr>\n",
       "    <tr>\n",
       "      <th>2012-01-31 15:00:00</th>\n",
       "      <td>-8.2</td>\n",
       "      <td>-12.0</td>\n",
       "      <td>74</td>\n",
       "      <td>17</td>\n",
       "      <td>1.0</td>\n",
       "      <td>101.22</td>\n",
       "      <td>Snow</td>\n",
       "    </tr>\n",
       "    <tr>\n",
       "      <th>2012-01-31 16:00:00</th>\n",
       "      <td>-8.0</td>\n",
       "      <td>-11.5</td>\n",
       "      <td>76</td>\n",
       "      <td>20</td>\n",
       "      <td>1.0</td>\n",
       "      <td>101.20</td>\n",
       "      <td>Snow</td>\n",
       "    </tr>\n",
       "    <tr>\n",
       "      <th>2012-01-31 17:00:00</th>\n",
       "      <td>-7.7</td>\n",
       "      <td>-11.1</td>\n",
       "      <td>77</td>\n",
       "      <td>19</td>\n",
       "      <td>1.0</td>\n",
       "      <td>101.19</td>\n",
       "      <td>Snow</td>\n",
       "    </tr>\n",
       "    <tr>\n",
       "      <th>2012-01-31 18:00:00</th>\n",
       "      <td>-7.8</td>\n",
       "      <td>-11.2</td>\n",
       "      <td>77</td>\n",
       "      <td>20</td>\n",
       "      <td>1.6</td>\n",
       "      <td>101.18</td>\n",
       "      <td>Snow</td>\n",
       "    </tr>\n",
       "    <tr>\n",
       "      <th>2012-01-31 19:00:00</th>\n",
       "      <td>-7.7</td>\n",
       "      <td>-10.9</td>\n",
       "      <td>78</td>\n",
       "      <td>19</td>\n",
       "      <td>1.6</td>\n",
       "      <td>101.14</td>\n",
       "      <td>Snow</td>\n",
       "    </tr>\n",
       "    <tr>\n",
       "      <th>2012-01-31 20:00:00</th>\n",
       "      <td>-7.4</td>\n",
       "      <td>-10.7</td>\n",
       "      <td>77</td>\n",
       "      <td>20</td>\n",
       "      <td>1.6</td>\n",
       "      <td>101.09</td>\n",
       "      <td>Snow</td>\n",
       "    </tr>\n",
       "    <tr>\n",
       "      <th>2012-01-31 21:00:00</th>\n",
       "      <td>-7.1</td>\n",
       "      <td>-10.5</td>\n",
       "      <td>77</td>\n",
       "      <td>20</td>\n",
       "      <td>12.9</td>\n",
       "      <td>101.02</td>\n",
       "      <td>Cloudy</td>\n",
       "    </tr>\n",
       "    <tr>\n",
       "      <th>2012-01-31 22:00:00</th>\n",
       "      <td>-7.1</td>\n",
       "      <td>-10.4</td>\n",
       "      <td>77</td>\n",
       "      <td>19</td>\n",
       "      <td>9.7</td>\n",
       "      <td>100.95</td>\n",
       "      <td>Snow</td>\n",
       "    </tr>\n",
       "    <tr>\n",
       "      <th>2012-01-31 23:00:00</th>\n",
       "      <td>-6.8</td>\n",
       "      <td>-9.9</td>\n",
       "      <td>79</td>\n",
       "      <td>22</td>\n",
       "      <td>9.7</td>\n",
       "      <td>100.86</td>\n",
       "      <td>Freezing Drizzle,Snow</td>\n",
       "    </tr>\n",
       "  </tbody>\n",
       "</table>\n",
       "<p>744 rows × 7 columns</p>\n",
       "</div>"
      ],
      "text/plain": [
       "                     Temp (C)  Dew Point Temp (C)  Rel Hum (%)  \\\n",
       "Date/Time                                                        \n",
       "2012-01-01 00:00:00      -1.8                -3.9           86   \n",
       "2012-01-01 01:00:00      -1.8                -3.7           87   \n",
       "2012-01-01 02:00:00      -1.8                -3.4           89   \n",
       "2012-01-01 03:00:00      -1.5                -3.2           88   \n",
       "2012-01-01 04:00:00      -1.5                -3.3           88   \n",
       "2012-01-01 05:00:00      -1.4                -3.3           87   \n",
       "2012-01-01 06:00:00      -1.5                -3.1           89   \n",
       "2012-01-01 07:00:00      -1.4                -3.6           85   \n",
       "2012-01-01 08:00:00      -1.4                -3.6           85   \n",
       "2012-01-01 09:00:00      -1.3                -3.1           88   \n",
       "2012-01-01 10:00:00      -1.0                -2.3           91   \n",
       "2012-01-01 11:00:00      -0.5                -2.1           89   \n",
       "2012-01-01 12:00:00      -0.2                -2.0           88   \n",
       "2012-01-01 13:00:00       0.2                -1.7           87   \n",
       "2012-01-01 14:00:00       0.8                -1.1           87   \n",
       "2012-01-01 15:00:00       1.8                -0.4           85   \n",
       "2012-01-01 16:00:00       2.6                -0.2           82   \n",
       "2012-01-01 17:00:00       3.0                 0.0           81   \n",
       "2012-01-01 18:00:00       3.8                 1.0           82   \n",
       "2012-01-01 19:00:00       3.1                 1.3           88   \n",
       "2012-01-01 20:00:00       3.2                 1.3           87   \n",
       "2012-01-01 21:00:00       4.0                 1.7           85   \n",
       "2012-01-01 22:00:00       4.4                 1.9           84   \n",
       "2012-01-01 23:00:00       5.3                 2.0           79   \n",
       "2012-01-02 00:00:00       5.2                 1.5           77   \n",
       "2012-01-02 01:00:00       4.6                 0.0           72   \n",
       "2012-01-02 02:00:00       3.9                -0.9           71   \n",
       "2012-01-02 03:00:00       3.7                -1.5           69   \n",
       "2012-01-02 04:00:00       2.9                -2.3           69   \n",
       "2012-01-02 05:00:00       2.6                -2.3           70   \n",
       "...                       ...                 ...          ...   \n",
       "2012-01-30 18:00:00      -7.4               -15.6           52   \n",
       "2012-01-30 19:00:00      -8.8               -15.9           56   \n",
       "2012-01-30 20:00:00      -9.5               -16.0           59   \n",
       "2012-01-30 21:00:00      -8.4               -15.5           57   \n",
       "2012-01-30 22:00:00      -7.8               -15.2           55   \n",
       "2012-01-30 23:00:00      -8.6               -13.8           66   \n",
       "2012-01-31 00:00:00      -7.0               -13.1           62   \n",
       "2012-01-31 01:00:00      -7.1               -13.2           62   \n",
       "2012-01-31 02:00:00      -6.5               -13.1           59   \n",
       "2012-01-31 03:00:00      -6.8               -12.4           64   \n",
       "2012-01-31 04:00:00      -7.1               -12.4           66   \n",
       "2012-01-31 05:00:00      -7.1               -12.2           67   \n",
       "2012-01-31 06:00:00      -7.0               -11.8           69   \n",
       "2012-01-31 07:00:00      -9.6               -13.5           73   \n",
       "2012-01-31 08:00:00      -9.8               -13.9           72   \n",
       "2012-01-31 09:00:00     -10.1               -14.4           71   \n",
       "2012-01-31 10:00:00      -9.7               -14.2           70   \n",
       "2012-01-31 11:00:00      -9.3               -14.2           67   \n",
       "2012-01-31 12:00:00      -8.6               -13.3           69   \n",
       "2012-01-31 13:00:00      -8.3               -12.3           73   \n",
       "2012-01-31 14:00:00      -8.4               -12.1           75   \n",
       "2012-01-31 15:00:00      -8.2               -12.0           74   \n",
       "2012-01-31 16:00:00      -8.0               -11.5           76   \n",
       "2012-01-31 17:00:00      -7.7               -11.1           77   \n",
       "2012-01-31 18:00:00      -7.8               -11.2           77   \n",
       "2012-01-31 19:00:00      -7.7               -10.9           78   \n",
       "2012-01-31 20:00:00      -7.4               -10.7           77   \n",
       "2012-01-31 21:00:00      -7.1               -10.5           77   \n",
       "2012-01-31 22:00:00      -7.1               -10.4           77   \n",
       "2012-01-31 23:00:00      -6.8                -9.9           79   \n",
       "\n",
       "                     Wind Spd (km/h)  Visibility (km)  Stn Press (kPa)  \\\n",
       "Date/Time                                                                \n",
       "2012-01-01 00:00:00                4              8.0           101.24   \n",
       "2012-01-01 01:00:00                4              8.0           101.24   \n",
       "2012-01-01 02:00:00                7              4.0           101.26   \n",
       "2012-01-01 03:00:00                6              4.0           101.27   \n",
       "2012-01-01 04:00:00                7              4.8           101.23   \n",
       "2012-01-01 05:00:00                9              6.4           101.27   \n",
       "2012-01-01 06:00:00                7              6.4           101.29   \n",
       "2012-01-01 07:00:00                7              8.0           101.26   \n",
       "2012-01-01 08:00:00                9              8.0           101.23   \n",
       "2012-01-01 09:00:00               15              4.0           101.20   \n",
       "2012-01-01 10:00:00                9              1.2           101.15   \n",
       "2012-01-01 11:00:00                7              4.0           100.98   \n",
       "2012-01-01 12:00:00                9              4.8           100.79   \n",
       "2012-01-01 13:00:00               13              4.8           100.58   \n",
       "2012-01-01 14:00:00               20              4.8           100.31   \n",
       "2012-01-01 15:00:00               22              6.4           100.07   \n",
       "2012-01-01 16:00:00               13             12.9            99.93   \n",
       "2012-01-01 17:00:00               13             16.1            99.81   \n",
       "2012-01-01 18:00:00               15             12.9            99.74   \n",
       "2012-01-01 19:00:00               15             12.9            99.68   \n",
       "2012-01-01 20:00:00               19             25.0            99.50   \n",
       "2012-01-01 21:00:00               20             25.0            99.39   \n",
       "2012-01-01 22:00:00               24             19.3            99.32   \n",
       "2012-01-01 23:00:00               30             25.0            99.31   \n",
       "2012-01-02 00:00:00               35             25.0            99.26   \n",
       "2012-01-02 01:00:00               39             25.0            99.26   \n",
       "2012-01-02 02:00:00               32             25.0            99.26   \n",
       "2012-01-02 03:00:00               33             25.0            99.30   \n",
       "2012-01-02 04:00:00               32             25.0            99.26   \n",
       "2012-01-02 05:00:00               32             25.0            99.21   \n",
       "...                              ...              ...              ...   \n",
       "2012-01-30 18:00:00               15             25.0           101.94   \n",
       "2012-01-30 19:00:00                7             25.0           101.96   \n",
       "2012-01-30 20:00:00                4             25.0           101.95   \n",
       "2012-01-30 21:00:00                4             25.0           101.96   \n",
       "2012-01-30 22:00:00                4             25.0           101.98   \n",
       "2012-01-30 23:00:00                6             25.0           101.96   \n",
       "2012-01-31 00:00:00                7             25.0           101.92   \n",
       "2012-01-31 01:00:00                6             25.0           101.88   \n",
       "2012-01-31 02:00:00               11             25.0           101.81   \n",
       "2012-01-31 03:00:00               15             19.3           101.76   \n",
       "2012-01-31 04:00:00               17              8.0           101.71   \n",
       "2012-01-31 05:00:00               17              9.7           101.70   \n",
       "2012-01-31 06:00:00               13              6.4           101.65   \n",
       "2012-01-31 07:00:00               17             12.9           101.60   \n",
       "2012-01-31 08:00:00               19             16.1           101.61   \n",
       "2012-01-31 09:00:00               17             24.1           101.59   \n",
       "2012-01-31 10:00:00               19             19.3           101.54   \n",
       "2012-01-31 11:00:00               20             19.3           101.46   \n",
       "2012-01-31 12:00:00               22              4.0           101.36   \n",
       "2012-01-31 13:00:00               20              1.6           101.29   \n",
       "2012-01-31 14:00:00               20              1.2           101.23   \n",
       "2012-01-31 15:00:00               17              1.0           101.22   \n",
       "2012-01-31 16:00:00               20              1.0           101.20   \n",
       "2012-01-31 17:00:00               19              1.0           101.19   \n",
       "2012-01-31 18:00:00               20              1.6           101.18   \n",
       "2012-01-31 19:00:00               19              1.6           101.14   \n",
       "2012-01-31 20:00:00               20              1.6           101.09   \n",
       "2012-01-31 21:00:00               20             12.9           101.02   \n",
       "2012-01-31 22:00:00               19              9.7           100.95   \n",
       "2012-01-31 23:00:00               22              9.7           100.86   \n",
       "\n",
       "                                   Weather  \n",
       "Date/Time                                   \n",
       "2012-01-01 00:00:00                    Fog  \n",
       "2012-01-01 01:00:00                    Fog  \n",
       "2012-01-01 02:00:00   Freezing Drizzle,Fog  \n",
       "2012-01-01 03:00:00   Freezing Drizzle,Fog  \n",
       "2012-01-01 04:00:00                    Fog  \n",
       "2012-01-01 05:00:00                    Fog  \n",
       "2012-01-01 06:00:00                    Fog  \n",
       "2012-01-01 07:00:00                    Fog  \n",
       "2012-01-01 08:00:00                    Fog  \n",
       "2012-01-01 09:00:00                    Fog  \n",
       "2012-01-01 10:00:00                    Fog  \n",
       "2012-01-01 11:00:00                    Fog  \n",
       "2012-01-01 12:00:00                    Fog  \n",
       "2012-01-01 13:00:00                    Fog  \n",
       "2012-01-01 14:00:00                    Fog  \n",
       "2012-01-01 15:00:00                    Fog  \n",
       "2012-01-01 16:00:00          Mostly Cloudy  \n",
       "2012-01-01 17:00:00                 Cloudy  \n",
       "2012-01-01 18:00:00                   Rain  \n",
       "2012-01-01 19:00:00                   Rain  \n",
       "2012-01-01 20:00:00                 Cloudy  \n",
       "2012-01-01 21:00:00                 Cloudy  \n",
       "2012-01-01 22:00:00           Rain Showers  \n",
       "2012-01-01 23:00:00                 Cloudy  \n",
       "2012-01-02 00:00:00           Rain Showers  \n",
       "2012-01-02 01:00:00                 Cloudy  \n",
       "2012-01-02 02:00:00          Mostly Cloudy  \n",
       "2012-01-02 03:00:00          Mostly Cloudy  \n",
       "2012-01-02 04:00:00          Mostly Cloudy  \n",
       "2012-01-02 05:00:00          Mostly Cloudy  \n",
       "...                                    ...  \n",
       "2012-01-30 18:00:00           Mainly Clear  \n",
       "2012-01-30 19:00:00           Mainly Clear  \n",
       "2012-01-30 20:00:00           Mainly Clear  \n",
       "2012-01-30 21:00:00          Mostly Cloudy  \n",
       "2012-01-30 22:00:00          Mostly Cloudy  \n",
       "2012-01-30 23:00:00          Mostly Cloudy  \n",
       "2012-01-31 00:00:00          Mostly Cloudy  \n",
       "2012-01-31 01:00:00                 Cloudy  \n",
       "2012-01-31 02:00:00                   Snow  \n",
       "2012-01-31 03:00:00                   Snow  \n",
       "2012-01-31 04:00:00                   Snow  \n",
       "2012-01-31 05:00:00                   Snow  \n",
       "2012-01-31 06:00:00                   Snow  \n",
       "2012-01-31 07:00:00                   Snow  \n",
       "2012-01-31 08:00:00                   Snow  \n",
       "2012-01-31 09:00:00                   Snow  \n",
       "2012-01-31 10:00:00                 Cloudy  \n",
       "2012-01-31 11:00:00                 Cloudy  \n",
       "2012-01-31 12:00:00                   Snow  \n",
       "2012-01-31 13:00:00                   Snow  \n",
       "2012-01-31 14:00:00                   Snow  \n",
       "2012-01-31 15:00:00                   Snow  \n",
       "2012-01-31 16:00:00                   Snow  \n",
       "2012-01-31 17:00:00                   Snow  \n",
       "2012-01-31 18:00:00                   Snow  \n",
       "2012-01-31 19:00:00                   Snow  \n",
       "2012-01-31 20:00:00                   Snow  \n",
       "2012-01-31 21:00:00                 Cloudy  \n",
       "2012-01-31 22:00:00                   Snow  \n",
       "2012-01-31 23:00:00  Freezing Drizzle,Snow  \n",
       "\n",
       "[744 rows x 7 columns]"
      ]
     },
     "execution_count": 254,
     "metadata": {},
     "output_type": "execute_result"
    }
   ],
   "source": [
    "data['2012-01-01':'2012-01-31']"
   ]
  },
  {
   "cell_type": "markdown",
   "metadata": {},
   "source": [
    "But in fact, this also works."
   ]
  },
  {
   "cell_type": "code",
   "execution_count": 255,
   "metadata": {},
   "outputs": [
    {
     "data": {
      "text/html": [
       "<div>\n",
       "<style scoped>\n",
       "    .dataframe tbody tr th:only-of-type {\n",
       "        vertical-align: middle;\n",
       "    }\n",
       "\n",
       "    .dataframe tbody tr th {\n",
       "        vertical-align: top;\n",
       "    }\n",
       "\n",
       "    .dataframe thead th {\n",
       "        text-align: right;\n",
       "    }\n",
       "</style>\n",
       "<table border=\"1\" class=\"dataframe\">\n",
       "  <thead>\n",
       "    <tr style=\"text-align: right;\">\n",
       "      <th></th>\n",
       "      <th>Temp (C)</th>\n",
       "      <th>Dew Point Temp (C)</th>\n",
       "      <th>Rel Hum (%)</th>\n",
       "      <th>Wind Spd (km/h)</th>\n",
       "      <th>Visibility (km)</th>\n",
       "      <th>Stn Press (kPa)</th>\n",
       "      <th>Weather</th>\n",
       "    </tr>\n",
       "    <tr>\n",
       "      <th>Date/Time</th>\n",
       "      <th></th>\n",
       "      <th></th>\n",
       "      <th></th>\n",
       "      <th></th>\n",
       "      <th></th>\n",
       "      <th></th>\n",
       "      <th></th>\n",
       "    </tr>\n",
       "  </thead>\n",
       "  <tbody>\n",
       "    <tr>\n",
       "      <th>2012-01-01 00:00:00</th>\n",
       "      <td>-1.8</td>\n",
       "      <td>-3.9</td>\n",
       "      <td>86</td>\n",
       "      <td>4</td>\n",
       "      <td>8.0</td>\n",
       "      <td>101.24</td>\n",
       "      <td>Fog</td>\n",
       "    </tr>\n",
       "    <tr>\n",
       "      <th>2012-01-01 01:00:00</th>\n",
       "      <td>-1.8</td>\n",
       "      <td>-3.7</td>\n",
       "      <td>87</td>\n",
       "      <td>4</td>\n",
       "      <td>8.0</td>\n",
       "      <td>101.24</td>\n",
       "      <td>Fog</td>\n",
       "    </tr>\n",
       "    <tr>\n",
       "      <th>2012-01-01 02:00:00</th>\n",
       "      <td>-1.8</td>\n",
       "      <td>-3.4</td>\n",
       "      <td>89</td>\n",
       "      <td>7</td>\n",
       "      <td>4.0</td>\n",
       "      <td>101.26</td>\n",
       "      <td>Freezing Drizzle,Fog</td>\n",
       "    </tr>\n",
       "    <tr>\n",
       "      <th>2012-01-01 03:00:00</th>\n",
       "      <td>-1.5</td>\n",
       "      <td>-3.2</td>\n",
       "      <td>88</td>\n",
       "      <td>6</td>\n",
       "      <td>4.0</td>\n",
       "      <td>101.27</td>\n",
       "      <td>Freezing Drizzle,Fog</td>\n",
       "    </tr>\n",
       "    <tr>\n",
       "      <th>2012-01-01 04:00:00</th>\n",
       "      <td>-1.5</td>\n",
       "      <td>-3.3</td>\n",
       "      <td>88</td>\n",
       "      <td>7</td>\n",
       "      <td>4.8</td>\n",
       "      <td>101.23</td>\n",
       "      <td>Fog</td>\n",
       "    </tr>\n",
       "    <tr>\n",
       "      <th>2012-01-01 05:00:00</th>\n",
       "      <td>-1.4</td>\n",
       "      <td>-3.3</td>\n",
       "      <td>87</td>\n",
       "      <td>9</td>\n",
       "      <td>6.4</td>\n",
       "      <td>101.27</td>\n",
       "      <td>Fog</td>\n",
       "    </tr>\n",
       "    <tr>\n",
       "      <th>2012-01-01 06:00:00</th>\n",
       "      <td>-1.5</td>\n",
       "      <td>-3.1</td>\n",
       "      <td>89</td>\n",
       "      <td>7</td>\n",
       "      <td>6.4</td>\n",
       "      <td>101.29</td>\n",
       "      <td>Fog</td>\n",
       "    </tr>\n",
       "    <tr>\n",
       "      <th>2012-01-01 07:00:00</th>\n",
       "      <td>-1.4</td>\n",
       "      <td>-3.6</td>\n",
       "      <td>85</td>\n",
       "      <td>7</td>\n",
       "      <td>8.0</td>\n",
       "      <td>101.26</td>\n",
       "      <td>Fog</td>\n",
       "    </tr>\n",
       "    <tr>\n",
       "      <th>2012-01-01 08:00:00</th>\n",
       "      <td>-1.4</td>\n",
       "      <td>-3.6</td>\n",
       "      <td>85</td>\n",
       "      <td>9</td>\n",
       "      <td>8.0</td>\n",
       "      <td>101.23</td>\n",
       "      <td>Fog</td>\n",
       "    </tr>\n",
       "    <tr>\n",
       "      <th>2012-01-01 09:00:00</th>\n",
       "      <td>-1.3</td>\n",
       "      <td>-3.1</td>\n",
       "      <td>88</td>\n",
       "      <td>15</td>\n",
       "      <td>4.0</td>\n",
       "      <td>101.20</td>\n",
       "      <td>Fog</td>\n",
       "    </tr>\n",
       "    <tr>\n",
       "      <th>2012-01-01 10:00:00</th>\n",
       "      <td>-1.0</td>\n",
       "      <td>-2.3</td>\n",
       "      <td>91</td>\n",
       "      <td>9</td>\n",
       "      <td>1.2</td>\n",
       "      <td>101.15</td>\n",
       "      <td>Fog</td>\n",
       "    </tr>\n",
       "    <tr>\n",
       "      <th>2012-01-01 11:00:00</th>\n",
       "      <td>-0.5</td>\n",
       "      <td>-2.1</td>\n",
       "      <td>89</td>\n",
       "      <td>7</td>\n",
       "      <td>4.0</td>\n",
       "      <td>100.98</td>\n",
       "      <td>Fog</td>\n",
       "    </tr>\n",
       "    <tr>\n",
       "      <th>2012-01-01 12:00:00</th>\n",
       "      <td>-0.2</td>\n",
       "      <td>-2.0</td>\n",
       "      <td>88</td>\n",
       "      <td>9</td>\n",
       "      <td>4.8</td>\n",
       "      <td>100.79</td>\n",
       "      <td>Fog</td>\n",
       "    </tr>\n",
       "    <tr>\n",
       "      <th>2012-01-01 13:00:00</th>\n",
       "      <td>0.2</td>\n",
       "      <td>-1.7</td>\n",
       "      <td>87</td>\n",
       "      <td>13</td>\n",
       "      <td>4.8</td>\n",
       "      <td>100.58</td>\n",
       "      <td>Fog</td>\n",
       "    </tr>\n",
       "    <tr>\n",
       "      <th>2012-01-01 14:00:00</th>\n",
       "      <td>0.8</td>\n",
       "      <td>-1.1</td>\n",
       "      <td>87</td>\n",
       "      <td>20</td>\n",
       "      <td>4.8</td>\n",
       "      <td>100.31</td>\n",
       "      <td>Fog</td>\n",
       "    </tr>\n",
       "    <tr>\n",
       "      <th>2012-01-01 15:00:00</th>\n",
       "      <td>1.8</td>\n",
       "      <td>-0.4</td>\n",
       "      <td>85</td>\n",
       "      <td>22</td>\n",
       "      <td>6.4</td>\n",
       "      <td>100.07</td>\n",
       "      <td>Fog</td>\n",
       "    </tr>\n",
       "    <tr>\n",
       "      <th>2012-01-01 16:00:00</th>\n",
       "      <td>2.6</td>\n",
       "      <td>-0.2</td>\n",
       "      <td>82</td>\n",
       "      <td>13</td>\n",
       "      <td>12.9</td>\n",
       "      <td>99.93</td>\n",
       "      <td>Mostly Cloudy</td>\n",
       "    </tr>\n",
       "    <tr>\n",
       "      <th>2012-01-01 17:00:00</th>\n",
       "      <td>3.0</td>\n",
       "      <td>0.0</td>\n",
       "      <td>81</td>\n",
       "      <td>13</td>\n",
       "      <td>16.1</td>\n",
       "      <td>99.81</td>\n",
       "      <td>Cloudy</td>\n",
       "    </tr>\n",
       "    <tr>\n",
       "      <th>2012-01-01 18:00:00</th>\n",
       "      <td>3.8</td>\n",
       "      <td>1.0</td>\n",
       "      <td>82</td>\n",
       "      <td>15</td>\n",
       "      <td>12.9</td>\n",
       "      <td>99.74</td>\n",
       "      <td>Rain</td>\n",
       "    </tr>\n",
       "    <tr>\n",
       "      <th>2012-01-01 19:00:00</th>\n",
       "      <td>3.1</td>\n",
       "      <td>1.3</td>\n",
       "      <td>88</td>\n",
       "      <td>15</td>\n",
       "      <td>12.9</td>\n",
       "      <td>99.68</td>\n",
       "      <td>Rain</td>\n",
       "    </tr>\n",
       "    <tr>\n",
       "      <th>2012-01-01 20:00:00</th>\n",
       "      <td>3.2</td>\n",
       "      <td>1.3</td>\n",
       "      <td>87</td>\n",
       "      <td>19</td>\n",
       "      <td>25.0</td>\n",
       "      <td>99.50</td>\n",
       "      <td>Cloudy</td>\n",
       "    </tr>\n",
       "    <tr>\n",
       "      <th>2012-01-01 21:00:00</th>\n",
       "      <td>4.0</td>\n",
       "      <td>1.7</td>\n",
       "      <td>85</td>\n",
       "      <td>20</td>\n",
       "      <td>25.0</td>\n",
       "      <td>99.39</td>\n",
       "      <td>Cloudy</td>\n",
       "    </tr>\n",
       "    <tr>\n",
       "      <th>2012-01-01 22:00:00</th>\n",
       "      <td>4.4</td>\n",
       "      <td>1.9</td>\n",
       "      <td>84</td>\n",
       "      <td>24</td>\n",
       "      <td>19.3</td>\n",
       "      <td>99.32</td>\n",
       "      <td>Rain Showers</td>\n",
       "    </tr>\n",
       "    <tr>\n",
       "      <th>2012-01-01 23:00:00</th>\n",
       "      <td>5.3</td>\n",
       "      <td>2.0</td>\n",
       "      <td>79</td>\n",
       "      <td>30</td>\n",
       "      <td>25.0</td>\n",
       "      <td>99.31</td>\n",
       "      <td>Cloudy</td>\n",
       "    </tr>\n",
       "    <tr>\n",
       "      <th>2012-01-02 00:00:00</th>\n",
       "      <td>5.2</td>\n",
       "      <td>1.5</td>\n",
       "      <td>77</td>\n",
       "      <td>35</td>\n",
       "      <td>25.0</td>\n",
       "      <td>99.26</td>\n",
       "      <td>Rain Showers</td>\n",
       "    </tr>\n",
       "    <tr>\n",
       "      <th>2012-01-02 01:00:00</th>\n",
       "      <td>4.6</td>\n",
       "      <td>0.0</td>\n",
       "      <td>72</td>\n",
       "      <td>39</td>\n",
       "      <td>25.0</td>\n",
       "      <td>99.26</td>\n",
       "      <td>Cloudy</td>\n",
       "    </tr>\n",
       "    <tr>\n",
       "      <th>2012-01-02 02:00:00</th>\n",
       "      <td>3.9</td>\n",
       "      <td>-0.9</td>\n",
       "      <td>71</td>\n",
       "      <td>32</td>\n",
       "      <td>25.0</td>\n",
       "      <td>99.26</td>\n",
       "      <td>Mostly Cloudy</td>\n",
       "    </tr>\n",
       "    <tr>\n",
       "      <th>2012-01-02 03:00:00</th>\n",
       "      <td>3.7</td>\n",
       "      <td>-1.5</td>\n",
       "      <td>69</td>\n",
       "      <td>33</td>\n",
       "      <td>25.0</td>\n",
       "      <td>99.30</td>\n",
       "      <td>Mostly Cloudy</td>\n",
       "    </tr>\n",
       "    <tr>\n",
       "      <th>2012-01-02 04:00:00</th>\n",
       "      <td>2.9</td>\n",
       "      <td>-2.3</td>\n",
       "      <td>69</td>\n",
       "      <td>32</td>\n",
       "      <td>25.0</td>\n",
       "      <td>99.26</td>\n",
       "      <td>Mostly Cloudy</td>\n",
       "    </tr>\n",
       "    <tr>\n",
       "      <th>2012-01-02 05:00:00</th>\n",
       "      <td>2.6</td>\n",
       "      <td>-2.3</td>\n",
       "      <td>70</td>\n",
       "      <td>32</td>\n",
       "      <td>25.0</td>\n",
       "      <td>99.21</td>\n",
       "      <td>Mostly Cloudy</td>\n",
       "    </tr>\n",
       "    <tr>\n",
       "      <th>...</th>\n",
       "      <td>...</td>\n",
       "      <td>...</td>\n",
       "      <td>...</td>\n",
       "      <td>...</td>\n",
       "      <td>...</td>\n",
       "      <td>...</td>\n",
       "      <td>...</td>\n",
       "    </tr>\n",
       "    <tr>\n",
       "      <th>2012-01-30 18:00:00</th>\n",
       "      <td>-7.4</td>\n",
       "      <td>-15.6</td>\n",
       "      <td>52</td>\n",
       "      <td>15</td>\n",
       "      <td>25.0</td>\n",
       "      <td>101.94</td>\n",
       "      <td>Mainly Clear</td>\n",
       "    </tr>\n",
       "    <tr>\n",
       "      <th>2012-01-30 19:00:00</th>\n",
       "      <td>-8.8</td>\n",
       "      <td>-15.9</td>\n",
       "      <td>56</td>\n",
       "      <td>7</td>\n",
       "      <td>25.0</td>\n",
       "      <td>101.96</td>\n",
       "      <td>Mainly Clear</td>\n",
       "    </tr>\n",
       "    <tr>\n",
       "      <th>2012-01-30 20:00:00</th>\n",
       "      <td>-9.5</td>\n",
       "      <td>-16.0</td>\n",
       "      <td>59</td>\n",
       "      <td>4</td>\n",
       "      <td>25.0</td>\n",
       "      <td>101.95</td>\n",
       "      <td>Mainly Clear</td>\n",
       "    </tr>\n",
       "    <tr>\n",
       "      <th>2012-01-30 21:00:00</th>\n",
       "      <td>-8.4</td>\n",
       "      <td>-15.5</td>\n",
       "      <td>57</td>\n",
       "      <td>4</td>\n",
       "      <td>25.0</td>\n",
       "      <td>101.96</td>\n",
       "      <td>Mostly Cloudy</td>\n",
       "    </tr>\n",
       "    <tr>\n",
       "      <th>2012-01-30 22:00:00</th>\n",
       "      <td>-7.8</td>\n",
       "      <td>-15.2</td>\n",
       "      <td>55</td>\n",
       "      <td>4</td>\n",
       "      <td>25.0</td>\n",
       "      <td>101.98</td>\n",
       "      <td>Mostly Cloudy</td>\n",
       "    </tr>\n",
       "    <tr>\n",
       "      <th>2012-01-30 23:00:00</th>\n",
       "      <td>-8.6</td>\n",
       "      <td>-13.8</td>\n",
       "      <td>66</td>\n",
       "      <td>6</td>\n",
       "      <td>25.0</td>\n",
       "      <td>101.96</td>\n",
       "      <td>Mostly Cloudy</td>\n",
       "    </tr>\n",
       "    <tr>\n",
       "      <th>2012-01-31 00:00:00</th>\n",
       "      <td>-7.0</td>\n",
       "      <td>-13.1</td>\n",
       "      <td>62</td>\n",
       "      <td>7</td>\n",
       "      <td>25.0</td>\n",
       "      <td>101.92</td>\n",
       "      <td>Mostly Cloudy</td>\n",
       "    </tr>\n",
       "    <tr>\n",
       "      <th>2012-01-31 01:00:00</th>\n",
       "      <td>-7.1</td>\n",
       "      <td>-13.2</td>\n",
       "      <td>62</td>\n",
       "      <td>6</td>\n",
       "      <td>25.0</td>\n",
       "      <td>101.88</td>\n",
       "      <td>Cloudy</td>\n",
       "    </tr>\n",
       "    <tr>\n",
       "      <th>2012-01-31 02:00:00</th>\n",
       "      <td>-6.5</td>\n",
       "      <td>-13.1</td>\n",
       "      <td>59</td>\n",
       "      <td>11</td>\n",
       "      <td>25.0</td>\n",
       "      <td>101.81</td>\n",
       "      <td>Snow</td>\n",
       "    </tr>\n",
       "    <tr>\n",
       "      <th>2012-01-31 03:00:00</th>\n",
       "      <td>-6.8</td>\n",
       "      <td>-12.4</td>\n",
       "      <td>64</td>\n",
       "      <td>15</td>\n",
       "      <td>19.3</td>\n",
       "      <td>101.76</td>\n",
       "      <td>Snow</td>\n",
       "    </tr>\n",
       "    <tr>\n",
       "      <th>2012-01-31 04:00:00</th>\n",
       "      <td>-7.1</td>\n",
       "      <td>-12.4</td>\n",
       "      <td>66</td>\n",
       "      <td>17</td>\n",
       "      <td>8.0</td>\n",
       "      <td>101.71</td>\n",
       "      <td>Snow</td>\n",
       "    </tr>\n",
       "    <tr>\n",
       "      <th>2012-01-31 05:00:00</th>\n",
       "      <td>-7.1</td>\n",
       "      <td>-12.2</td>\n",
       "      <td>67</td>\n",
       "      <td>17</td>\n",
       "      <td>9.7</td>\n",
       "      <td>101.70</td>\n",
       "      <td>Snow</td>\n",
       "    </tr>\n",
       "    <tr>\n",
       "      <th>2012-01-31 06:00:00</th>\n",
       "      <td>-7.0</td>\n",
       "      <td>-11.8</td>\n",
       "      <td>69</td>\n",
       "      <td>13</td>\n",
       "      <td>6.4</td>\n",
       "      <td>101.65</td>\n",
       "      <td>Snow</td>\n",
       "    </tr>\n",
       "    <tr>\n",
       "      <th>2012-01-31 07:00:00</th>\n",
       "      <td>-9.6</td>\n",
       "      <td>-13.5</td>\n",
       "      <td>73</td>\n",
       "      <td>17</td>\n",
       "      <td>12.9</td>\n",
       "      <td>101.60</td>\n",
       "      <td>Snow</td>\n",
       "    </tr>\n",
       "    <tr>\n",
       "      <th>2012-01-31 08:00:00</th>\n",
       "      <td>-9.8</td>\n",
       "      <td>-13.9</td>\n",
       "      <td>72</td>\n",
       "      <td>19</td>\n",
       "      <td>16.1</td>\n",
       "      <td>101.61</td>\n",
       "      <td>Snow</td>\n",
       "    </tr>\n",
       "    <tr>\n",
       "      <th>2012-01-31 09:00:00</th>\n",
       "      <td>-10.1</td>\n",
       "      <td>-14.4</td>\n",
       "      <td>71</td>\n",
       "      <td>17</td>\n",
       "      <td>24.1</td>\n",
       "      <td>101.59</td>\n",
       "      <td>Snow</td>\n",
       "    </tr>\n",
       "    <tr>\n",
       "      <th>2012-01-31 10:00:00</th>\n",
       "      <td>-9.7</td>\n",
       "      <td>-14.2</td>\n",
       "      <td>70</td>\n",
       "      <td>19</td>\n",
       "      <td>19.3</td>\n",
       "      <td>101.54</td>\n",
       "      <td>Cloudy</td>\n",
       "    </tr>\n",
       "    <tr>\n",
       "      <th>2012-01-31 11:00:00</th>\n",
       "      <td>-9.3</td>\n",
       "      <td>-14.2</td>\n",
       "      <td>67</td>\n",
       "      <td>20</td>\n",
       "      <td>19.3</td>\n",
       "      <td>101.46</td>\n",
       "      <td>Cloudy</td>\n",
       "    </tr>\n",
       "    <tr>\n",
       "      <th>2012-01-31 12:00:00</th>\n",
       "      <td>-8.6</td>\n",
       "      <td>-13.3</td>\n",
       "      <td>69</td>\n",
       "      <td>22</td>\n",
       "      <td>4.0</td>\n",
       "      <td>101.36</td>\n",
       "      <td>Snow</td>\n",
       "    </tr>\n",
       "    <tr>\n",
       "      <th>2012-01-31 13:00:00</th>\n",
       "      <td>-8.3</td>\n",
       "      <td>-12.3</td>\n",
       "      <td>73</td>\n",
       "      <td>20</td>\n",
       "      <td>1.6</td>\n",
       "      <td>101.29</td>\n",
       "      <td>Snow</td>\n",
       "    </tr>\n",
       "    <tr>\n",
       "      <th>2012-01-31 14:00:00</th>\n",
       "      <td>-8.4</td>\n",
       "      <td>-12.1</td>\n",
       "      <td>75</td>\n",
       "      <td>20</td>\n",
       "      <td>1.2</td>\n",
       "      <td>101.23</td>\n",
       "      <td>Snow</td>\n",
       "    </tr>\n",
       "    <tr>\n",
       "      <th>2012-01-31 15:00:00</th>\n",
       "      <td>-8.2</td>\n",
       "      <td>-12.0</td>\n",
       "      <td>74</td>\n",
       "      <td>17</td>\n",
       "      <td>1.0</td>\n",
       "      <td>101.22</td>\n",
       "      <td>Snow</td>\n",
       "    </tr>\n",
       "    <tr>\n",
       "      <th>2012-01-31 16:00:00</th>\n",
       "      <td>-8.0</td>\n",
       "      <td>-11.5</td>\n",
       "      <td>76</td>\n",
       "      <td>20</td>\n",
       "      <td>1.0</td>\n",
       "      <td>101.20</td>\n",
       "      <td>Snow</td>\n",
       "    </tr>\n",
       "    <tr>\n",
       "      <th>2012-01-31 17:00:00</th>\n",
       "      <td>-7.7</td>\n",
       "      <td>-11.1</td>\n",
       "      <td>77</td>\n",
       "      <td>19</td>\n",
       "      <td>1.0</td>\n",
       "      <td>101.19</td>\n",
       "      <td>Snow</td>\n",
       "    </tr>\n",
       "    <tr>\n",
       "      <th>2012-01-31 18:00:00</th>\n",
       "      <td>-7.8</td>\n",
       "      <td>-11.2</td>\n",
       "      <td>77</td>\n",
       "      <td>20</td>\n",
       "      <td>1.6</td>\n",
       "      <td>101.18</td>\n",
       "      <td>Snow</td>\n",
       "    </tr>\n",
       "    <tr>\n",
       "      <th>2012-01-31 19:00:00</th>\n",
       "      <td>-7.7</td>\n",
       "      <td>-10.9</td>\n",
       "      <td>78</td>\n",
       "      <td>19</td>\n",
       "      <td>1.6</td>\n",
       "      <td>101.14</td>\n",
       "      <td>Snow</td>\n",
       "    </tr>\n",
       "    <tr>\n",
       "      <th>2012-01-31 20:00:00</th>\n",
       "      <td>-7.4</td>\n",
       "      <td>-10.7</td>\n",
       "      <td>77</td>\n",
       "      <td>20</td>\n",
       "      <td>1.6</td>\n",
       "      <td>101.09</td>\n",
       "      <td>Snow</td>\n",
       "    </tr>\n",
       "    <tr>\n",
       "      <th>2012-01-31 21:00:00</th>\n",
       "      <td>-7.1</td>\n",
       "      <td>-10.5</td>\n",
       "      <td>77</td>\n",
       "      <td>20</td>\n",
       "      <td>12.9</td>\n",
       "      <td>101.02</td>\n",
       "      <td>Cloudy</td>\n",
       "    </tr>\n",
       "    <tr>\n",
       "      <th>2012-01-31 22:00:00</th>\n",
       "      <td>-7.1</td>\n",
       "      <td>-10.4</td>\n",
       "      <td>77</td>\n",
       "      <td>19</td>\n",
       "      <td>9.7</td>\n",
       "      <td>100.95</td>\n",
       "      <td>Snow</td>\n",
       "    </tr>\n",
       "    <tr>\n",
       "      <th>2012-01-31 23:00:00</th>\n",
       "      <td>-6.8</td>\n",
       "      <td>-9.9</td>\n",
       "      <td>79</td>\n",
       "      <td>22</td>\n",
       "      <td>9.7</td>\n",
       "      <td>100.86</td>\n",
       "      <td>Freezing Drizzle,Snow</td>\n",
       "    </tr>\n",
       "  </tbody>\n",
       "</table>\n",
       "<p>744 rows × 7 columns</p>\n",
       "</div>"
      ],
      "text/plain": [
       "                     Temp (C)  Dew Point Temp (C)  Rel Hum (%)  \\\n",
       "Date/Time                                                        \n",
       "2012-01-01 00:00:00      -1.8                -3.9           86   \n",
       "2012-01-01 01:00:00      -1.8                -3.7           87   \n",
       "2012-01-01 02:00:00      -1.8                -3.4           89   \n",
       "2012-01-01 03:00:00      -1.5                -3.2           88   \n",
       "2012-01-01 04:00:00      -1.5                -3.3           88   \n",
       "2012-01-01 05:00:00      -1.4                -3.3           87   \n",
       "2012-01-01 06:00:00      -1.5                -3.1           89   \n",
       "2012-01-01 07:00:00      -1.4                -3.6           85   \n",
       "2012-01-01 08:00:00      -1.4                -3.6           85   \n",
       "2012-01-01 09:00:00      -1.3                -3.1           88   \n",
       "2012-01-01 10:00:00      -1.0                -2.3           91   \n",
       "2012-01-01 11:00:00      -0.5                -2.1           89   \n",
       "2012-01-01 12:00:00      -0.2                -2.0           88   \n",
       "2012-01-01 13:00:00       0.2                -1.7           87   \n",
       "2012-01-01 14:00:00       0.8                -1.1           87   \n",
       "2012-01-01 15:00:00       1.8                -0.4           85   \n",
       "2012-01-01 16:00:00       2.6                -0.2           82   \n",
       "2012-01-01 17:00:00       3.0                 0.0           81   \n",
       "2012-01-01 18:00:00       3.8                 1.0           82   \n",
       "2012-01-01 19:00:00       3.1                 1.3           88   \n",
       "2012-01-01 20:00:00       3.2                 1.3           87   \n",
       "2012-01-01 21:00:00       4.0                 1.7           85   \n",
       "2012-01-01 22:00:00       4.4                 1.9           84   \n",
       "2012-01-01 23:00:00       5.3                 2.0           79   \n",
       "2012-01-02 00:00:00       5.2                 1.5           77   \n",
       "2012-01-02 01:00:00       4.6                 0.0           72   \n",
       "2012-01-02 02:00:00       3.9                -0.9           71   \n",
       "2012-01-02 03:00:00       3.7                -1.5           69   \n",
       "2012-01-02 04:00:00       2.9                -2.3           69   \n",
       "2012-01-02 05:00:00       2.6                -2.3           70   \n",
       "...                       ...                 ...          ...   \n",
       "2012-01-30 18:00:00      -7.4               -15.6           52   \n",
       "2012-01-30 19:00:00      -8.8               -15.9           56   \n",
       "2012-01-30 20:00:00      -9.5               -16.0           59   \n",
       "2012-01-30 21:00:00      -8.4               -15.5           57   \n",
       "2012-01-30 22:00:00      -7.8               -15.2           55   \n",
       "2012-01-30 23:00:00      -8.6               -13.8           66   \n",
       "2012-01-31 00:00:00      -7.0               -13.1           62   \n",
       "2012-01-31 01:00:00      -7.1               -13.2           62   \n",
       "2012-01-31 02:00:00      -6.5               -13.1           59   \n",
       "2012-01-31 03:00:00      -6.8               -12.4           64   \n",
       "2012-01-31 04:00:00      -7.1               -12.4           66   \n",
       "2012-01-31 05:00:00      -7.1               -12.2           67   \n",
       "2012-01-31 06:00:00      -7.0               -11.8           69   \n",
       "2012-01-31 07:00:00      -9.6               -13.5           73   \n",
       "2012-01-31 08:00:00      -9.8               -13.9           72   \n",
       "2012-01-31 09:00:00     -10.1               -14.4           71   \n",
       "2012-01-31 10:00:00      -9.7               -14.2           70   \n",
       "2012-01-31 11:00:00      -9.3               -14.2           67   \n",
       "2012-01-31 12:00:00      -8.6               -13.3           69   \n",
       "2012-01-31 13:00:00      -8.3               -12.3           73   \n",
       "2012-01-31 14:00:00      -8.4               -12.1           75   \n",
       "2012-01-31 15:00:00      -8.2               -12.0           74   \n",
       "2012-01-31 16:00:00      -8.0               -11.5           76   \n",
       "2012-01-31 17:00:00      -7.7               -11.1           77   \n",
       "2012-01-31 18:00:00      -7.8               -11.2           77   \n",
       "2012-01-31 19:00:00      -7.7               -10.9           78   \n",
       "2012-01-31 20:00:00      -7.4               -10.7           77   \n",
       "2012-01-31 21:00:00      -7.1               -10.5           77   \n",
       "2012-01-31 22:00:00      -7.1               -10.4           77   \n",
       "2012-01-31 23:00:00      -6.8                -9.9           79   \n",
       "\n",
       "                     Wind Spd (km/h)  Visibility (km)  Stn Press (kPa)  \\\n",
       "Date/Time                                                                \n",
       "2012-01-01 00:00:00                4              8.0           101.24   \n",
       "2012-01-01 01:00:00                4              8.0           101.24   \n",
       "2012-01-01 02:00:00                7              4.0           101.26   \n",
       "2012-01-01 03:00:00                6              4.0           101.27   \n",
       "2012-01-01 04:00:00                7              4.8           101.23   \n",
       "2012-01-01 05:00:00                9              6.4           101.27   \n",
       "2012-01-01 06:00:00                7              6.4           101.29   \n",
       "2012-01-01 07:00:00                7              8.0           101.26   \n",
       "2012-01-01 08:00:00                9              8.0           101.23   \n",
       "2012-01-01 09:00:00               15              4.0           101.20   \n",
       "2012-01-01 10:00:00                9              1.2           101.15   \n",
       "2012-01-01 11:00:00                7              4.0           100.98   \n",
       "2012-01-01 12:00:00                9              4.8           100.79   \n",
       "2012-01-01 13:00:00               13              4.8           100.58   \n",
       "2012-01-01 14:00:00               20              4.8           100.31   \n",
       "2012-01-01 15:00:00               22              6.4           100.07   \n",
       "2012-01-01 16:00:00               13             12.9            99.93   \n",
       "2012-01-01 17:00:00               13             16.1            99.81   \n",
       "2012-01-01 18:00:00               15             12.9            99.74   \n",
       "2012-01-01 19:00:00               15             12.9            99.68   \n",
       "2012-01-01 20:00:00               19             25.0            99.50   \n",
       "2012-01-01 21:00:00               20             25.0            99.39   \n",
       "2012-01-01 22:00:00               24             19.3            99.32   \n",
       "2012-01-01 23:00:00               30             25.0            99.31   \n",
       "2012-01-02 00:00:00               35             25.0            99.26   \n",
       "2012-01-02 01:00:00               39             25.0            99.26   \n",
       "2012-01-02 02:00:00               32             25.0            99.26   \n",
       "2012-01-02 03:00:00               33             25.0            99.30   \n",
       "2012-01-02 04:00:00               32             25.0            99.26   \n",
       "2012-01-02 05:00:00               32             25.0            99.21   \n",
       "...                              ...              ...              ...   \n",
       "2012-01-30 18:00:00               15             25.0           101.94   \n",
       "2012-01-30 19:00:00                7             25.0           101.96   \n",
       "2012-01-30 20:00:00                4             25.0           101.95   \n",
       "2012-01-30 21:00:00                4             25.0           101.96   \n",
       "2012-01-30 22:00:00                4             25.0           101.98   \n",
       "2012-01-30 23:00:00                6             25.0           101.96   \n",
       "2012-01-31 00:00:00                7             25.0           101.92   \n",
       "2012-01-31 01:00:00                6             25.0           101.88   \n",
       "2012-01-31 02:00:00               11             25.0           101.81   \n",
       "2012-01-31 03:00:00               15             19.3           101.76   \n",
       "2012-01-31 04:00:00               17              8.0           101.71   \n",
       "2012-01-31 05:00:00               17              9.7           101.70   \n",
       "2012-01-31 06:00:00               13              6.4           101.65   \n",
       "2012-01-31 07:00:00               17             12.9           101.60   \n",
       "2012-01-31 08:00:00               19             16.1           101.61   \n",
       "2012-01-31 09:00:00               17             24.1           101.59   \n",
       "2012-01-31 10:00:00               19             19.3           101.54   \n",
       "2012-01-31 11:00:00               20             19.3           101.46   \n",
       "2012-01-31 12:00:00               22              4.0           101.36   \n",
       "2012-01-31 13:00:00               20              1.6           101.29   \n",
       "2012-01-31 14:00:00               20              1.2           101.23   \n",
       "2012-01-31 15:00:00               17              1.0           101.22   \n",
       "2012-01-31 16:00:00               20              1.0           101.20   \n",
       "2012-01-31 17:00:00               19              1.0           101.19   \n",
       "2012-01-31 18:00:00               20              1.6           101.18   \n",
       "2012-01-31 19:00:00               19              1.6           101.14   \n",
       "2012-01-31 20:00:00               20              1.6           101.09   \n",
       "2012-01-31 21:00:00               20             12.9           101.02   \n",
       "2012-01-31 22:00:00               19              9.7           100.95   \n",
       "2012-01-31 23:00:00               22              9.7           100.86   \n",
       "\n",
       "                                   Weather  \n",
       "Date/Time                                   \n",
       "2012-01-01 00:00:00                    Fog  \n",
       "2012-01-01 01:00:00                    Fog  \n",
       "2012-01-01 02:00:00   Freezing Drizzle,Fog  \n",
       "2012-01-01 03:00:00   Freezing Drizzle,Fog  \n",
       "2012-01-01 04:00:00                    Fog  \n",
       "2012-01-01 05:00:00                    Fog  \n",
       "2012-01-01 06:00:00                    Fog  \n",
       "2012-01-01 07:00:00                    Fog  \n",
       "2012-01-01 08:00:00                    Fog  \n",
       "2012-01-01 09:00:00                    Fog  \n",
       "2012-01-01 10:00:00                    Fog  \n",
       "2012-01-01 11:00:00                    Fog  \n",
       "2012-01-01 12:00:00                    Fog  \n",
       "2012-01-01 13:00:00                    Fog  \n",
       "2012-01-01 14:00:00                    Fog  \n",
       "2012-01-01 15:00:00                    Fog  \n",
       "2012-01-01 16:00:00          Mostly Cloudy  \n",
       "2012-01-01 17:00:00                 Cloudy  \n",
       "2012-01-01 18:00:00                   Rain  \n",
       "2012-01-01 19:00:00                   Rain  \n",
       "2012-01-01 20:00:00                 Cloudy  \n",
       "2012-01-01 21:00:00                 Cloudy  \n",
       "2012-01-01 22:00:00           Rain Showers  \n",
       "2012-01-01 23:00:00                 Cloudy  \n",
       "2012-01-02 00:00:00           Rain Showers  \n",
       "2012-01-02 01:00:00                 Cloudy  \n",
       "2012-01-02 02:00:00          Mostly Cloudy  \n",
       "2012-01-02 03:00:00          Mostly Cloudy  \n",
       "2012-01-02 04:00:00          Mostly Cloudy  \n",
       "2012-01-02 05:00:00          Mostly Cloudy  \n",
       "...                                    ...  \n",
       "2012-01-30 18:00:00           Mainly Clear  \n",
       "2012-01-30 19:00:00           Mainly Clear  \n",
       "2012-01-30 20:00:00           Mainly Clear  \n",
       "2012-01-30 21:00:00          Mostly Cloudy  \n",
       "2012-01-30 22:00:00          Mostly Cloudy  \n",
       "2012-01-30 23:00:00          Mostly Cloudy  \n",
       "2012-01-31 00:00:00          Mostly Cloudy  \n",
       "2012-01-31 01:00:00                 Cloudy  \n",
       "2012-01-31 02:00:00                   Snow  \n",
       "2012-01-31 03:00:00                   Snow  \n",
       "2012-01-31 04:00:00                   Snow  \n",
       "2012-01-31 05:00:00                   Snow  \n",
       "2012-01-31 06:00:00                   Snow  \n",
       "2012-01-31 07:00:00                   Snow  \n",
       "2012-01-31 08:00:00                   Snow  \n",
       "2012-01-31 09:00:00                   Snow  \n",
       "2012-01-31 10:00:00                 Cloudy  \n",
       "2012-01-31 11:00:00                 Cloudy  \n",
       "2012-01-31 12:00:00                   Snow  \n",
       "2012-01-31 13:00:00                   Snow  \n",
       "2012-01-31 14:00:00                   Snow  \n",
       "2012-01-31 15:00:00                   Snow  \n",
       "2012-01-31 16:00:00                   Snow  \n",
       "2012-01-31 17:00:00                   Snow  \n",
       "2012-01-31 18:00:00                   Snow  \n",
       "2012-01-31 19:00:00                   Snow  \n",
       "2012-01-31 20:00:00                   Snow  \n",
       "2012-01-31 21:00:00                 Cloudy  \n",
       "2012-01-31 22:00:00                   Snow  \n",
       "2012-01-31 23:00:00  Freezing Drizzle,Snow  \n",
       "\n",
       "[744 rows x 7 columns]"
      ]
     },
     "execution_count": 255,
     "metadata": {},
     "output_type": "execute_result"
    }
   ],
   "source": [
    "data['2012-01']"
   ]
  },
  {
   "cell_type": "markdown",
   "metadata": {},
   "source": [
    "You can combine indexing too. Let's get the weather types on November 2nd."
   ]
  },
  {
   "cell_type": "code",
   "execution_count": 256,
   "metadata": {},
   "outputs": [
    {
     "data": {
      "text/plain": [
       "Date/Time\n",
       "2012-11-02 00:00:00          Cloudy\n",
       "2012-11-02 01:00:00          Cloudy\n",
       "2012-11-02 02:00:00          Cloudy\n",
       "2012-11-02 03:00:00          Cloudy\n",
       "2012-11-02 04:00:00          Cloudy\n",
       "2012-11-02 05:00:00    Rain Showers\n",
       "2012-11-02 06:00:00            Rain\n",
       "2012-11-02 07:00:00            Rain\n",
       "2012-11-02 08:00:00            Rain\n",
       "2012-11-02 09:00:00            Rain\n",
       "2012-11-02 10:00:00            Rain\n",
       "2012-11-02 11:00:00         Drizzle\n",
       "2012-11-02 12:00:00         Drizzle\n",
       "2012-11-02 13:00:00         Drizzle\n",
       "2012-11-02 14:00:00          Cloudy\n",
       "2012-11-02 15:00:00          Cloudy\n",
       "2012-11-02 16:00:00          Cloudy\n",
       "2012-11-02 17:00:00          Cloudy\n",
       "2012-11-02 18:00:00          Cloudy\n",
       "2012-11-02 19:00:00    Rain Showers\n",
       "2012-11-02 20:00:00    Rain Showers\n",
       "2012-11-02 21:00:00          Cloudy\n",
       "2012-11-02 22:00:00    Rain Showers\n",
       "2012-11-02 23:00:00    Rain Showers\n",
       "Name: Weather, dtype: object"
      ]
     },
     "execution_count": 256,
     "metadata": {},
     "output_type": "execute_result"
    }
   ],
   "source": [
    "data['2012-11-02']['Weather']"
   ]
  },
  {
   "cell_type": "markdown",
   "metadata": {},
   "source": [
    "The first step in data analysis is always to plot something. Pandas makes this easy, and you don't have to deal with Matplotlib directly."
   ]
  },
  {
   "cell_type": "code",
   "execution_count": 257,
   "metadata": {},
   "outputs": [
    {
     "data": {
      "text/plain": [
       "<matplotlib.axes._subplots.AxesSubplot at 0x89d99e8>"
      ]
     },
     "execution_count": 257,
     "metadata": {},
     "output_type": "execute_result"
    },
    {
     "data": {
      "image/png": "[encoded data removed]",
      "text/plain": [
       "<Figure size 432x288 with 1 Axes>"
      ]
     },
     "metadata": {},
     "output_type": "display_data"
    }
   ],
   "source": [
    "data.plot()"
   ]
  },
  {
   "cell_type": "markdown",
   "metadata": {},
   "source": [
    "That does not give us any particular insight, but if we try it with a particular data column"
   ]
  },
  {
   "cell_type": "code",
   "execution_count": 258,
   "metadata": {},
   "outputs": [
    {
     "data": {
      "text/plain": [
       "<matplotlib.axes._subplots.AxesSubplot at 0xa596438>"
      ]
     },
     "execution_count": 258,
     "metadata": {},
     "output_type": "execute_result"
    },
    {
     "data": {
      "image/png": "[encoded data removed]",
      "text/plain": [
       "<Figure size 864x288 with 1 Axes>"
      ]
     },
     "metadata": {},
     "output_type": "display_data"
    }
   ],
   "source": [
    "data.plot(y='Temp (C)', figsize=(12,4))"
   ]
  },
  {
   "cell_type": "markdown",
   "metadata": {},
   "source": [
    "Let's see if the temperature and the dew point are linked."
   ]
  },
  {
   "cell_type": "code",
   "execution_count": 259,
   "metadata": {},
   "outputs": [
    {
     "data": {
      "text/plain": [
       "<matplotlib.axes._subplots.AxesSubplot at 0xa732f28>"
      ]
     },
     "execution_count": 259,
     "metadata": {},
     "output_type": "execute_result"
    },
    {
     "data": {
      "image/png": "[encoded data removed]",
      "text/plain": [
       "<Figure size 864x288 with 1 Axes>"
      ]
     },
     "metadata": {},
     "output_type": "display_data"
    }
   ],
   "source": [
    "ax = data.plot(y='Temp (C)', figsize=(12,4))\n",
    "data.plot(y='Dew Point Temp (C)', ax=ax)"
   ]
  },
  {
   "cell_type": "markdown",
   "metadata": {},
   "source": [
    "Let's look at the \"Weather\" column. Unlike the other columns, it acts as a category rather than as a number. Use `.value_counts()` to get an overview."
   ]
  },
  {
   "cell_type": "code",
   "execution_count": 265,
   "metadata": {},
   "outputs": [
    {
     "data": {
      "text/plain": [
       "Mainly Clear                               2106\n",
       "Mostly Cloudy                              2069\n",
       "Cloudy                                     1728\n",
       "Clear                                      1326\n",
       "Snow                                        390\n",
       "Rain                                        306\n",
       "Rain Showers                                188\n",
       "Fog                                         150\n",
       "Rain,Fog                                    116\n",
       "Drizzle,Fog                                  80\n",
       "Snow Showers                                 60\n",
       "Drizzle                                      41\n",
       "Snow,Fog                                     37\n",
       "Snow,Blowing Snow                            19\n",
       "Rain,Snow                                    18\n",
       "Thunderstorms,Rain Showers                   16\n",
       "Haze                                         16\n",
       "Drizzle,Snow,Fog                             15\n",
       "Freezing Rain                                14\n",
       "Freezing Drizzle,Snow                        11\n",
       "Freezing Drizzle                              7\n",
       "Freezing Drizzle,Fog                          6\n",
       "Snow,Ice Pellets                              6\n",
       "Snow,Haze                                     5\n",
       "Freezing Rain,Fog                             4\n",
       "Rain,Snow,Ice Pellets                         4\n",
       "Moderate Snow                                 4\n",
       "Snow Showers,Fog                              4\n",
       "Freezing Fog                                  4\n",
       "Rain,Haze                                     3\n",
       "Freezing Drizzle,Haze                         3\n",
       "Thunderstorms,Rain Showers,Fog                3\n",
       "Thunderstorms,Rain                            3\n",
       "Rain Showers,Snow Showers                     2\n",
       "Moderate Snow,Blowing Snow                    2\n",
       "Freezing Rain,Haze                            2\n",
       "Thunderstorms                                 2\n",
       "Drizzle,Snow                                  2\n",
       "Moderate Rain,Fog                             1\n",
       "Freezing Rain,Ice Pellets,Fog                 1\n",
       "Thunderstorms,Rain,Fog                        1\n",
       "Freezing Rain,Snow Grains                     1\n",
       "Thunderstorms,Moderate Rain Showers,Fog       1\n",
       "Drizzle,Ice Pellets,Fog                       1\n",
       "Snow Pellets                                  1\n",
       "Thunderstorms,Heavy Rain Showers              1\n",
       "Rain,Snow Grains                              1\n",
       "Rain,Ice Pellets                              1\n",
       "Rain Showers,Fog                              1\n",
       "Rain,Snow,Fog                                 1\n",
       "Name: Weather, dtype: int64"
      ]
     },
     "execution_count": 265,
     "metadata": {},
     "output_type": "execute_result"
    }
   ],
   "source": [
    "data['Weather'].value_counts()"
   ]
  },
  {
   "cell_type": "markdown",
   "metadata": {},
   "source": [
    "Unfortunately this sort of column is not very useful. We'd rather have columns called \"Clear\", \"Cloudy\", etc, which are booleans. Let's try to do that. You can access string methods under the `str` attribute. Let's split on comma and expand."
   ]
  },
  {
   "cell_type": "code",
   "execution_count": 266,
   "metadata": {},
   "outputs": [
    {
     "data": {
      "text/html": [
       "<div>\n",
       "<style scoped>\n",
       "    .dataframe tbody tr th:only-of-type {\n",
       "        vertical-align: middle;\n",
       "    }\n",
       "\n",
       "    .dataframe tbody tr th {\n",
       "        vertical-align: top;\n",
       "    }\n",
       "\n",
       "    .dataframe thead th {\n",
       "        text-align: right;\n",
       "    }\n",
       "</style>\n",
       "<table border=\"1\" class=\"dataframe\">\n",
       "  <thead>\n",
       "    <tr style=\"text-align: right;\">\n",
       "      <th></th>\n",
       "      <th>0</th>\n",
       "      <th>1</th>\n",
       "      <th>2</th>\n",
       "    </tr>\n",
       "    <tr>\n",
       "      <th>Date/Time</th>\n",
       "      <th></th>\n",
       "      <th></th>\n",
       "      <th></th>\n",
       "    </tr>\n",
       "  </thead>\n",
       "  <tbody>\n",
       "    <tr>\n",
       "      <th>2012-01-01 00:00:00</th>\n",
       "      <td>Fog</td>\n",
       "      <td>None</td>\n",
       "      <td>None</td>\n",
       "    </tr>\n",
       "    <tr>\n",
       "      <th>2012-01-01 01:00:00</th>\n",
       "      <td>Fog</td>\n",
       "      <td>None</td>\n",
       "      <td>None</td>\n",
       "    </tr>\n",
       "    <tr>\n",
       "      <th>2012-01-01 02:00:00</th>\n",
       "      <td>Freezing Drizzle</td>\n",
       "      <td>Fog</td>\n",
       "      <td>None</td>\n",
       "    </tr>\n",
       "    <tr>\n",
       "      <th>2012-01-01 03:00:00</th>\n",
       "      <td>Freezing Drizzle</td>\n",
       "      <td>Fog</td>\n",
       "      <td>None</td>\n",
       "    </tr>\n",
       "    <tr>\n",
       "      <th>2012-01-01 04:00:00</th>\n",
       "      <td>Fog</td>\n",
       "      <td>None</td>\n",
       "      <td>None</td>\n",
       "    </tr>\n",
       "  </tbody>\n",
       "</table>\n",
       "</div>"
      ],
      "text/plain": [
       "                                    0     1     2\n",
       "Date/Time                                        \n",
       "2012-01-01 00:00:00               Fog  None  None\n",
       "2012-01-01 01:00:00               Fog  None  None\n",
       "2012-01-01 02:00:00  Freezing Drizzle   Fog  None\n",
       "2012-01-01 03:00:00  Freezing Drizzle   Fog  None\n",
       "2012-01-01 04:00:00               Fog  None  None"
      ]
     },
     "execution_count": 266,
     "metadata": {},
     "output_type": "execute_result"
    }
   ],
   "source": [
    "temp = data['Weather'].str.split(',', expand=True)\n",
    "temp.head()"
   ]
  },
  {
   "cell_type": "markdown",
   "metadata": {},
   "source": [
    "As you can see we now get a dataframe with three columns, indicating that there are only ever three different weather tags for any particular hour. Let's get a list of all weather tags. Since `set` removes duplicates, let's use that. Let's also remove `None`."
   ]
  },
  {
   "cell_type": "code",
   "execution_count": 267,
   "metadata": {},
   "outputs": [
    {
     "data": {
      "text/plain": [
       "['Blowing Snow',\n",
       " 'Clear',\n",
       " 'Cloudy',\n",
       " 'Drizzle',\n",
       " 'Fog',\n",
       " 'Freezing Drizzle',\n",
       " 'Freezing Fog',\n",
       " 'Freezing Rain',\n",
       " 'Haze',\n",
       " 'Heavy Rain Showers',\n",
       " 'Ice Pellets',\n",
       " 'Mainly Clear',\n",
       " 'Moderate Rain',\n",
       " 'Moderate Rain Showers',\n",
       " 'Moderate Snow',\n",
       " 'Mostly Cloudy',\n",
       " 'Rain',\n",
       " 'Rain Showers',\n",
       " 'Snow',\n",
       " 'Snow Grains',\n",
       " 'Snow Pellets',\n",
       " 'Snow Showers',\n",
       " 'Thunderstorms']"
      ]
     },
     "execution_count": 267,
     "metadata": {},
     "output_type": "execute_result"
    }
   ],
   "source": [
    "tags = sorted(set(temp.values.flatten()) - {None})\n",
    "tags"
   ]
  },
  {
   "cell_type": "markdown",
   "metadata": {},
   "source": [
    "Now we can get a boolean dataframe indicating which days are foggy by using `temp == 'Fog'`. We also need to apply maximum on the rows, though, since we're only interested in whether it was foggy, not whether \"Fog\" was first, second or third in the list."
   ]
  },
  {
   "cell_type": "code",
   "execution_count": 268,
   "metadata": {},
   "outputs": [
    {
     "data": {
      "text/plain": [
       "Date/Time\n",
       "2012-01-01 00:00:00     True\n",
       "2012-01-01 01:00:00     True\n",
       "2012-01-01 02:00:00     True\n",
       "2012-01-01 03:00:00     True\n",
       "2012-01-01 04:00:00     True\n",
       "2012-01-01 05:00:00     True\n",
       "2012-01-01 06:00:00     True\n",
       "2012-01-01 07:00:00     True\n",
       "2012-01-01 08:00:00     True\n",
       "2012-01-01 09:00:00     True\n",
       "2012-01-01 10:00:00     True\n",
       "2012-01-01 11:00:00     True\n",
       "2012-01-01 12:00:00     True\n",
       "2012-01-01 13:00:00     True\n",
       "2012-01-01 14:00:00     True\n",
       "2012-01-01 15:00:00     True\n",
       "2012-01-01 16:00:00    False\n",
       "2012-01-01 17:00:00    False\n",
       "2012-01-01 18:00:00    False\n",
       "2012-01-01 19:00:00    False\n",
       "2012-01-01 20:00:00    False\n",
       "2012-01-01 21:00:00    False\n",
       "2012-01-01 22:00:00    False\n",
       "2012-01-01 23:00:00    False\n",
       "2012-01-02 00:00:00    False\n",
       "2012-01-02 01:00:00    False\n",
       "2012-01-02 02:00:00    False\n",
       "2012-01-02 03:00:00    False\n",
       "2012-01-02 04:00:00    False\n",
       "2012-01-02 05:00:00    False\n",
       "                       ...  \n",
       "2012-12-30 18:00:00    False\n",
       "2012-12-30 19:00:00    False\n",
       "2012-12-30 20:00:00    False\n",
       "2012-12-30 21:00:00    False\n",
       "2012-12-30 22:00:00    False\n",
       "2012-12-30 23:00:00    False\n",
       "2012-12-31 00:00:00    False\n",
       "2012-12-31 01:00:00    False\n",
       "2012-12-31 02:00:00    False\n",
       "2012-12-31 03:00:00    False\n",
       "2012-12-31 04:00:00    False\n",
       "2012-12-31 05:00:00    False\n",
       "2012-12-31 06:00:00    False\n",
       "2012-12-31 07:00:00    False\n",
       "2012-12-31 08:00:00    False\n",
       "2012-12-31 09:00:00    False\n",
       "2012-12-31 10:00:00     True\n",
       "2012-12-31 11:00:00    False\n",
       "2012-12-31 12:00:00    False\n",
       "2012-12-31 13:00:00    False\n",
       "2012-12-31 14:00:00    False\n",
       "2012-12-31 15:00:00    False\n",
       "2012-12-31 16:00:00    False\n",
       "2012-12-31 17:00:00    False\n",
       "2012-12-31 18:00:00    False\n",
       "2012-12-31 19:00:00    False\n",
       "2012-12-31 20:00:00    False\n",
       "2012-12-31 21:00:00    False\n",
       "2012-12-31 22:00:00    False\n",
       "2012-12-31 23:00:00    False\n",
       "Length: 8784, dtype: bool"
      ]
     },
     "execution_count": 268,
     "metadata": {},
     "output_type": "execute_result"
    }
   ],
   "source": [
    "(temp == 'Fog').aggregate('max', axis=1)"
   ]
  },
  {
   "cell_type": "markdown",
   "metadata": {},
   "source": [
    "Great. Let's now add a bunch of columns to our original data frame."
   ]
  },
  {
   "cell_type": "code",
   "execution_count": 269,
   "metadata": {},
   "outputs": [
    {
     "data": {
      "text/plain": [
       "Temp (C)                 float64\n",
       "Dew Point Temp (C)       float64\n",
       "Rel Hum (%)                int64\n",
       "Wind Spd (km/h)            int64\n",
       "Visibility (km)          float64\n",
       "Stn Press (kPa)          float64\n",
       "Weather                   object\n",
       "Temp Diff (C)            float64\n",
       "Blowing Snow                bool\n",
       "Clear                       bool\n",
       "Cloudy                      bool\n",
       "Drizzle                     bool\n",
       "Fog                         bool\n",
       "Freezing Drizzle            bool\n",
       "Freezing Fog                bool\n",
       "Freezing Rain               bool\n",
       "Haze                        bool\n",
       "Heavy Rain Showers          bool\n",
       "Ice Pellets                 bool\n",
       "Mainly Clear                bool\n",
       "Moderate Rain               bool\n",
       "Moderate Rain Showers       bool\n",
       "Moderate Snow               bool\n",
       "Mostly Cloudy               bool\n",
       "Rain                        bool\n",
       "Rain Showers                bool\n",
       "Snow                        bool\n",
       "Snow Grains                 bool\n",
       "Snow Pellets                bool\n",
       "Snow Showers                bool\n",
       "Thunderstorms               bool\n",
       "dtype: object"
      ]
     },
     "execution_count": 269,
     "metadata": {},
     "output_type": "execute_result"
    }
   ],
   "source": [
    "for tag in tags:\n",
    "    data[tag] = (temp == tag).aggregate('max', axis=1)\n",
    "data.dtypes"
   ]
  },
  {
   "cell_type": "markdown",
   "metadata": {},
   "source": [
    "Beautiful. Now we can get some more information on the specific types of weather."
   ]
  },
  {
   "cell_type": "code",
   "execution_count": 270,
   "metadata": {},
   "outputs": [
    {
     "data": {
      "text/plain": [
       "Mainly Clear             2106\n",
       "Mostly Cloudy            2069\n",
       "Cloudy                   1728\n",
       "Clear                    1326\n",
       "Snow                      508\n",
       "Rain                      454\n",
       "Fog                       422\n",
       "Rain Showers              210\n",
       "Drizzle                   139\n",
       "Snow Showers               66\n",
       "Haze                       29\n",
       "Freezing Drizzle           27\n",
       "Thunderstorms              27\n",
       "Freezing Rain              22\n",
       "Blowing Snow               21\n",
       "Ice Pellets                13\n",
       "Moderate Snow               6\n",
       "Freezing Fog                4\n",
       "Snow Grains                 2\n",
       "Heavy Rain Showers          1\n",
       "Moderate Rain               1\n",
       "Moderate Rain Showers       1\n",
       "Snow Pellets                1\n",
       "dtype: int64"
      ]
     },
     "execution_count": 270,
     "metadata": {},
     "output_type": "execute_result"
    }
   ],
   "source": [
    "weather = data.loc[:, 'Blowing Snow':'Thunderstorms']\n",
    "weather.aggregate('sum').sort_values(ascending=False)"
   ]
  },
  {
   "cell_type": "markdown",
   "metadata": {},
   "source": [
    "# Matplotlib"
   ]
  },
  {
   "cell_type": "markdown",
   "metadata": {},
   "source": [
    "Matplotlib is the go-to package for visualization in the Scientific Python stack. It is perhaps the least popular of all the scientific packages since it aims to replicate the Matlab plotting API, a design which often clashes with more idiomatic Pythonic code. In short, it often looks ugly. However, while other visualization packages exist, Matplotlib remains ubiquitous, so we might as well have a look."
   ]
  },
  {
   "cell_type": "markdown",
   "metadata": {},
   "source": [
    "If you use matplotlib in a Jupyter notebook, you should make sure to run the following line, which makes plots \"automagically\" appear in the notebook."
   ]
  },
  {
   "cell_type": "code",
   "execution_count": 274,
   "metadata": {},
   "outputs": [],
   "source": [
    "%matplotlib inline"
   ]
  },
  {
   "cell_type": "markdown",
   "metadata": {},
   "source": [
    "The *recommended* way to use Matplotlib is to import the `pyplot` submodule with the `plt` name, like this:"
   ]
  },
  {
   "cell_type": "code",
   "execution_count": 275,
   "metadata": {},
   "outputs": [],
   "source": [
    "from matplotlib import pyplot as plt"
   ]
  },
  {
   "cell_type": "markdown",
   "metadata": {},
   "source": [
    "We will also need Numpy."
   ]
  },
  {
   "cell_type": "code",
   "execution_count": 276,
   "metadata": {},
   "outputs": [],
   "source": [
    "import numpy as np"
   ]
  },
  {
   "cell_type": "markdown",
   "metadata": {},
   "source": [
    "With that, we are good to go. Plotting in Matplotlib usually involves calling several functions in the `plt` module, followed by `plt.show()` to display the final product. Expect a significant amount of back-and-forth to produce something that actually looks *good*, however.\n",
    "\n",
    "Note that in this notebook we do **not** need to call `plt.show()` so long as all our plotting code is confined to one cell. This is due to Jupyter \"magic\". If you use Matplotlib in regular code, don't forget `plt.show()` though."
   ]
  },
  {
   "cell_type": "markdown",
   "metadata": {},
   "source": [
    "## Basic line plots"
   ]
  },
  {
   "cell_type": "markdown",
   "metadata": {},
   "source": [
    "The `plt.plot()` function works similarly to Matlab's `plot`. It takes two arrays of `x` and `y` values."
   ]
  },
  {
   "cell_type": "code",
   "execution_count": 277,
   "metadata": {},
   "outputs": [
    {
     "data": {
      "text/plain": [
       "[<matplotlib.lines.Line2D at 0xcb613c8>]"
      ]
     },
     "execution_count": 277,
     "metadata": {},
     "output_type": "execute_result"
    },
    {
     "data": {
      "image/png": "[encoded data removed]",
      "text/plain": [
       "<Figure size 432x288 with 1 Axes>"
      ]
     },
     "metadata": {},
     "output_type": "display_data"
    }
   ],
   "source": [
    "xpts = np.linspace(0, 4*np.pi, 100)\n",
    "ypts = np.sin(xpts)\n",
    "plt.plot(xpts, ypts)"
   ]
  },
  {
   "cell_type": "markdown",
   "metadata": {},
   "source": [
    "That's simple enough. The `plot` function accepts a number of optional arguments to tweak the details."
   ]
  },
  {
   "cell_type": "code",
   "execution_count": 278,
   "metadata": {},
   "outputs": [
    {
     "data": {
      "text/plain": [
       "[<matplotlib.lines.Line2D at 0xcdbce80>]"
      ]
     },
     "execution_count": 278,
     "metadata": {},
     "output_type": "execute_result"
    },
    {
     "data": {
      "image/png": "[encoded data removed]",
      "text/plain": [
       "<Figure size 432x288 with 1 Axes>"
      ]
     },
     "metadata": {},
     "output_type": "display_data"
    }
   ],
   "source": [
    "plt.plot(xpts, ypts, color='red', linewidth=3, linestyle='dashed')"
   ]
  },
  {
   "cell_type": "markdown",
   "metadata": {},
   "source": [
    "You can see the full range of options by running `plt.plot?` in IPython or the Jupyter notebook, or by going to the [official documentation](https://matplotlib.org/api/pyplot_api.html#matplotlib.pyplot.plot). In fact, why don't you just keep that page open."
   ]
  },
  {
   "cell_type": "markdown",
   "metadata": {},
   "source": [
    "You can call `plt.plot` multiple times."
   ]
  },
  {
   "cell_type": "code",
   "execution_count": 279,
   "metadata": {},
   "outputs": [
    {
     "data": {
      "text/plain": [
       "[<matplotlib.lines.Line2D at 0xce25748>]"
      ]
     },
     "execution_count": 279,
     "metadata": {},
     "output_type": "execute_result"
    },
    {
     "data": {
      "image/png": "[encoded data removed]",
      "text/plain": [
       "<Figure size 432x288 with 1 Axes>"
      ]
     },
     "metadata": {},
     "output_type": "display_data"
    }
   ],
   "source": [
    "plt.plot(xpts, np.sin(xpts), color='red', linewidth=3)\n",
    "plt.plot(xpts, np.cos(xpts), color='blue', linewidth=3)\n",
    "plt.plot(xpts, np.zeros_like(xpts), color='black', linestyle='dashed')"
   ]
  },
  {
   "cell_type": "markdown",
   "metadata": {},
   "source": [
    "Adding a legend to plot."
   ]
  },
  {
   "cell_type": "code",
   "execution_count": 280,
   "metadata": {},
   "outputs": [
    {
     "data": {
      "text/plain": [
       "<matplotlib.legend.Legend at 0xce79ba8>"
      ]
     },
     "execution_count": 280,
     "metadata": {},
     "output_type": "execute_result"
    },
    {
     "data": {
      "image/png": "[encoded data removed]",
      "text/plain": [
       "<Figure size 432x288 with 1 Axes>"
      ]
     },
     "metadata": {},
     "output_type": "display_data"
    }
   ],
   "source": [
    "plt.plot(xpts, np.sin(xpts), color='red', linewidth=3)\n",
    "plt.plot(xpts, np.cos(xpts), color='blue', linewidth=3)\n",
    "plt.plot(xpts, np.zeros_like(xpts), color='black', linestyle='dashed')\n",
    "plt.legend(['sine', 'cosine'])"
   ]
  },
  {
   "cell_type": "markdown",
   "metadata": {},
   "source": [
    "By default the legend picks the first two lines that were drawn. However we can (and should) make this more explicit. Note the comma after `sine` and `cosine`, since the return value of `plt.plot` is a list of lines, rather than a single line. (This is unpacking again!)"
   ]
  },
  {
   "cell_type": "code",
   "execution_count": 281,
   "metadata": {},
   "outputs": [
    {
     "data": {
      "text/plain": [
       "<matplotlib.legend.Legend at 0xcee5da0>"
      ]
     },
     "execution_count": 281,
     "metadata": {},
     "output_type": "execute_result"
    },
    {
     "data": {
      "image/png": "[encoded data removed]",
      "text/plain": [
       "<Figure size 432x288 with 1 Axes>"
      ]
     },
     "metadata": {},
     "output_type": "display_data"
    }
   ],
   "source": [
    "sine, = plt.plot(xpts, np.sin(xpts), color='red', linewidth=3)\n",
    "cosine, = plt.plot(xpts, np.cos(xpts), color='blue', linewidth=3)\n",
    "plt.plot(xpts, np.zeros_like(xpts), color='black', linestyle='dashed')\n",
    "plt.legend([sine, cosine], ['sine', 'cosine'])"
   ]
  },
  {
   "cell_type": "markdown",
   "metadata": {},
   "source": [
    "This also works, and is maybe the best way to do it."
   ]
  },
  {
   "cell_type": "code",
   "execution_count": 282,
   "metadata": {},
   "outputs": [
    {
     "data": {
      "text/plain": [
       "<matplotlib.legend.Legend at 0xd105c50>"
      ]
     },
     "execution_count": 282,
     "metadata": {},
     "output_type": "execute_result"
    },
    {
     "data": {
      "image/png": "[encoded data removed]",
      "text/plain": [
       "<Figure size 432x288 with 1 Axes>"
      ]
     },
     "metadata": {},
     "output_type": "display_data"
    }
   ],
   "source": [
    "sine, = plt.plot(xpts, np.sin(xpts), color='red', linewidth=3)\n",
    "sine.set_label('sine')\n",
    "cosine, = plt.plot(xpts, np.cos(xpts), color='blue', linewidth=3)\n",
    "cosine.set_label('cosine')\n",
    "plt.plot(xpts, np.zeros_like(xpts), color='black', linestyle='dashed')\n",
    "plt.legend()"
   ]
  },
  {
   "cell_type": "markdown",
   "metadata": {},
   "source": [
    "Adjusting the x-axis to fit the frame.\n"
   ]
  },
  {
   "cell_type": "code",
   "execution_count": 284,
   "metadata": {},
   "outputs": [
    {
     "data": {
      "text/plain": [
       "<matplotlib.legend.Legend at 0xd456160>"
      ]
     },
     "execution_count": 284,
     "metadata": {},
     "output_type": "execute_result"
    },
    {
     "data": {
      "image/png": "[encoded data removed]",
      "text/plain": [
       "<Figure size 432x288 with 1 Axes>"
      ]
     },
     "metadata": {},
     "output_type": "display_data"
    }
   ],
   "source": [
    "sine, = plt.plot(xpts, np.sin(xpts), color='red', linewidth=3)\n",
    "sine.set_label('sine')\n",
    "cosine, = plt.plot(xpts, np.cos(xpts), color='blue', linewidth=3)\n",
    "cosine.set_label('cosine')\n",
    "plt.plot(xpts, np.zeros_like(xpts), color='black', linestyle='dashed')\n",
    "plt.xlim(xpts[0], xpts[-1])\n",
    "plt.legend()"
   ]
  },
  {
   "cell_type": "markdown",
   "metadata": {},
   "source": [
    "Setting a custom figure size"
   ]
  },
  {
   "cell_type": "code",
   "execution_count": 285,
   "metadata": {},
   "outputs": [
    {
     "data": {
      "text/plain": [
       "<matplotlib.legend.Legend at 0xd4c4e80>"
      ]
     },
     "execution_count": 285,
     "metadata": {},
     "output_type": "execute_result"
    },
    {
     "data": {
      "image/png": "[encoded data removed]",
      "text/plain": [
       "<Figure size 864x288 with 1 Axes>"
      ]
     },
     "metadata": {},
     "output_type": "display_data"
    }
   ],
   "source": [
    "plt.figure(figsize=(12,4))\n",
    "sine, = plt.plot(xpts, np.sin(xpts), color='red', linewidth=3)\n",
    "sine.set_label('sine')\n",
    "cosine, = plt.plot(xpts, np.cos(xpts), color='blue', linewidth=3)\n",
    "cosine.set_label('cosine')\n",
    "plt.plot(xpts, np.zeros_like(xpts), color='black', linestyle='dashed')\n",
    "plt.xlim(xpts[0], xpts[-1])\n",
    "plt.legend()"
   ]
  },
  {
   "cell_type": "markdown",
   "metadata": {},
   "source": [
    "Adding labels to the axes and a title."
   ]
  },
  {
   "cell_type": "code",
   "execution_count": 288,
   "metadata": {},
   "outputs": [
    {
     "data": {
      "text/plain": [
       "<matplotlib.legend.Legend at 0xe9fb0f0>"
      ]
     },
     "execution_count": 288,
     "metadata": {},
     "output_type": "execute_result"
    },
    {
     "data": {
      "image/png": "[encoded data removed]",
      "text/plain": [
       "<Figure size 864x288 with 1 Axes>"
      ]
     },
     "metadata": {},
     "output_type": "display_data"
    }
   ],
   "source": [
    "plt.figure(figsize=(12,4))\n",
    "sine, = plt.plot(xpts, np.sin(xpts), color='red', linewidth=3)\n",
    "sine.set_label('sine')\n",
    "cosine, = plt.plot(xpts, np.cos(xpts), color='blue', linewidth=3)\n",
    "cosine.set_label('cosine')\n",
    "plt.plot(xpts, np.zeros_like(xpts), color='black', linestyle='dashed')\n",
    "plt.xlim(xpts[0], xpts[-1])\n",
    "plt.xlabel('Time')\n",
    "plt.ylabel('Sine/Cos values')\n",
    "plt.title('Sine/Cos values as a function of time')\n",
    "plt.legend()"
   ]
  },
  {
   "cell_type": "markdown",
   "metadata": {},
   "source": [
    "Adding grid instead of dashed line."
   ]
  },
  {
   "cell_type": "code",
   "execution_count": 290,
   "metadata": {},
   "outputs": [
    {
     "data": {
      "text/plain": [
       "<matplotlib.legend.Legend at 0xeaf4390>"
      ]
     },
     "execution_count": 290,
     "metadata": {},
     "output_type": "execute_result"
    },
    {
     "data": {
      "image/png": "[encoded data removed]",
      "text/plain": [
       "<Figure size 864x288 with 1 Axes>"
      ]
     },
     "metadata": {},
     "output_type": "display_data"
    }
   ],
   "source": [
    "plt.figure(figsize=(12,4))\n",
    "sine, = plt.plot(xpts, np.sin(xpts), color='red', linewidth=3)\n",
    "sine.set_label('sine')\n",
    "cosine, = plt.plot(xpts, np.cos(xpts), color='blue', linewidth=3)\n",
    "cosine.set_label('cosine')\n",
    "plt.xlim(xpts[0], xpts[-1])\n",
    "plt.xlabel('Time')\n",
    "plt.ylabel('Sine/Cos values')\n",
    "plt.title('Sine/Cos values as a function of time')\n",
    "plt.grid()\n",
    "plt.legend()"
   ]
  },
  {
   "cell_type": "markdown",
   "metadata": {},
   "source": [
    "The remainder of this notebook serves as a tour of miscellaneous things that Matplotlib can do. Although the full power of Matplotlib is far greater than what is shown here, this will hopefully suffice for the current course."
   ]
  },
  {
   "cell_type": "markdown",
   "metadata": {},
   "source": [
    "## Logarithmic plots"
   ]
  },
  {
   "cell_type": "markdown",
   "metadata": {},
   "source": [
    "As every scientist knows, there is no greater shame in this world than to present a plot in a linear scale that should be in a logarithmic scale, or vice versa. Matplotlib naturally offers both. Using `grid(which='both')` is often useful to illustrate the logarithmic nature of a log plot."
   ]
  },
  {
   "cell_type": "code",
   "execution_count": 298,
   "metadata": {},
   "outputs": [
    {
     "data": {
      "image/png": "[encoded data removed]",
      "text/plain": [
       "<Figure size 432x288 with 1 Axes>"
      ]
     },
     "metadata": {},
     "output_type": "display_data"
    }
   ],
   "source": [
    "plt.semilogx(xpts, xpts**2)                  # Logarithmic in x\n",
    "plt.grid(which='both')"
   ]
  },
  {
   "cell_type": "code",
   "execution_count": 292,
   "metadata": {},
   "outputs": [
    {
     "data": {
      "image/png": "[encoded data removed]",
      "text/plain": [
       "<Figure size 432x288 with 1 Axes>"
      ]
     },
     "metadata": {},
     "output_type": "display_data"
    }
   ],
   "source": [
    "plt.semilogy(xpts, xpts**2)                  # Logarithmic in y\n",
    "plt.grid(which='both')"
   ]
  },
  {
   "cell_type": "code",
   "execution_count": 299,
   "metadata": {},
   "outputs": [
    {
     "data": {
      "image/png": "[encoded data removed]",
      "text/plain": [
       "<Figure size 432x288 with 1 Axes>"
      ]
     },
     "metadata": {},
     "output_type": "display_data"
    }
   ],
   "source": [
    "plt.loglog(xpts, xpts**2)                    # Logarithmic in both\n",
    "plt.grid(which='both')"
   ]
  },
  {
   "cell_type": "markdown",
   "metadata": {},
   "source": [
    "## Bar plots"
   ]
  },
  {
   "cell_type": "markdown",
   "metadata": {},
   "source": [
    "Plot some random data as Bar plot"
   ]
  },
  {
   "cell_type": "code",
   "execution_count": 303,
   "metadata": {},
   "outputs": [
    {
     "data": {
      "text/plain": [
       "<BarContainer object of 10 artists>"
      ]
     },
     "execution_count": 303,
     "metadata": {},
     "output_type": "execute_result"
    },
    {
     "data": {
      "image/png": "[encoded data removed]",
      "text/plain": [
       "<Figure size 432x288 with 1 Axes>"
      ]
     },
     "metadata": {},
     "output_type": "display_data"
    }
   ],
   "source": [
    "data = np.random.rand(10)\n",
    "plt.bar(np.arange(10), data, tick_label=['H', 'He', 'Li', 'Be', 'B', 'C', 'N', 'O', 'F', 'Ne'])"
   ]
  },
  {
   "cell_type": "markdown",
   "metadata": {},
   "source": [
    "## Stem plots"
   ]
  },
  {
   "cell_type": "code",
   "execution_count": 304,
   "metadata": {},
   "outputs": [
    {
     "data": {
      "text/plain": [
       "<StemContainer object of 3 artists>"
      ]
     },
     "execution_count": 304,
     "metadata": {},
     "output_type": "execute_result"
    },
    {
     "data": {
      "image/png": "[encoded data removed]",
      "text/plain": [
       "<Figure size 432x288 with 1 Axes>"
      ]
     },
     "metadata": {},
     "output_type": "display_data"
    }
   ],
   "source": [
    "plt.stem(np.arange(10), data - 0.5)"
   ]
  },
  {
   "cell_type": "markdown",
   "metadata": {},
   "source": [
    "## Histograms"
   ]
  },
  {
   "cell_type": "markdown",
   "metadata": {},
   "source": [
    "Plotting a histogram. First a random normal distribution data containing of 10000 data points is generated."
   ]
  },
  {
   "cell_type": "code",
   "execution_count": 305,
   "metadata": {},
   "outputs": [
    {
     "data": {
      "image/png": "[encoded data removed]",
      "text/plain": [
       "<Figure size 432x288 with 1 Axes>"
      ]
     },
     "metadata": {},
     "output_type": "display_data"
    }
   ],
   "source": [
    "data = np.random.normal(loc=0, scale=3, size=10000)\n",
    "plt.hist(data);"
   ]
  },
  {
   "cell_type": "markdown",
   "metadata": {},
   "source": [
    "You can modify the number of bins to something more sensible. We can also use `rwidth` to slightly slim the bars a little."
   ]
  },
  {
   "cell_type": "code",
   "execution_count": 307,
   "metadata": {},
   "outputs": [
    {
     "data": {
      "image/png": "[encoded data removed]",
      "text/plain": [
       "<Figure size 432x288 with 1 Axes>"
      ]
     },
     "metadata": {},
     "output_type": "display_data"
    }
   ],
   "source": [
    "plt.hist(data, bins=25, rwidth=0.8);"
   ]
  },
  {
   "cell_type": "markdown",
   "metadata": {},
   "source": [
    "## Box plots"
   ]
  },
  {
   "cell_type": "markdown",
   "metadata": {},
   "source": [
    "Let us use a box plot to illustrate the difference between a number of different probability distributions. We'll draw a thousand samples from each distribution."
   ]
  },
  {
   "cell_type": "code",
   "execution_count": 308,
   "metadata": {},
   "outputs": [
    {
     "data": {
      "image/png": "[encoded data removed]",
      "text/plain": [
       "<Figure size 432x288 with 1 Axes>"
      ]
     },
     "metadata": {},
     "output_type": "display_data"
    }
   ],
   "source": [
    "N = 1000\n",
    "data = np.array([\n",
    "    np.random.standard_normal(N),\n",
    "    np.random.logistic(size=N),\n",
    "    np.random.laplace(size=N),\n",
    "    np.random.gumbel(size=N),\n",
    "]).T\n",
    "\n",
    "plt.boxplot(data, labels=['Normal', 'Logistic', 'Laplace', 'Gumbel']);"
   ]
  },
  {
   "cell_type": "markdown",
   "metadata": {},
   "source": [
    "## Scatter plots"
   ]
  },
  {
   "cell_type": "markdown",
   "metadata": {},
   "source": [
    "Scatter plots are very useful in data analysis to reveal coupling between two data sources. For example, let us create a two-dimensional multi-normal distribution."
   ]
  },
  {
   "cell_type": "code",
   "execution_count": 309,
   "metadata": {},
   "outputs": [
    {
     "name": "stderr",
     "output_type": "stream",
     "text": [
      "C:\\Program Files (x86)\\Microsoft Visual Studio\\Shared\\Anaconda3_64\\lib\\site-packages\\matplotlib\\cbook\\deprecation.py:107: MatplotlibDeprecationWarning: Adding an axes using the same arguments as a previous axes currently reuses the earlier instance.  In a future version, a new instance will always be created and returned.  Meanwhile, this warning can be suppressed, and the future behavior ensured, by passing a unique label to each axes instance.\n",
      "  warnings.warn(message, mplDeprecation, stacklevel=1)\n"
     ]
    },
    {
     "data": {
      "image/png": "[encoded data removed]",
      "text/plain": [
       "<Figure size 360x360 with 1 Axes>"
      ]
     },
     "metadata": {},
     "output_type": "display_data"
    }
   ],
   "source": [
    "# First create a random symmetric positive definite covariance matrix and mean\n",
    "cov = np.random.rand(2,2)\n",
    "cov = cov.T @ cov\n",
    "mean = np.zeros((2,))\n",
    "\n",
    "# Sample the distribution and plot\n",
    "plt.figure(figsize=(5,5))\n",
    "data = np.random.multivariate_normal(mean, cov, 1000)\n",
    "plt.scatter(data.T[0], data.T[1], alpha=0.6)\n",
    "\n",
    "# Plot the principal directions, too\n",
    "eigvals, eigvecs = np.linalg.eigh(cov)\n",
    "eigvecs *= np.sqrt(eigvals) * 3\n",
    "plt.arrow(0, 0, *eigvecs.T[0], head_width=0.15, fc='pink', ec='red')\n",
    "plt.arrow(0, 0, *eigvecs.T[1], head_width=0.15, fc='pink', ec='red')\n",
    "\n",
    "# We need equal aspect ratio\n",
    "plt.axes().set_aspect('equal')"
   ]
  }
 ],
 "metadata": {
  "kernelspec": {
   "display_name": "Python 3 (ipykernel)",
   "language": "python",
   "name": "python3"
  },
  "language_info": {
   "codemirror_mode": {
    "name": "ipython",
    "version": 3
   },
   "file_extension": ".py",
   "mimetype": "text/x-python",
   "name": "python",
   "nbconvert_exporter": "python",
   "pygments_lexer": "ipython3",
   "version": "3.9.8"
  }
 },
 "nbformat": 4,
 "nbformat_minor": 4
}
